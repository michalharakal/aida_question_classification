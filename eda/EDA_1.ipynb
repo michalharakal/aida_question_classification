{
 "cells": [
  {
   "cell_type": "markdown",
   "metadata": {
    "id": "pCyCaq9xV5Tp"
   },
   "source": [
    "# EDA"
   ]
  },
  {
   "cell_type": "markdown",
   "metadata": {
    "id": "hOywAUdvWAC2"
   },
   "source": [
    "https://cogcomp.seas.upenn.edu/Data/QA/QC/definition.html                                        \n",
    "https://cogcomp.seas.upenn.edu/Data/QA/QC/train_5500.label                                               \n",
    "https://cogcomp.seas.upenn.edu/Data/QA/QC/TREC_10.label"
   ]
  },
  {
   "cell_type": "markdown",
   "metadata": {
    "id": "_pOQMVj-BHy9"
   },
   "source": [
    "## Libaries"
   ]
  },
  {
   "cell_type": "code",
   "execution_count": 1,
   "metadata": {
    "id": "-LddWxFSBG5f"
   },
   "outputs": [],
   "source": [
    "import pandas as pd\n",
    "import numpy as np\n",
    "\n",
    "#visualisation\n",
    "import matplotlib.pyplot as plt\n",
    "import seaborn as sns"
   ]
  },
  {
   "cell_type": "code",
   "execution_count": 2,
   "metadata": {
    "colab": {
     "base_uri": "https://localhost:8080/"
    },
    "id": "vtANgZNdV37o",
    "outputId": "b2960677-d8e0-4c5d-a546-fd20af8e6e0e"
   },
   "outputs": [
    {
     "data": {
      "text/html": [
       "<div>\n",
       "<style scoped>\n",
       "    .dataframe tbody tr th:only-of-type {\n",
       "        vertical-align: middle;\n",
       "    }\n",
       "\n",
       "    .dataframe tbody tr th {\n",
       "        vertical-align: top;\n",
       "    }\n",
       "\n",
       "    .dataframe thead th {\n",
       "        text-align: right;\n",
       "    }\n",
       "</style>\n",
       "<table border=\"1\" class=\"dataframe\">\n",
       "  <thead>\n",
       "    <tr style=\"text-align: right;\">\n",
       "      <th></th>\n",
       "      <th>raw</th>\n",
       "      <th>category</th>\n",
       "      <th>subcategory</th>\n",
       "      <th>question</th>\n",
       "    </tr>\n",
       "  </thead>\n",
       "  <tbody>\n",
       "    <tr>\n",
       "      <th>0</th>\n",
       "      <td>DESC:manner How did serfdom develop in and the...</td>\n",
       "      <td>DESC</td>\n",
       "      <td>manner</td>\n",
       "      <td>How did serfdom develop in and then leave Russ...</td>\n",
       "    </tr>\n",
       "    <tr>\n",
       "      <th>1</th>\n",
       "      <td>ENTY:cremat What films featured the character ...</td>\n",
       "      <td>ENTY</td>\n",
       "      <td>cremat</td>\n",
       "      <td>What films featured the character Popeye Doyle ?</td>\n",
       "    </tr>\n",
       "    <tr>\n",
       "      <th>2</th>\n",
       "      <td>DESC:manner How can I find a list of celebriti...</td>\n",
       "      <td>DESC</td>\n",
       "      <td>manner</td>\n",
       "      <td>How can I find a list of celebrities ' real na...</td>\n",
       "    </tr>\n",
       "    <tr>\n",
       "      <th>3</th>\n",
       "      <td>ENTY:animal What fowl grabs the spotlight afte...</td>\n",
       "      <td>ENTY</td>\n",
       "      <td>animal</td>\n",
       "      <td>What fowl grabs the spotlight after the Chines...</td>\n",
       "    </tr>\n",
       "    <tr>\n",
       "      <th>4</th>\n",
       "      <td>ABBR:exp What is the full form of .com ?</td>\n",
       "      <td>ABBR</td>\n",
       "      <td>exp</td>\n",
       "      <td>What is the full form of .com ?</td>\n",
       "    </tr>\n",
       "    <tr>\n",
       "      <th>...</th>\n",
       "      <td>...</td>\n",
       "      <td>...</td>\n",
       "      <td>...</td>\n",
       "      <td>...</td>\n",
       "    </tr>\n",
       "    <tr>\n",
       "      <th>5447</th>\n",
       "      <td>ENTY:other What 's the shape of a camel 's spi...</td>\n",
       "      <td>ENTY</td>\n",
       "      <td>other</td>\n",
       "      <td>What 's the shape of a camel 's spine ?</td>\n",
       "    </tr>\n",
       "    <tr>\n",
       "      <th>5448</th>\n",
       "      <td>ENTY:currency What type of currency is used in...</td>\n",
       "      <td>ENTY</td>\n",
       "      <td>currency</td>\n",
       "      <td>What type of currency is used in China ?</td>\n",
       "    </tr>\n",
       "    <tr>\n",
       "      <th>5449</th>\n",
       "      <td>NUM:temp What is the temperature today ?</td>\n",
       "      <td>NUM</td>\n",
       "      <td>temp</td>\n",
       "      <td>What is the temperature today ?</td>\n",
       "    </tr>\n",
       "    <tr>\n",
       "      <th>5450</th>\n",
       "      <td>NUM:temp What is the temperature for cooking ?</td>\n",
       "      <td>NUM</td>\n",
       "      <td>temp</td>\n",
       "      <td>What is the temperature for cooking ?</td>\n",
       "    </tr>\n",
       "    <tr>\n",
       "      <th>5451</th>\n",
       "      <td>ENTY:currency What currency is used in Austral...</td>\n",
       "      <td>ENTY</td>\n",
       "      <td>currency</td>\n",
       "      <td>What currency is used in Australia ?</td>\n",
       "    </tr>\n",
       "  </tbody>\n",
       "</table>\n",
       "<p>5452 rows × 4 columns</p>\n",
       "</div>"
      ],
      "text/plain": [
       "                                                    raw category subcategory  \\\n",
       "0     DESC:manner How did serfdom develop in and the...     DESC      manner   \n",
       "1     ENTY:cremat What films featured the character ...     ENTY      cremat   \n",
       "2     DESC:manner How can I find a list of celebriti...     DESC      manner   \n",
       "3     ENTY:animal What fowl grabs the spotlight afte...     ENTY      animal   \n",
       "4              ABBR:exp What is the full form of .com ?     ABBR         exp   \n",
       "...                                                 ...      ...         ...   \n",
       "5447  ENTY:other What 's the shape of a camel 's spi...     ENTY       other   \n",
       "5448  ENTY:currency What type of currency is used in...     ENTY    currency   \n",
       "5449           NUM:temp What is the temperature today ?      NUM        temp   \n",
       "5450     NUM:temp What is the temperature for cooking ?      NUM        temp   \n",
       "5451  ENTY:currency What currency is used in Austral...     ENTY    currency   \n",
       "\n",
       "                                               question  \n",
       "0     How did serfdom develop in and then leave Russ...  \n",
       "1      What films featured the character Popeye Doyle ?  \n",
       "2     How can I find a list of celebrities ' real na...  \n",
       "3     What fowl grabs the spotlight after the Chines...  \n",
       "4                       What is the full form of .com ?  \n",
       "...                                                 ...  \n",
       "5447            What 's the shape of a camel 's spine ?  \n",
       "5448           What type of currency is used in China ?  \n",
       "5449                    What is the temperature today ?  \n",
       "5450              What is the temperature for cooking ?  \n",
       "5451               What currency is used in Australia ?  \n",
       "\n",
       "[5452 rows x 4 columns]"
      ]
     },
     "execution_count": 2,
     "metadata": {},
     "output_type": "execute_result"
    }
   ],
   "source": [
    "def process_question(row):\n",
    "   return \" \".join(row.split(\" \")[1:])\n",
    "\n",
    "train_df = pd.read_table(\"https://cogcomp.seas.upenn.edu/Data/QA/QC/train_5500.label\", encoding = \"ISO-8859-1\", header=None)\n",
    "train_df.columns = [\"raw\"]\n",
    "train_df['category'] = train_df.apply (lambda row: row[\"raw\"].split(\":\")[0], axis=1)\n",
    "train_df['subcategory'] = train_df.apply (lambda row: row[\"raw\"].split(\" \")[0].split(\":\")[1], axis=1)\n",
    "train_df['question'] = train_df.apply (lambda row: process_question(row[\"raw\"]), axis=1)\n",
    "\n",
    "train_df"
   ]
  },
  {
   "cell_type": "code",
   "execution_count": 3,
   "metadata": {
    "colab": {
     "base_uri": "https://localhost:8080/",
     "height": 402
    },
    "id": "fwT9pkAZZ5-7",
    "outputId": "6311d7f0-2574-4fc6-8c89-5b6d930c13a9",
    "scrolled": true
   },
   "outputs": [
    {
     "data": {
      "text/html": [
       "<div>\n",
       "<style scoped>\n",
       "    .dataframe tbody tr th:only-of-type {\n",
       "        vertical-align: middle;\n",
       "    }\n",
       "\n",
       "    .dataframe tbody tr th {\n",
       "        vertical-align: top;\n",
       "    }\n",
       "\n",
       "    .dataframe thead th {\n",
       "        text-align: right;\n",
       "    }\n",
       "</style>\n",
       "<table border=\"1\" class=\"dataframe\">\n",
       "  <thead>\n",
       "    <tr style=\"text-align: right;\">\n",
       "      <th></th>\n",
       "      <th>raw</th>\n",
       "      <th>category</th>\n",
       "      <th>subcategory</th>\n",
       "      <th>question</th>\n",
       "    </tr>\n",
       "  </thead>\n",
       "  <tbody>\n",
       "    <tr>\n",
       "      <th>0</th>\n",
       "      <td>NUM:dist How far is it from Denver to Aspen ?</td>\n",
       "      <td>DESC</td>\n",
       "      <td>manner</td>\n",
       "      <td>How did serfdom develop in and then leave Russ...</td>\n",
       "    </tr>\n",
       "    <tr>\n",
       "      <th>1</th>\n",
       "      <td>LOC:city What county is Modesto , California in ?</td>\n",
       "      <td>ENTY</td>\n",
       "      <td>cremat</td>\n",
       "      <td>What films featured the character Popeye Doyle ?</td>\n",
       "    </tr>\n",
       "    <tr>\n",
       "      <th>2</th>\n",
       "      <td>HUM:desc Who was Galileo ?</td>\n",
       "      <td>DESC</td>\n",
       "      <td>manner</td>\n",
       "      <td>How can I find a list of celebrities ' real na...</td>\n",
       "    </tr>\n",
       "    <tr>\n",
       "      <th>3</th>\n",
       "      <td>DESC:def What is an atom ?</td>\n",
       "      <td>ENTY</td>\n",
       "      <td>animal</td>\n",
       "      <td>What fowl grabs the spotlight after the Chines...</td>\n",
       "    </tr>\n",
       "    <tr>\n",
       "      <th>4</th>\n",
       "      <td>NUM:date When did Hawaii become a state ?</td>\n",
       "      <td>ABBR</td>\n",
       "      <td>exp</td>\n",
       "      <td>What is the full form of .com ?</td>\n",
       "    </tr>\n",
       "    <tr>\n",
       "      <th>...</th>\n",
       "      <td>...</td>\n",
       "      <td>...</td>\n",
       "      <td>...</td>\n",
       "      <td>...</td>\n",
       "    </tr>\n",
       "    <tr>\n",
       "      <th>495</th>\n",
       "      <td>HUM:ind Who was the 22nd President of the US ?</td>\n",
       "      <td>ENTY</td>\n",
       "      <td>cremat</td>\n",
       "      <td>What is the Jewish bible called ?</td>\n",
       "    </tr>\n",
       "    <tr>\n",
       "      <th>496</th>\n",
       "      <td>ENTY:currency What is the money they use in Za...</td>\n",
       "      <td>DESC</td>\n",
       "      <td>reason</td>\n",
       "      <td>Why is the grass green ?</td>\n",
       "    </tr>\n",
       "    <tr>\n",
       "      <th>497</th>\n",
       "      <td>NUM:count How many feet in a mile ?</td>\n",
       "      <td>DESC</td>\n",
       "      <td>def</td>\n",
       "      <td>What is a firewall ?</td>\n",
       "    </tr>\n",
       "    <tr>\n",
       "      <th>498</th>\n",
       "      <td>ENTY:substance What is the birthstone of Octob...</td>\n",
       "      <td>HUM</td>\n",
       "      <td>ind</td>\n",
       "      <td>What spy novelist served as Moscow corresponde...</td>\n",
       "    </tr>\n",
       "    <tr>\n",
       "      <th>499</th>\n",
       "      <td>DESC:def What is e-coli ?</td>\n",
       "      <td>HUM</td>\n",
       "      <td>gr</td>\n",
       "      <td>Which oil company almost picked a word that me...</td>\n",
       "    </tr>\n",
       "  </tbody>\n",
       "</table>\n",
       "<p>500 rows × 4 columns</p>\n",
       "</div>"
      ],
      "text/plain": [
       "                                                   raw category subcategory  \\\n",
       "0        NUM:dist How far is it from Denver to Aspen ?     DESC      manner   \n",
       "1    LOC:city What county is Modesto , California in ?     ENTY      cremat   \n",
       "2                           HUM:desc Who was Galileo ?     DESC      manner   \n",
       "3                           DESC:def What is an atom ?     ENTY      animal   \n",
       "4            NUM:date When did Hawaii become a state ?     ABBR         exp   \n",
       "..                                                 ...      ...         ...   \n",
       "495     HUM:ind Who was the 22nd President of the US ?     ENTY      cremat   \n",
       "496  ENTY:currency What is the money they use in Za...     DESC      reason   \n",
       "497                NUM:count How many feet in a mile ?     DESC         def   \n",
       "498  ENTY:substance What is the birthstone of Octob...      HUM         ind   \n",
       "499                          DESC:def What is e-coli ?      HUM          gr   \n",
       "\n",
       "                                              question  \n",
       "0    How did serfdom develop in and then leave Russ...  \n",
       "1     What films featured the character Popeye Doyle ?  \n",
       "2    How can I find a list of celebrities ' real na...  \n",
       "3    What fowl grabs the spotlight after the Chines...  \n",
       "4                      What is the full form of .com ?  \n",
       "..                                                 ...  \n",
       "495                  What is the Jewish bible called ?  \n",
       "496                           Why is the grass green ?  \n",
       "497                               What is a firewall ?  \n",
       "498  What spy novelist served as Moscow corresponde...  \n",
       "499  Which oil company almost picked a word that me...  \n",
       "\n",
       "[500 rows x 4 columns]"
      ]
     },
     "execution_count": 3,
     "metadata": {},
     "output_type": "execute_result"
    }
   ],
   "source": [
    "def process_question(row):\n",
    "   return \" \".join(row.split(\" \")[1:])\n",
    "\n",
    "test_df = pd.read_table(\"https://cogcomp.seas.upenn.edu/Data/QA/QC/TREC_10.label\", encoding = \"ISO-8859-1\", header=None)\n",
    "test_df.columns = [\"raw\"]\n",
    "test_df['category'] = train_df.apply (lambda row: row[\"raw\"].split(\":\")[0], axis=1)\n",
    "test_df['subcategory'] = train_df.apply (lambda row: row[\"raw\"].split(\" \")[0].split(\":\")[1], axis=1)\n",
    "test_df['question'] = train_df.apply (lambda row: process_question(row[\"raw\"]), axis=1)\n",
    "\n",
    "test_df"
   ]
  },
  {
   "cell_type": "code",
   "execution_count": 4,
   "metadata": {},
   "outputs": [
    {
     "data": {
      "text/html": [
       "<div>\n",
       "<style scoped>\n",
       "    .dataframe tbody tr th:only-of-type {\n",
       "        vertical-align: middle;\n",
       "    }\n",
       "\n",
       "    .dataframe tbody tr th {\n",
       "        vertical-align: top;\n",
       "    }\n",
       "\n",
       "    .dataframe thead th {\n",
       "        text-align: right;\n",
       "    }\n",
       "</style>\n",
       "<table border=\"1\" class=\"dataframe\">\n",
       "  <thead>\n",
       "    <tr style=\"text-align: right;\">\n",
       "      <th></th>\n",
       "      <th>raw</th>\n",
       "      <th>category</th>\n",
       "      <th>subcategory</th>\n",
       "      <th>question</th>\n",
       "    </tr>\n",
       "  </thead>\n",
       "  <tbody>\n",
       "    <tr>\n",
       "      <th>count</th>\n",
       "      <td>500</td>\n",
       "      <td>500</td>\n",
       "      <td>500</td>\n",
       "      <td>500</td>\n",
       "    </tr>\n",
       "    <tr>\n",
       "      <th>unique</th>\n",
       "      <td>500</td>\n",
       "      <td>6</td>\n",
       "      <td>38</td>\n",
       "      <td>498</td>\n",
       "    </tr>\n",
       "    <tr>\n",
       "      <th>top</th>\n",
       "      <td>LOC:other What is the deepest lake in the US ?</td>\n",
       "      <td>ENTY</td>\n",
       "      <td>ind</td>\n",
       "      <td>What is the speed of the Mississippi River ?</td>\n",
       "    </tr>\n",
       "    <tr>\n",
       "      <th>freq</th>\n",
       "      <td>1</td>\n",
       "      <td>113</td>\n",
       "      <td>84</td>\n",
       "      <td>3</td>\n",
       "    </tr>\n",
       "  </tbody>\n",
       "</table>\n",
       "</div>"
      ],
      "text/plain": [
       "                                                   raw category subcategory  \\\n",
       "count                                              500      500         500   \n",
       "unique                                             500        6          38   \n",
       "top     LOC:other What is the deepest lake in the US ?     ENTY         ind   \n",
       "freq                                                 1      113          84   \n",
       "\n",
       "                                            question  \n",
       "count                                            500  \n",
       "unique                                           498  \n",
       "top     What is the speed of the Mississippi River ?  \n",
       "freq                                               3  "
      ]
     },
     "execution_count": 4,
     "metadata": {},
     "output_type": "execute_result"
    }
   ],
   "source": [
    "train_df.head(5)\n",
    "train_df.columns  \n",
    "\n",
    "#describe\n",
    "train_df.describe()\n",
    "test_df.describe()"
   ]
  },
  {
   "cell_type": "markdown",
   "metadata": {
    "id": "E83DrFnjw9Y3"
   },
   "source": [
    "\n",
    "## question:\n",
    "    - shape \n",
    "    - size\n",
    "    - info: \n",
    "        count: row, unique categories, subcategories\n",
    "    - witch catagories, subcategories, same in both dataframes\n",
    "    - distribution\n",
    "    - len questions (count token)\n",
    "    \n",
    "\n",
    " "
   ]
  },
  {
   "cell_type": "code",
   "execution_count": 5,
   "metadata": {},
   "outputs": [
    {
     "name": "stdout",
     "output_type": "stream",
     "text": [
      "---shapes---\n",
      "train:\t(5452, 4)\n",
      "test:\t(500, 4)\n"
     ]
    }
   ],
   "source": [
    "# print test, train shape\n",
    "print(f'---shapes---\\ntrain:\\t{train_df.shape}\\ntest:\\t{test_df.shape}')"
   ]
  },
  {
   "cell_type": "code",
   "execution_count": 6,
   "metadata": {},
   "outputs": [
    {
     "name": "stdout",
     "output_type": "stream",
     "text": [
      "train_size:\t21808\n",
      "test_size:\t2000\n"
     ]
    }
   ],
   "source": [
    "# number of row of columns\n",
    "print(f'train_size:\\t{train_df.size}\\ntest_size:\\t{test_df.size}') "
   ]
  },
  {
   "cell_type": "code",
   "execution_count": 7,
   "metadata": {},
   "outputs": [
    {
     "name": "stdout",
     "output_type": "stream",
     "text": [
      "---train---:\n",
      " raw            5382\n",
      "category          6\n",
      "subcategory      47\n",
      "question       5381\n",
      "dtype: int64\n",
      "\n",
      "---test---:\n",
      " raw            500\n",
      "category         6\n",
      "subcategory     38\n",
      "question       498\n",
      "dtype: int64\n"
     ]
    }
   ],
   "source": [
    "# line occupancy    \n",
    "print(f'---train---:\\n {train_df.nunique()}\\n')\n",
    "print(f'---test---:\\n {test_df.nunique()}')"
   ]
  },
  {
   "cell_type": "code",
   "execution_count": 8,
   "metadata": {},
   "outputs": [
    {
     "name": "stdout",
     "output_type": "stream",
     "text": [
      "unique catagories: ['DESC' 'ENTY' 'ABBR' 'HUM' 'NUM' 'LOC']\n"
     ]
    },
    {
     "data": {
      "text/plain": [
       "array([ True,  True,  True,  True,  True,  True])"
      ]
     },
     "execution_count": 8,
     "metadata": {},
     "output_type": "execute_result"
    }
   ],
   "source": [
    "#which categories?\n",
    "print(f\"unique catagories: {train_df['category'].unique()}\")\n",
    "#same categories in train and test?\n",
    "train_df['category'].unique() == test_df['category'].unique()\n"
   ]
  },
  {
   "cell_type": "code",
   "execution_count": 9,
   "metadata": {},
   "outputs": [
    {
     "name": "stdout",
     "output_type": "stream",
     "text": [
      "unique subcatagories: ['manner' 'cremat' 'animal' 'exp' 'ind' 'gr' 'title' 'def' 'date' 'reason'\n",
      " 'event' 'state' 'desc' 'count' 'other' 'letter' 'religion' 'food'\n",
      " 'country' 'color' 'termeq' 'city' 'body' 'dismed' 'mount' 'money'\n",
      " 'product' 'period' 'substance' 'sport' 'plant' 'techmeth' 'volsize'\n",
      " 'instru' 'abb' 'speed' 'word' 'lang' 'perc' 'code' 'dist' 'temp' 'symbol'\n",
      " 'ord' 'veh' 'weight' 'currency']\n"
     ]
    }
   ],
   "source": [
    "# load dictionary as dict\n",
    "#which categories are not used?.\n",
    "#which categories are used in train and test?\n",
    "\n",
    "print(f\"unique subcatagories: {train_df['subcategory'].unique()}\")\n",
    "\n",
    "\n",
    "\n"
   ]
  },
  {
   "cell_type": "code",
   "execution_count": 10,
   "metadata": {},
   "outputs": [
    {
     "name": "stdout",
     "output_type": "stream",
     "text": [
      "category\n",
      "ABBR      86\n",
      "DESC    1162\n",
      "ENTY    1250\n",
      "HUM     1223\n",
      "LOC      835\n",
      "NUM      896\n",
      "Name: subcategory, dtype: int64\n"
     ]
    },
    {
     "data": {
      "image/png": "[encoded data removed]",
      "text/plain": [
       "<Figure size 432x288 with 1 Axes>"
      ]
     },
     "metadata": {},
     "output_type": "display_data"
    }
   ],
   "source": [
    "# distribution categories (train)\n",
    "dist_train_cat = train_df.groupby('category')['subcategory'].count()\n",
    "print(dist_train_cat)\n",
    "dist_train_cat.sort_values(ascending=False)\n",
    "\n",
    "#visualisation \n",
    "dist_train_cat.plot.pie()\n",
    "plt.title('Distribution catagories (train)')\n",
    "plt.show()\n"
   ]
  },
  {
   "cell_type": "code",
   "execution_count": 11,
   "metadata": {},
   "outputs": [
    {
     "data": {
      "text/plain": [
       "array([  86, 1162, 1250, 1223,  835,  896])"
      ]
     },
     "execution_count": 11,
     "metadata": {},
     "output_type": "execute_result"
    }
   ],
   "source": [
    "type(dist_train_cat)\n",
    "dist_train_cat.values"
   ]
  },
  {
   "cell_type": "code",
   "execution_count": 12,
   "metadata": {},
   "outputs": [
    {
     "data": {
      "image/png": "[encoded data removed]",
      "text/plain": [
       "<Figure size 432x288 with 1 Axes>"
      ]
     },
     "metadata": {},
     "output_type": "display_data"
    }
   ],
   "source": [
    "plt.pie(dist_train_cat,labels=dist_train_cat.index, autopct='%1.0f%%', pctdistance=1.15, labeldistance=1.3) \n",
    "plt.title('Distribution catagories (train)')\n",
    "plt.show()"
   ]
  },
  {
   "cell_type": "code",
   "execution_count": 13,
   "metadata": {},
   "outputs": [
    {
     "data": {
      "image/png": "[encoded data removed]",
      "text/plain": [
       "<Figure size 432x288 with 1 Axes>"
      ]
     },
     "metadata": {},
     "output_type": "display_data"
    }
   ],
   "source": [
    "# Pie chart, where the slices will show the max_categorie:\n",
    "labels=dist_train_cat.index\n",
    "sizes = dist_train_cat\n",
    "explode = (0, 0, 0.1, 0, 0, 0)  # only \"explode\" the 3nd slice (max_categorie)\n",
    "\n",
    "fig1, ax1 = plt.subplots()\n",
    "ax1.pie(dist_train_cat, explode=explode, labels=labels, autopct='%1.1f%%',\n",
    "        shadow=True, startangle=90)\n",
    "ax1.axis('equal')  # Equal aspect ratio ensures that pie is drawn as a circle.\n",
    "plt.title('Distribution categories (train)')\n",
    "plt.show()"
   ]
  },
  {
   "cell_type": "code",
   "execution_count": 14,
   "metadata": {},
   "outputs": [
    {
     "name": "stdout",
     "output_type": "stream",
     "text": [
      "category\n",
      "ABBR     11\n",
      "DESC    113\n",
      "ENTY    113\n",
      "HUM     110\n",
      "LOC      78\n",
      "NUM      75\n",
      "Name: subcategory, dtype: int64\n"
     ]
    },
    {
     "data": {
      "image/png": "[encoded data removed]",
      "text/plain": [
       "<Figure size 432x288 with 1 Axes>"
      ]
     },
     "metadata": {},
     "output_type": "display_data"
    }
   ],
   "source": [
    "# distribution categories (test)\n",
    "dist_test_cat = test_df.groupby('category')['subcategory'].count()\n",
    "dist_test_cat.sort_values(ascending=False)\n",
    "print(dist_test_cat)\n",
    "\n",
    "plt.pie(dist_test_cat,labels=dist_test_cat.index, autopct='%1.0f%%', pctdistance=1.15, labeldistance=1.3) \n",
    "plt.title('Distribution categories (test)')\n",
    "plt.show()"
   ]
  },
  {
   "cell_type": "code",
   "execution_count": 15,
   "metadata": {},
   "outputs": [
    {
     "data": {
      "image/png": "[encoded data removed]",
      "text/plain": [
       "<Figure size 432x288 with 1 Axes>"
      ]
     },
     "metadata": {},
     "output_type": "display_data"
    }
   ],
   "source": [
    "# Pie chart, where the slices will show the max_categorie:\n",
    "labels=dist_test_cat.index\n",
    "sizes = dist_test_cat\n",
    "explode = (0, 0.1, 0.1, 0, 0, 0)  # only \"explode\" the slice (max_categorie)\n",
    "\n",
    "fig1, ax1 = plt.subplots()\n",
    "ax1.pie(dist_test_cat, explode=explode, labels=labels, autopct='%1.1f%%',\n",
    "        shadow=True, startangle=90)\n",
    "ax1.axis('equal')  # Equal aspect ratio ensures that pie is drawn as a circle.\n",
    "plt.title('Distribution categories (test)')\n",
    "plt.show()"
   ]
  },
  {
   "cell_type": "code",
   "execution_count": 16,
   "metadata": {},
   "outputs": [
    {
     "name": "stdout",
     "output_type": "stream",
     "text": [
      "category  subcategory\n",
      "ABBR      exp             70\n",
      "          abb             16\n",
      "DESC      def            421\n",
      "          manner         276\n",
      "          desc           274\n",
      "          reason         191\n",
      "ENTY      other          217\n",
      "          cremat         207\n",
      "          animal         112\n",
      "          dismed         103\n",
      "          food           103\n",
      "          termeq          93\n",
      "          sport           62\n",
      "          event           56\n",
      "          product         42\n",
      "          substance       41\n",
      "          color           40\n",
      "          techmeth        38\n",
      "          veh             27\n",
      "          word            26\n",
      "          body            16\n",
      "          lang            16\n",
      "          plant           13\n",
      "          symbol          11\n",
      "          instru          10\n",
      "          letter           9\n",
      "          currency         4\n",
      "          religion         4\n",
      "HUM       ind            962\n",
      "          gr             189\n",
      "          desc            47\n",
      "          title           25\n",
      "LOC       other          464\n",
      "          country        155\n",
      "          city           129\n",
      "          state           66\n",
      "          mount           21\n",
      "NUM       count          363\n",
      "          date           218\n",
      "          period          75\n",
      "          money           71\n",
      "          other           52\n",
      "          dist            34\n",
      "          perc            27\n",
      "          volsize         13\n",
      "          weight          11\n",
      "          code             9\n",
      "          speed            9\n",
      "          temp             8\n",
      "          ord              6\n",
      "Name: subcategory, dtype: int64\n"
     ]
    }
   ],
   "source": [
    "# distribution subcategories (train)\n",
    "dist_train_sub = train_df.subcategory.groupby(train_df['category']).value_counts()\n",
    "print(dist_train_sub)"
   ]
  },
  {
   "cell_type": "code",
   "execution_count": 17,
   "metadata": {},
   "outputs": [
    {
     "name": "stdout",
     "output_type": "stream",
     "text": [
      "first 20: category  subcategory\n",
      "HUM       ind            962\n",
      "LOC       other          464\n",
      "DESC      def            421\n",
      "NUM       count          363\n",
      "DESC      manner         276\n",
      "          desc           274\n",
      "NUM       date           218\n",
      "ENTY      other          217\n",
      "          cremat         207\n",
      "DESC      reason         191\n",
      "HUM       gr             189\n",
      "LOC       country        155\n",
      "          city           129\n",
      "ENTY      animal         112\n",
      "          dismed         103\n",
      "          food           103\n",
      "          termeq          93\n",
      "NUM       period          75\n",
      "          money           71\n",
      "ABBR      exp             70\n",
      "Name: subcategory, dtype: int64\n"
     ]
    }
   ],
   "source": [
    "#first 20 subcategories\n",
    "print(f'first 20: {dist_train_sub.sort_values(ascending=False)[:20]}')"
   ]
  },
  {
   "cell_type": "code",
   "execution_count": 18,
   "metadata": {
    "colab": {
     "base_uri": "https://localhost:8080/"
    },
    "id": "3eGX-t4toQvK",
    "outputId": "5ac99bd6-ffb7-44a8-b3df-cd39c03c10c9"
   },
   "outputs": [
    {
     "data": {
      "image/png": "[encoded data removed]",
      "text/plain": [
       "<Figure size 864x432 with 1 Axes>"
      ]
     },
     "metadata": {
      "needs_background": "light"
     },
     "output_type": "display_data"
    }
   ],
   "source": [
    "fig= plt.figure(figsize=(12,6))\n",
    "dist_train_sub.sort_values(ascending=False).plot.bar(label='train')\n",
    "plt.ylabel('count question')\n",
    "plt.title('Distribution subcategories (train)')\n",
    "plt.show()"
   ]
  },
  {
   "cell_type": "code",
   "execution_count": 19,
   "metadata": {
    "colab": {
     "base_uri": "https://localhost:8080/"
    },
    "id": "peTqIjxGpkIW",
    "outputId": "a3fccc6a-6e4b-4f90-a981-ca55aed6a778"
   },
   "outputs": [
    {
     "name": "stdout",
     "output_type": "stream",
     "text": [
      "category  subcategory\n",
      "ABBR      exp             9\n",
      "          abb             2\n",
      "DESC      def            40\n",
      "          manner         29\n",
      "          desc           23\n",
      "          reason         21\n",
      "ENTY      other          22\n",
      "          cremat         21\n",
      "          animal         16\n",
      "          food            7\n",
      "          termeq          7\n",
      "          dismed          6\n",
      "          techmeth        6\n",
      "          body            5\n",
      "          event           5\n",
      "          color           3\n",
      "          product         3\n",
      "          sport           3\n",
      "          instru          2\n",
      "          substance       2\n",
      "          lang            1\n",
      "          letter          1\n",
      "          plant           1\n",
      "          religion        1\n",
      "          word            1\n",
      "HUM       ind            84\n",
      "          gr             21\n",
      "          desc            3\n",
      "          title           2\n",
      "LOC       other          41\n",
      "          city           12\n",
      "          country        12\n",
      "          state           8\n",
      "          mount           5\n",
      "NUM       count          31\n",
      "          date           29\n",
      "          other           5\n",
      "          money           4\n",
      "          speed           3\n",
      "          volsize         2\n",
      "          period          1\n",
      "Name: subcategory, dtype: int64\n"
     ]
    }
   ],
   "source": [
    "# distribution subcategories (test)\n",
    "dist_test_sub = test_df.subcategory.groupby(test_df['category']).value_counts()\n",
    "print(dist_test_sub)\n"
   ]
  },
  {
   "cell_type": "code",
   "execution_count": 20,
   "metadata": {
    "colab": {
     "base_uri": "https://localhost:8080/",
     "height": 350
    },
    "id": "AzblExVaohF7",
    "outputId": "c6a661a6-afd4-436a-e935-022f8a803b55"
   },
   "outputs": [
    {
     "name": "stdout",
     "output_type": "stream",
     "text": [
      "first 20: category  subcategory\n",
      "HUM       ind            962\n",
      "LOC       other          464\n",
      "DESC      def            421\n",
      "NUM       count          363\n",
      "DESC      manner         276\n",
      "          desc           274\n",
      "NUM       date           218\n",
      "ENTY      other          217\n",
      "          cremat         207\n",
      "DESC      reason         191\n",
      "HUM       gr             189\n",
      "LOC       country        155\n",
      "          city           129\n",
      "ENTY      animal         112\n",
      "          dismed         103\n",
      "          food           103\n",
      "          termeq          93\n",
      "NUM       period          75\n",
      "          money           71\n",
      "ABBR      exp             70\n",
      "Name: subcategory, dtype: int64\n"
     ]
    }
   ],
   "source": [
    "print(f'first 20: {dist_train_sub.sort_values(ascending=False)[:20]}')"
   ]
  },
  {
   "cell_type": "code",
   "execution_count": 21,
   "metadata": {
    "colab": {
     "base_uri": "https://localhost:8080/",
     "height": 221
    },
    "id": "eKNnqt2LCeRh",
    "outputId": "4eace0a0-ca56-4748-f83b-07c8a2399706"
   },
   "outputs": [
    {
     "data": {
      "image/png": "[encoded data removed]",
      "text/plain": [
       "<Figure size 864x432 with 1 Axes>"
      ]
     },
     "metadata": {
      "needs_background": "light"
     },
     "output_type": "display_data"
    }
   ],
   "source": [
    "fig= plt.figure(figsize=(12,6))\n",
    "dist_test_sub.sort_values(ascending=False).plot.bar(label='test')\n",
    "plt.ylabel('count question')\n",
    "plt.title('Distribution subcategories (test)')\n",
    "plt.show()"
   ]
  },
  {
   "cell_type": "code",
   "execution_count": 22,
   "metadata": {
    "colab": {
     "base_uri": "https://localhost:8080/"
    },
    "id": "aPwtZ9-lszTb",
    "outputId": "044fb10e-e76c-464d-d13d-e87c5404f2ed"
   },
   "outputs": [],
   "source": [
    "#plt.gca().set_xticklabels(xtickvals[::6], rotation=90, fontdict={'horizontalalignment': 'center', 'verticalalignment': 'center_baseline'})"
   ]
  },
  {
   "cell_type": "code",
   "execution_count": 23,
   "metadata": {
    "colab": {
     "base_uri": "https://localhost:8080/",
     "height": 264
    },
    "id": "RPsfzSrdtUu3",
    "outputId": "71646412-847c-4ed3-8eb8-0f6504d754ee"
   },
   "outputs": [
    {
     "name": "stdout",
     "output_type": "stream",
     "text": [
      "The 14 largest subcategories account for a proportion of 0.8033749082905356\n"
     ]
    }
   ],
   "source": [
    "#test_df with only 38 subcategories compared to 47 in train_df\n",
    "n = 14   #input for nlargest\n",
    "train_df.subcategory.value_counts().nlargest(n).sum()\n",
    "\n",
    "p = (train_df.subcategory.value_counts().nlargest(n).sum())/len(train_df)\n",
    "print(f'The {n} largest subcategories account for a proportion of {p}')"
   ]
  },
  {
   "cell_type": "code",
   "execution_count": 24,
   "metadata": {
    "colab": {
     "base_uri": "https://localhost:8080/",
     "height": 1000
    },
    "id": "Vts8uXHDDQg7",
    "outputId": "0e7c7326-2e32-45c8-c85f-4c325d96af21"
   },
   "outputs": [
    {
     "name": "stdout",
     "output_type": "stream",
     "text": [
      "The 14 largest subcategories have 4380 questions.\n"
     ]
    }
   ],
   "source": [
    "train_df.subcategory.value_counts().nlargest(n)\n",
    "\n",
    "top_subcategories = list((train_df.subcategory.value_counts().nlargest(n)).index)\n",
    "top_subcategories\n",
    "\n",
    "train_df_top = train_df.loc[train_df['subcategory'].isin(top_subcategories)]\n",
    "print(f'The {n} largest subcategories have {len(train_df_top)} questions.')"
   ]
  },
  {
   "cell_type": "code",
   "execution_count": 25,
   "metadata": {
    "colab": {
     "base_uri": "https://localhost:8080/",
     "height": 264
    },
    "id": "r8CPOMSQuqTT",
    "outputId": "6b620f3a-7dd3-442b-9ad3-35e0dfe95df8"
   },
   "outputs": [
    {
     "data": {
      "text/plain": [
       "ind          84\n",
       "other        68\n",
       "def          40\n",
       "count        31\n",
       "manner       29\n",
       "date         29\n",
       "desc         26\n",
       "reason       21\n",
       "cremat       21\n",
       "gr           21\n",
       "animal       16\n",
       "city         12\n",
       "country      12\n",
       "exp           9\n",
       "state         8\n",
       "termeq        7\n",
       "food          7\n",
       "techmeth      6\n",
       "dismed        6\n",
       "mount         5\n",
       "event         5\n",
       "body          5\n",
       "money         4\n",
       "product       3\n",
       "color         3\n",
       "sport         3\n",
       "speed         3\n",
       "substance     2\n",
       "title         2\n",
       "volsize       2\n",
       "abb           2\n",
       "instru        2\n",
       "plant         1\n",
       "word          1\n",
       "lang          1\n",
       "religion      1\n",
       "period        1\n",
       "letter        1\n",
       "Name: subcategory, dtype: int64"
      ]
     },
     "execution_count": 25,
     "metadata": {},
     "output_type": "execute_result"
    }
   ],
   "source": [
    "train_df_top.sample(10)\n",
    "train_df_top.subcategory.groupby(train_df['category']).value_counts()\n",
    "\n",
    "#More than 80% of the data can be assigned to only 14 out of 47 subcategories in train_df\n",
    "\n",
    "test_df.subcategory.value_counts().nlargest(39)"
   ]
  },
  {
   "cell_type": "code",
   "execution_count": 26,
   "metadata": {
    "colab": {
     "base_uri": "https://localhost:8080/",
     "height": 1000
    },
    "id": "iAelLyXJDMyE",
    "outputId": "7c22eab1-6247-4581-bdae-05169cd6352f"
   },
   "outputs": [
    {
     "data": {
      "image/png": "[encoded data removed]",
      "text/plain": [
       "<Figure size 432x288 with 1 Axes>"
      ]
     },
     "metadata": {
      "needs_background": "light"
     },
     "output_type": "display_data"
    }
   ],
   "source": [
    "#len text\n",
    "plt.hist(train_df['question'].apply(lambda text: len(text.split())))\n",
    "plt.xlabel('number of token')\n",
    "plt.ylabel('number of question')\n",
    "plt.title('Length of questions (train)')\n",
    "plt.show()"
   ]
  },
  {
   "cell_type": "code",
   "execution_count": 27,
   "metadata": {},
   "outputs": [
    {
     "data": {
      "image/png": "[encoded data removed]",
      "text/plain": [
       "<Figure size 432x288 with 1 Axes>"
      ]
     },
     "metadata": {
      "needs_background": "light"
     },
     "output_type": "display_data"
    }
   ],
   "source": [
    "#len text in test_df.question\n",
    "plt.hist(test_df['question'].apply(lambda text: len(text.split())))\n",
    "plt.xlabel('number of token')\n",
    "plt.ylabel('number of question')\n",
    "plt.title('Length of questions (test)');"
   ]
  },
  {
   "cell_type": "code",
   "execution_count": 28,
   "metadata": {},
   "outputs": [
    {
     "data": {
      "image/png": "[encoded data removed]",
      "text/plain": [
       "<Figure size 432x288 with 1 Axes>"
      ]
     },
     "metadata": {
      "needs_background": "light"
     },
     "output_type": "display_data"
    }
   ],
   "source": [
    "ax1 = plt.hist(train_df['question'].apply(lambda text: len(text.split())),label='train')\n",
    "ax2 = plt.hist(test_df['question'].apply(lambda text: len(text.split())), label='test')\n",
    "plt.legend()\n",
    "plt.xlabel('number of token')\n",
    "plt.ylabel('number of question per data set')\n",
    "plt.title('Length of questions')\n",
    "plt.show()"
   ]
  },
  {
   "cell_type": "code",
   "execution_count": 29,
   "metadata": {},
   "outputs": [
    {
     "name": "stdout",
     "output_type": "stream",
     "text": [
      "The questions in the train data set have an average of 10 tokens, and 10 tokens in the test data set.\n"
     ]
    }
   ],
   "source": [
    "#average length of question\n",
    "al_train = round(train_df['question'].apply(lambda text: len(text.split())).mean())\n",
    "al_test = round(test_df['question'].apply(lambda text: len(text.split())).mean())\n",
    "print(f'The questions in the train data set have an average of {al_train} tokens,\\\n",
    " and {al_test} tokens in the test data set.')"
   ]
  },
  {
   "cell_type": "code",
   "execution_count": 30,
   "metadata": {},
   "outputs": [
    {
     "data": {
      "text/html": [
       "<div>\n",
       "<style scoped>\n",
       "    .dataframe tbody tr th:only-of-type {\n",
       "        vertical-align: middle;\n",
       "    }\n",
       "\n",
       "    .dataframe tbody tr th {\n",
       "        vertical-align: top;\n",
       "    }\n",
       "\n",
       "    .dataframe thead th {\n",
       "        text-align: right;\n",
       "    }\n",
       "</style>\n",
       "<table border=\"1\" class=\"dataframe\">\n",
       "  <thead>\n",
       "    <tr style=\"text-align: right;\">\n",
       "      <th></th>\n",
       "      <th>0</th>\n",
       "      <th>1</th>\n",
       "      <th>2</th>\n",
       "      <th>3</th>\n",
       "      <th>4</th>\n",
       "      <th>5</th>\n",
       "      <th>6</th>\n",
       "      <th>7</th>\n",
       "      <th>8</th>\n",
       "      <th>9</th>\n",
       "      <th>...</th>\n",
       "      <th>27</th>\n",
       "      <th>28</th>\n",
       "      <th>29</th>\n",
       "      <th>30</th>\n",
       "      <th>31</th>\n",
       "      <th>32</th>\n",
       "      <th>33</th>\n",
       "      <th>34</th>\n",
       "      <th>35</th>\n",
       "      <th>36</th>\n",
       "    </tr>\n",
       "  </thead>\n",
       "  <tbody>\n",
       "    <tr>\n",
       "      <th>0</th>\n",
       "      <td>How</td>\n",
       "      <td>did</td>\n",
       "      <td>serfdom</td>\n",
       "      <td>develop</td>\n",
       "      <td>in</td>\n",
       "      <td>and</td>\n",
       "      <td>then</td>\n",
       "      <td>leave</td>\n",
       "      <td>Russia</td>\n",
       "      <td>?</td>\n",
       "      <td>...</td>\n",
       "      <td>None</td>\n",
       "      <td>None</td>\n",
       "      <td>None</td>\n",
       "      <td>None</td>\n",
       "      <td>None</td>\n",
       "      <td>None</td>\n",
       "      <td>None</td>\n",
       "      <td>None</td>\n",
       "      <td>None</td>\n",
       "      <td>None</td>\n",
       "    </tr>\n",
       "    <tr>\n",
       "      <th>1</th>\n",
       "      <td>What</td>\n",
       "      <td>films</td>\n",
       "      <td>featured</td>\n",
       "      <td>the</td>\n",
       "      <td>character</td>\n",
       "      <td>Popeye</td>\n",
       "      <td>Doyle</td>\n",
       "      <td>?</td>\n",
       "      <td>None</td>\n",
       "      <td>None</td>\n",
       "      <td>...</td>\n",
       "      <td>None</td>\n",
       "      <td>None</td>\n",
       "      <td>None</td>\n",
       "      <td>None</td>\n",
       "      <td>None</td>\n",
       "      <td>None</td>\n",
       "      <td>None</td>\n",
       "      <td>None</td>\n",
       "      <td>None</td>\n",
       "      <td>None</td>\n",
       "    </tr>\n",
       "    <tr>\n",
       "      <th>2</th>\n",
       "      <td>How</td>\n",
       "      <td>can</td>\n",
       "      <td>I</td>\n",
       "      <td>find</td>\n",
       "      <td>a</td>\n",
       "      <td>list</td>\n",
       "      <td>of</td>\n",
       "      <td>celebrities</td>\n",
       "      <td>'</td>\n",
       "      <td>real</td>\n",
       "      <td>...</td>\n",
       "      <td>None</td>\n",
       "      <td>None</td>\n",
       "      <td>None</td>\n",
       "      <td>None</td>\n",
       "      <td>None</td>\n",
       "      <td>None</td>\n",
       "      <td>None</td>\n",
       "      <td>None</td>\n",
       "      <td>None</td>\n",
       "      <td>None</td>\n",
       "    </tr>\n",
       "    <tr>\n",
       "      <th>3</th>\n",
       "      <td>What</td>\n",
       "      <td>fowl</td>\n",
       "      <td>grabs</td>\n",
       "      <td>the</td>\n",
       "      <td>spotlight</td>\n",
       "      <td>after</td>\n",
       "      <td>the</td>\n",
       "      <td>Chinese</td>\n",
       "      <td>Year</td>\n",
       "      <td>of</td>\n",
       "      <td>...</td>\n",
       "      <td>None</td>\n",
       "      <td>None</td>\n",
       "      <td>None</td>\n",
       "      <td>None</td>\n",
       "      <td>None</td>\n",
       "      <td>None</td>\n",
       "      <td>None</td>\n",
       "      <td>None</td>\n",
       "      <td>None</td>\n",
       "      <td>None</td>\n",
       "    </tr>\n",
       "    <tr>\n",
       "      <th>4</th>\n",
       "      <td>What</td>\n",
       "      <td>is</td>\n",
       "      <td>the</td>\n",
       "      <td>full</td>\n",
       "      <td>form</td>\n",
       "      <td>of</td>\n",
       "      <td>.com</td>\n",
       "      <td>?</td>\n",
       "      <td>None</td>\n",
       "      <td>None</td>\n",
       "      <td>...</td>\n",
       "      <td>None</td>\n",
       "      <td>None</td>\n",
       "      <td>None</td>\n",
       "      <td>None</td>\n",
       "      <td>None</td>\n",
       "      <td>None</td>\n",
       "      <td>None</td>\n",
       "      <td>None</td>\n",
       "      <td>None</td>\n",
       "      <td>None</td>\n",
       "    </tr>\n",
       "    <tr>\n",
       "      <th>...</th>\n",
       "      <td>...</td>\n",
       "      <td>...</td>\n",
       "      <td>...</td>\n",
       "      <td>...</td>\n",
       "      <td>...</td>\n",
       "      <td>...</td>\n",
       "      <td>...</td>\n",
       "      <td>...</td>\n",
       "      <td>...</td>\n",
       "      <td>...</td>\n",
       "      <td>...</td>\n",
       "      <td>...</td>\n",
       "      <td>...</td>\n",
       "      <td>...</td>\n",
       "      <td>...</td>\n",
       "      <td>...</td>\n",
       "      <td>...</td>\n",
       "      <td>...</td>\n",
       "      <td>...</td>\n",
       "      <td>...</td>\n",
       "      <td>...</td>\n",
       "    </tr>\n",
       "    <tr>\n",
       "      <th>5447</th>\n",
       "      <td>What</td>\n",
       "      <td>'s</td>\n",
       "      <td>the</td>\n",
       "      <td>shape</td>\n",
       "      <td>of</td>\n",
       "      <td>a</td>\n",
       "      <td>camel</td>\n",
       "      <td>'s</td>\n",
       "      <td>spine</td>\n",
       "      <td>?</td>\n",
       "      <td>...</td>\n",
       "      <td>None</td>\n",
       "      <td>None</td>\n",
       "      <td>None</td>\n",
       "      <td>None</td>\n",
       "      <td>None</td>\n",
       "      <td>None</td>\n",
       "      <td>None</td>\n",
       "      <td>None</td>\n",
       "      <td>None</td>\n",
       "      <td>None</td>\n",
       "    </tr>\n",
       "    <tr>\n",
       "      <th>5448</th>\n",
       "      <td>What</td>\n",
       "      <td>type</td>\n",
       "      <td>of</td>\n",
       "      <td>currency</td>\n",
       "      <td>is</td>\n",
       "      <td>used</td>\n",
       "      <td>in</td>\n",
       "      <td>China</td>\n",
       "      <td>?</td>\n",
       "      <td>None</td>\n",
       "      <td>...</td>\n",
       "      <td>None</td>\n",
       "      <td>None</td>\n",
       "      <td>None</td>\n",
       "      <td>None</td>\n",
       "      <td>None</td>\n",
       "      <td>None</td>\n",
       "      <td>None</td>\n",
       "      <td>None</td>\n",
       "      <td>None</td>\n",
       "      <td>None</td>\n",
       "    </tr>\n",
       "    <tr>\n",
       "      <th>5449</th>\n",
       "      <td>What</td>\n",
       "      <td>is</td>\n",
       "      <td>the</td>\n",
       "      <td>temperature</td>\n",
       "      <td>today</td>\n",
       "      <td>?</td>\n",
       "      <td>None</td>\n",
       "      <td>None</td>\n",
       "      <td>None</td>\n",
       "      <td>None</td>\n",
       "      <td>...</td>\n",
       "      <td>None</td>\n",
       "      <td>None</td>\n",
       "      <td>None</td>\n",
       "      <td>None</td>\n",
       "      <td>None</td>\n",
       "      <td>None</td>\n",
       "      <td>None</td>\n",
       "      <td>None</td>\n",
       "      <td>None</td>\n",
       "      <td>None</td>\n",
       "    </tr>\n",
       "    <tr>\n",
       "      <th>5450</th>\n",
       "      <td>What</td>\n",
       "      <td>is</td>\n",
       "      <td>the</td>\n",
       "      <td>temperature</td>\n",
       "      <td>for</td>\n",
       "      <td>cooking</td>\n",
       "      <td>?</td>\n",
       "      <td>None</td>\n",
       "      <td>None</td>\n",
       "      <td>None</td>\n",
       "      <td>...</td>\n",
       "      <td>None</td>\n",
       "      <td>None</td>\n",
       "      <td>None</td>\n",
       "      <td>None</td>\n",
       "      <td>None</td>\n",
       "      <td>None</td>\n",
       "      <td>None</td>\n",
       "      <td>None</td>\n",
       "      <td>None</td>\n",
       "      <td>None</td>\n",
       "    </tr>\n",
       "    <tr>\n",
       "      <th>5451</th>\n",
       "      <td>What</td>\n",
       "      <td>currency</td>\n",
       "      <td>is</td>\n",
       "      <td>used</td>\n",
       "      <td>in</td>\n",
       "      <td>Australia</td>\n",
       "      <td>?</td>\n",
       "      <td>None</td>\n",
       "      <td>None</td>\n",
       "      <td>None</td>\n",
       "      <td>...</td>\n",
       "      <td>None</td>\n",
       "      <td>None</td>\n",
       "      <td>None</td>\n",
       "      <td>None</td>\n",
       "      <td>None</td>\n",
       "      <td>None</td>\n",
       "      <td>None</td>\n",
       "      <td>None</td>\n",
       "      <td>None</td>\n",
       "      <td>None</td>\n",
       "    </tr>\n",
       "  </tbody>\n",
       "</table>\n",
       "<p>5452 rows × 37 columns</p>\n",
       "</div>"
      ],
      "text/plain": [
       "        0         1         2            3          4          5      6   \\\n",
       "0      How       did   serfdom      develop         in        and   then   \n",
       "1     What     films  featured          the  character     Popeye  Doyle   \n",
       "2      How       can         I         find          a       list     of   \n",
       "3     What      fowl     grabs          the  spotlight      after    the   \n",
       "4     What        is       the         full       form         of   .com   \n",
       "...    ...       ...       ...          ...        ...        ...    ...   \n",
       "5447  What        's       the        shape         of          a  camel   \n",
       "5448  What      type        of     currency         is       used     in   \n",
       "5449  What        is       the  temperature      today          ?   None   \n",
       "5450  What        is       the  temperature        for    cooking      ?   \n",
       "5451  What  currency        is         used         in  Australia      ?   \n",
       "\n",
       "               7       8     9   ...    27    28    29    30    31    32  \\\n",
       "0           leave  Russia     ?  ...  None  None  None  None  None  None   \n",
       "1               ?    None  None  ...  None  None  None  None  None  None   \n",
       "2     celebrities       '  real  ...  None  None  None  None  None  None   \n",
       "3         Chinese    Year    of  ...  None  None  None  None  None  None   \n",
       "4               ?    None  None  ...  None  None  None  None  None  None   \n",
       "...           ...     ...   ...  ...   ...   ...   ...   ...   ...   ...   \n",
       "5447           's   spine     ?  ...  None  None  None  None  None  None   \n",
       "5448        China       ?  None  ...  None  None  None  None  None  None   \n",
       "5449         None    None  None  ...  None  None  None  None  None  None   \n",
       "5450         None    None  None  ...  None  None  None  None  None  None   \n",
       "5451         None    None  None  ...  None  None  None  None  None  None   \n",
       "\n",
       "        33    34    35    36  \n",
       "0     None  None  None  None  \n",
       "1     None  None  None  None  \n",
       "2     None  None  None  None  \n",
       "3     None  None  None  None  \n",
       "4     None  None  None  None  \n",
       "...    ...   ...   ...   ...  \n",
       "5447  None  None  None  None  \n",
       "5448  None  None  None  None  \n",
       "5449  None  None  None  None  \n",
       "5450  None  None  None  None  \n",
       "5451  None  None  None  None  \n",
       "\n",
       "[5452 rows x 37 columns]"
      ]
     },
     "execution_count": 30,
     "metadata": {},
     "output_type": "execute_result"
    }
   ],
   "source": [
    "train_question_df = train_df['question'].str.split(\" \", expand=True)\n",
    "train_question_df "
   ]
  },
  {
   "cell_type": "code",
   "execution_count": 31,
   "metadata": {},
   "outputs": [
    {
     "name": "stdout",
     "output_type": "stream",
     "text": [
      "0 :  100.0\n",
      "1 :  100.0\n",
      "2 :  100.0\n",
      "3 :  99.93\n",
      "4 :  97.45\n",
      "5 :  92.53\n",
      "6 :  85.29\n",
      "7 :  74.91\n",
      "8 :  63.35\n",
      "9 :  50.99\n",
      "10 :  40.24\n",
      "11 :  30.5\n",
      "12 :  21.88\n",
      "13 :  16.45\n",
      "14 :  12.84\n",
      "15 :  9.3\n",
      "16 :  6.68\n",
      "17 :  4.99\n",
      "18 :  3.52\n",
      "19 :  2.46\n",
      "20 :  1.89\n",
      "21 :  1.32\n",
      "22 :  0.97\n",
      "23 :  0.77\n",
      "24 :  0.53\n",
      "25 :  0.39\n",
      "26 :  0.29\n",
      "27 :  0.28\n",
      "28 :  0.22\n",
      "29 :  0.15\n",
      "30 :  0.13\n",
      "31 :  0.07\n",
      "32 :  0.04\n",
      "33 :  0.04\n",
      "34 :  0.02\n",
      "35 :  0.02\n",
      "36 :  0.02\n"
     ]
    }
   ],
   "source": [
    "#percentage distribution of tokens (train)\n",
    "for column in train_question_df.columns:\n",
    "    nan_sum = train_question_df[column].isnull().sum()\n",
    "    print(column,': ',round(100.00-(nan_sum*100/len(train_question_df)),2))"
   ]
  },
  {
   "cell_type": "code",
   "execution_count": 32,
   "metadata": {},
   "outputs": [
    {
     "data": {
      "text/html": [
       "<div>\n",
       "<style scoped>\n",
       "    .dataframe tbody tr th:only-of-type {\n",
       "        vertical-align: middle;\n",
       "    }\n",
       "\n",
       "    .dataframe tbody tr th {\n",
       "        vertical-align: top;\n",
       "    }\n",
       "\n",
       "    .dataframe thead th {\n",
       "        text-align: right;\n",
       "    }\n",
       "</style>\n",
       "<table border=\"1\" class=\"dataframe\">\n",
       "  <thead>\n",
       "    <tr style=\"text-align: right;\">\n",
       "      <th></th>\n",
       "      <th>0</th>\n",
       "      <th>1</th>\n",
       "      <th>2</th>\n",
       "      <th>3</th>\n",
       "      <th>4</th>\n",
       "      <th>5</th>\n",
       "      <th>6</th>\n",
       "      <th>7</th>\n",
       "      <th>8</th>\n",
       "      <th>9</th>\n",
       "      <th>...</th>\n",
       "      <th>18</th>\n",
       "      <th>19</th>\n",
       "      <th>20</th>\n",
       "      <th>21</th>\n",
       "      <th>22</th>\n",
       "      <th>23</th>\n",
       "      <th>24</th>\n",
       "      <th>25</th>\n",
       "      <th>26</th>\n",
       "      <th>27</th>\n",
       "    </tr>\n",
       "  </thead>\n",
       "  <tbody>\n",
       "    <tr>\n",
       "      <th>0</th>\n",
       "      <td>How</td>\n",
       "      <td>did</td>\n",
       "      <td>serfdom</td>\n",
       "      <td>develop</td>\n",
       "      <td>in</td>\n",
       "      <td>and</td>\n",
       "      <td>then</td>\n",
       "      <td>leave</td>\n",
       "      <td>Russia</td>\n",
       "      <td>?</td>\n",
       "      <td>...</td>\n",
       "      <td>None</td>\n",
       "      <td>None</td>\n",
       "      <td>None</td>\n",
       "      <td>None</td>\n",
       "      <td>None</td>\n",
       "      <td>None</td>\n",
       "      <td>None</td>\n",
       "      <td>None</td>\n",
       "      <td>None</td>\n",
       "      <td>None</td>\n",
       "    </tr>\n",
       "    <tr>\n",
       "      <th>1</th>\n",
       "      <td>What</td>\n",
       "      <td>films</td>\n",
       "      <td>featured</td>\n",
       "      <td>the</td>\n",
       "      <td>character</td>\n",
       "      <td>Popeye</td>\n",
       "      <td>Doyle</td>\n",
       "      <td>?</td>\n",
       "      <td>None</td>\n",
       "      <td>None</td>\n",
       "      <td>...</td>\n",
       "      <td>None</td>\n",
       "      <td>None</td>\n",
       "      <td>None</td>\n",
       "      <td>None</td>\n",
       "      <td>None</td>\n",
       "      <td>None</td>\n",
       "      <td>None</td>\n",
       "      <td>None</td>\n",
       "      <td>None</td>\n",
       "      <td>None</td>\n",
       "    </tr>\n",
       "    <tr>\n",
       "      <th>2</th>\n",
       "      <td>How</td>\n",
       "      <td>can</td>\n",
       "      <td>I</td>\n",
       "      <td>find</td>\n",
       "      <td>a</td>\n",
       "      <td>list</td>\n",
       "      <td>of</td>\n",
       "      <td>celebrities</td>\n",
       "      <td>'</td>\n",
       "      <td>real</td>\n",
       "      <td>...</td>\n",
       "      <td>None</td>\n",
       "      <td>None</td>\n",
       "      <td>None</td>\n",
       "      <td>None</td>\n",
       "      <td>None</td>\n",
       "      <td>None</td>\n",
       "      <td>None</td>\n",
       "      <td>None</td>\n",
       "      <td>None</td>\n",
       "      <td>None</td>\n",
       "    </tr>\n",
       "    <tr>\n",
       "      <th>3</th>\n",
       "      <td>What</td>\n",
       "      <td>fowl</td>\n",
       "      <td>grabs</td>\n",
       "      <td>the</td>\n",
       "      <td>spotlight</td>\n",
       "      <td>after</td>\n",
       "      <td>the</td>\n",
       "      <td>Chinese</td>\n",
       "      <td>Year</td>\n",
       "      <td>of</td>\n",
       "      <td>...</td>\n",
       "      <td>None</td>\n",
       "      <td>None</td>\n",
       "      <td>None</td>\n",
       "      <td>None</td>\n",
       "      <td>None</td>\n",
       "      <td>None</td>\n",
       "      <td>None</td>\n",
       "      <td>None</td>\n",
       "      <td>None</td>\n",
       "      <td>None</td>\n",
       "    </tr>\n",
       "    <tr>\n",
       "      <th>4</th>\n",
       "      <td>What</td>\n",
       "      <td>is</td>\n",
       "      <td>the</td>\n",
       "      <td>full</td>\n",
       "      <td>form</td>\n",
       "      <td>of</td>\n",
       "      <td>.com</td>\n",
       "      <td>?</td>\n",
       "      <td>None</td>\n",
       "      <td>None</td>\n",
       "      <td>...</td>\n",
       "      <td>None</td>\n",
       "      <td>None</td>\n",
       "      <td>None</td>\n",
       "      <td>None</td>\n",
       "      <td>None</td>\n",
       "      <td>None</td>\n",
       "      <td>None</td>\n",
       "      <td>None</td>\n",
       "      <td>None</td>\n",
       "      <td>None</td>\n",
       "    </tr>\n",
       "    <tr>\n",
       "      <th>...</th>\n",
       "      <td>...</td>\n",
       "      <td>...</td>\n",
       "      <td>...</td>\n",
       "      <td>...</td>\n",
       "      <td>...</td>\n",
       "      <td>...</td>\n",
       "      <td>...</td>\n",
       "      <td>...</td>\n",
       "      <td>...</td>\n",
       "      <td>...</td>\n",
       "      <td>...</td>\n",
       "      <td>...</td>\n",
       "      <td>...</td>\n",
       "      <td>...</td>\n",
       "      <td>...</td>\n",
       "      <td>...</td>\n",
       "      <td>...</td>\n",
       "      <td>...</td>\n",
       "      <td>...</td>\n",
       "      <td>...</td>\n",
       "      <td>...</td>\n",
       "    </tr>\n",
       "    <tr>\n",
       "      <th>495</th>\n",
       "      <td>What</td>\n",
       "      <td>is</td>\n",
       "      <td>the</td>\n",
       "      <td>Jewish</td>\n",
       "      <td>bible</td>\n",
       "      <td>called</td>\n",
       "      <td>?</td>\n",
       "      <td>None</td>\n",
       "      <td>None</td>\n",
       "      <td>None</td>\n",
       "      <td>...</td>\n",
       "      <td>None</td>\n",
       "      <td>None</td>\n",
       "      <td>None</td>\n",
       "      <td>None</td>\n",
       "      <td>None</td>\n",
       "      <td>None</td>\n",
       "      <td>None</td>\n",
       "      <td>None</td>\n",
       "      <td>None</td>\n",
       "      <td>None</td>\n",
       "    </tr>\n",
       "    <tr>\n",
       "      <th>496</th>\n",
       "      <td>Why</td>\n",
       "      <td>is</td>\n",
       "      <td>the</td>\n",
       "      <td>grass</td>\n",
       "      <td>green</td>\n",
       "      <td>?</td>\n",
       "      <td>None</td>\n",
       "      <td>None</td>\n",
       "      <td>None</td>\n",
       "      <td>None</td>\n",
       "      <td>...</td>\n",
       "      <td>None</td>\n",
       "      <td>None</td>\n",
       "      <td>None</td>\n",
       "      <td>None</td>\n",
       "      <td>None</td>\n",
       "      <td>None</td>\n",
       "      <td>None</td>\n",
       "      <td>None</td>\n",
       "      <td>None</td>\n",
       "      <td>None</td>\n",
       "    </tr>\n",
       "    <tr>\n",
       "      <th>497</th>\n",
       "      <td>What</td>\n",
       "      <td>is</td>\n",
       "      <td>a</td>\n",
       "      <td>firewall</td>\n",
       "      <td>?</td>\n",
       "      <td>None</td>\n",
       "      <td>None</td>\n",
       "      <td>None</td>\n",
       "      <td>None</td>\n",
       "      <td>None</td>\n",
       "      <td>...</td>\n",
       "      <td>None</td>\n",
       "      <td>None</td>\n",
       "      <td>None</td>\n",
       "      <td>None</td>\n",
       "      <td>None</td>\n",
       "      <td>None</td>\n",
       "      <td>None</td>\n",
       "      <td>None</td>\n",
       "      <td>None</td>\n",
       "      <td>None</td>\n",
       "    </tr>\n",
       "    <tr>\n",
       "      <th>498</th>\n",
       "      <td>What</td>\n",
       "      <td>spy</td>\n",
       "      <td>novelist</td>\n",
       "      <td>served</td>\n",
       "      <td>as</td>\n",
       "      <td>Moscow</td>\n",
       "      <td>correspondent</td>\n",
       "      <td>for</td>\n",
       "      <td>Reuter</td>\n",
       "      <td>and</td>\n",
       "      <td>...</td>\n",
       "      <td>None</td>\n",
       "      <td>None</td>\n",
       "      <td>None</td>\n",
       "      <td>None</td>\n",
       "      <td>None</td>\n",
       "      <td>None</td>\n",
       "      <td>None</td>\n",
       "      <td>None</td>\n",
       "      <td>None</td>\n",
       "      <td>None</td>\n",
       "    </tr>\n",
       "    <tr>\n",
       "      <th>499</th>\n",
       "      <td>Which</td>\n",
       "      <td>oil</td>\n",
       "      <td>company</td>\n",
       "      <td>almost</td>\n",
       "      <td>picked</td>\n",
       "      <td>a</td>\n",
       "      <td>word</td>\n",
       "      <td>that</td>\n",
       "      <td>meant</td>\n",
       "      <td>``</td>\n",
       "      <td>...</td>\n",
       "      <td>international</td>\n",
       "      <td>name</td>\n",
       "      <td>?</td>\n",
       "      <td>None</td>\n",
       "      <td>None</td>\n",
       "      <td>None</td>\n",
       "      <td>None</td>\n",
       "      <td>None</td>\n",
       "      <td>None</td>\n",
       "      <td>None</td>\n",
       "    </tr>\n",
       "  </tbody>\n",
       "</table>\n",
       "<p>500 rows × 28 columns</p>\n",
       "</div>"
      ],
      "text/plain": [
       "        0      1         2         3          4       5              6   \\\n",
       "0      How    did   serfdom   develop         in     and           then   \n",
       "1     What  films  featured       the  character  Popeye          Doyle   \n",
       "2      How    can         I      find          a    list             of   \n",
       "3     What   fowl     grabs       the  spotlight   after            the   \n",
       "4     What     is       the      full       form      of           .com   \n",
       "..     ...    ...       ...       ...        ...     ...            ...   \n",
       "495   What     is       the    Jewish      bible  called              ?   \n",
       "496    Why     is       the     grass      green       ?           None   \n",
       "497   What     is         a  firewall          ?    None           None   \n",
       "498   What    spy  novelist    served         as  Moscow  correspondent   \n",
       "499  Which    oil   company    almost     picked       a           word   \n",
       "\n",
       "              7       8     9   ...             18    19    20    21    22  \\\n",
       "0          leave  Russia     ?  ...           None  None  None  None  None   \n",
       "1              ?    None  None  ...           None  None  None  None  None   \n",
       "2    celebrities       '  real  ...           None  None  None  None  None   \n",
       "3        Chinese    Year    of  ...           None  None  None  None  None   \n",
       "4              ?    None  None  ...           None  None  None  None  None   \n",
       "..           ...     ...   ...  ...            ...   ...   ...   ...   ...   \n",
       "495         None    None  None  ...           None  None  None  None  None   \n",
       "496         None    None  None  ...           None  None  None  None  None   \n",
       "497         None    None  None  ...           None  None  None  None  None   \n",
       "498          for  Reuter   and  ...           None  None  None  None  None   \n",
       "499         that   meant    ``  ...  international  name     ?  None  None   \n",
       "\n",
       "       23    24    25    26    27  \n",
       "0    None  None  None  None  None  \n",
       "1    None  None  None  None  None  \n",
       "2    None  None  None  None  None  \n",
       "3    None  None  None  None  None  \n",
       "4    None  None  None  None  None  \n",
       "..    ...   ...   ...   ...   ...  \n",
       "495  None  None  None  None  None  \n",
       "496  None  None  None  None  None  \n",
       "497  None  None  None  None  None  \n",
       "498  None  None  None  None  None  \n",
       "499  None  None  None  None  None  \n",
       "\n",
       "[500 rows x 28 columns]"
      ]
     },
     "execution_count": 32,
     "metadata": {},
     "output_type": "execute_result"
    }
   ],
   "source": [
    "test_question_df = test_df['question'].str.split(\" \", expand=True)\n",
    "test_question_df"
   ]
  },
  {
   "cell_type": "code",
   "execution_count": 33,
   "metadata": {},
   "outputs": [
    {
     "name": "stdout",
     "output_type": "stream",
     "text": [
      "0 :  100.0\n",
      "1 :  100.0\n",
      "2 :  100.0\n",
      "3 :  100.0\n",
      "4 :  97.2\n",
      "5 :  92.2\n",
      "6 :  84.0\n",
      "7 :  73.4\n",
      "8 :  61.2\n",
      "9 :  48.0\n",
      "10 :  36.6\n",
      "11 :  26.2\n",
      "12 :  18.6\n",
      "13 :  12.2\n",
      "14 :  9.0\n",
      "15 :  6.0\n",
      "16 :  4.6\n",
      "17 :  3.2\n",
      "18 :  1.6\n",
      "19 :  1.2\n",
      "20 :  1.0\n",
      "21 :  0.8\n",
      "22 :  0.6\n",
      "23 :  0.4\n",
      "24 :  0.4\n",
      "25 :  0.4\n",
      "26 :  0.2\n",
      "27 :  0.2\n"
     ]
    }
   ],
   "source": [
    "#percentage distribution of tokens (test)\n",
    "for column in test_question_df.columns:\n",
    "    nan_sum = test_question_df[column].isnull().sum()\n",
    "    print(column,': ',round(100.00-(nan_sum*100/len(test_question_df)),2))"
   ]
  },
  {
   "cell_type": "code",
   "execution_count": null,
   "metadata": {},
   "outputs": [],
   "source": []
  },
  {
   "cell_type": "code",
   "execution_count": null,
   "metadata": {},
   "outputs": [],
   "source": []
  },
  {
   "cell_type": "code",
   "execution_count": null,
   "metadata": {},
   "outputs": [],
   "source": []
  },
  {
   "cell_type": "code",
   "execution_count": null,
   "metadata": {},
   "outputs": [],
   "source": []
  },
  {
   "cell_type": "code",
   "execution_count": null,
   "metadata": {},
   "outputs": [],
   "source": []
  },
  {
   "cell_type": "code",
   "execution_count": null,
   "metadata": {
    "colab": {
     "base_uri": "https://localhost:8080/",
     "height": 422
    },
    "id": "cfZ4fcAtHEro",
    "outputId": "ac6f25e3-b3a8-488e-eb10-71e8841c1d21"
   },
   "outputs": [],
   "source": []
  },
  {
   "cell_type": "code",
   "execution_count": 34,
   "metadata": {
    "id": "hv2Chs50IV7x"
   },
   "outputs": [],
   "source": [
    "def checkIfDuplicates_1(listOfElems):\n",
    "    ''' Check if given list contains any duplicates '''\n",
    "    if len(listOfElems) == len(set(listOfElems)):\n",
    "        return False\n",
    "    else:\n",
    "        return True\n"
   ]
  },
  {
   "cell_type": "code",
   "execution_count": 35,
   "metadata": {
    "colab": {
     "base_uri": "https://localhost:8080/"
    },
    "id": "9tzNmE69ItJ7",
    "outputId": "1b5d8cd3-9d43-43da-8d1b-b7b3886986b3"
   },
   "outputs": [
    {
     "data": {
      "text/plain": [
       "True"
      ]
     },
     "execution_count": 35,
     "metadata": {},
     "output_type": "execute_result"
    }
   ],
   "source": [
    "checkIfDuplicates_1(list(train_df.question))"
   ]
  },
  {
   "cell_type": "code",
   "execution_count": 36,
   "metadata": {
    "colab": {
     "base_uri": "https://localhost:8080/"
    },
    "id": "4wIP4ttMIvF0",
    "outputId": "8e349553-da91-4d87-8779-b174b441fd3a"
   },
   "outputs": [
    {
     "data": {
      "text/plain": [
       "True"
      ]
     },
     "execution_count": 36,
     "metadata": {},
     "output_type": "execute_result"
    }
   ],
   "source": [
    "checkIfDuplicates_1(list(test_df.question))"
   ]
  },
  {
   "cell_type": "code",
   "execution_count": null,
   "metadata": {},
   "outputs": [],
   "source": []
  },
  {
   "cell_type": "code",
   "execution_count": null,
   "metadata": {},
   "outputs": [],
   "source": []
  },
  {
   "cell_type": "code",
   "execution_count": null,
   "metadata": {},
   "outputs": [],
   "source": []
  },
  {
   "cell_type": "code",
   "execution_count": null,
   "metadata": {},
   "outputs": [],
   "source": []
  },
  {
   "cell_type": "code",
   "execution_count": null,
   "metadata": {},
   "outputs": [],
   "source": []
  },
  {
   "cell_type": "code",
   "execution_count": null,
   "metadata": {},
   "outputs": [],
   "source": []
  }
 ],
 "metadata": {
  "colab": {
   "collapsed_sections": [],
   "name": "EDA_petra.ipynb",
   "provenance": []
  },
  "kernelspec": {
   "display_name": "Python 3.8 tf_test38",
   "language": "python",
   "name": "tf_test38"
  },
  "language_info": {
   "codemirror_mode": {
    "name": "ipython",
    "version": 3
   },
   "file_extension": ".py",
   "mimetype": "text/x-python",
   "name": "python",
   "nbconvert_exporter": "python",
   "pygments_lexer": "ipython3",
   "version": "3.8.6"
  }
 },
 "nbformat": 4,
 "nbformat_minor": 1
}