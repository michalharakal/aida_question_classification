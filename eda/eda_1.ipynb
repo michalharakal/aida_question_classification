{
 "cells": [
  {
   "cell_type": "markdown",
   "metadata": {
    "id": "pCyCaq9xV5Tp"
   },
   "source": [
    "# EDA"
   ]
  },
  {
   "cell_type": "code",
   "execution_count": 1,
   "metadata": {
    "id": "0Cppf1gfZ0L8"
   },
   "outputs": [],
   "source": [
    "#path_plot = '/home/petra42/GIT/aida_question_classification/plots/'\n",
    "path_plot = '/home/an/aida_question_classification/plots/'"
   ]
  },
  {
   "cell_type": "markdown",
   "metadata": {
    "id": "_pOQMVj-BHy9"
   },
   "source": [
    "## Libaries"
   ]
  },
  {
   "cell_type": "code",
   "execution_count": 2,
   "metadata": {
    "colab": {
     "base_uri": "https://localhost:8080/"
    },
    "id": "-LddWxFSBG5f",
    "outputId": "f508ffd6-5d43-4ee1-815b-0a6e92d77f6f"
   },
   "outputs": [
    {
     "name": "stderr",
     "output_type": "stream",
     "text": [
      "[nltk_data] Downloading package wordnet to /home/an/nltk_data...\n",
      "[nltk_data]   Package wordnet is already up-to-date!\n",
      "[nltk_data] Downloading package stopwords to /home/an/nltk_data...\n",
      "[nltk_data]   Package stopwords is already up-to-date!\n"
     ]
    },
    {
     "data": {
      "text/plain": [
       "True"
      ]
     },
     "execution_count": 2,
     "metadata": {},
     "output_type": "execute_result"
    }
   ],
   "source": [
    "import pandas as pd\n",
    "import numpy as np\n",
    "\n",
    "#visualisation\n",
    "import matplotlib.pyplot as plt\n",
    "import seaborn as sns\n",
    "\n",
    "#nltk\n",
    "import re\n",
    "import nltk\n",
    "from nltk.corpus import stopwords\n",
    "from nltk.stem import WordNetLemmatizer\n",
    "nltk.download('wordnet')\n",
    "nltk.download('stopwords')"
   ]
  },
  {
   "cell_type": "code",
   "execution_count": 3,
   "metadata": {
    "id": "GiNQ5y7YZ0L9"
   },
   "outputs": [],
   "source": [
    "# data\n",
    "path_class_def  = 'https://cogcomp.seas.upenn.edu/Data/QA/QC/definition.html'\n",
    "path_train_data = 'https://cogcomp.seas.upenn.edu/Data/QA/QC/train_5500.label'\n",
    "path_test_data  = 'https://cogcomp.seas.upenn.edu/Data/QA/QC/TREC_10.label'"
   ]
  },
  {
   "cell_type": "markdown",
   "metadata": {
    "id": "4wd7Fd5RBeYo"
   },
   "source": [
    "#Functions"
   ]
  },
  {
   "cell_type": "code",
   "execution_count": 4,
   "metadata": {
    "id": "4shqn-BxBkPD"
   },
   "outputs": [],
   "source": [
    "# from folder data\n",
    "# import data.get_data.process_question(row)\n",
    "def process_question(row):\n",
    "   '''join row to text''' \n",
    "   return \" \".join(row.split(\" \")[1:])"
   ]
  },
  {
   "cell_type": "code",
   "execution_count": 5,
   "metadata": {
    "id": "b0Gbeel3Z0L9"
   },
   "outputs": [],
   "source": [
    "def get_plot_length_text(df, title, diagram):\n",
    "    '''\n",
    "    creates a histogram \n",
    "    that shows the distribution of the number of tokens \n",
    "    per line for the data set to be examined\n",
    "    \n",
    "    Parameters\n",
    "    ----------\n",
    "    df:\n",
    "        series; to examined text\n",
    "    title: \n",
    "        string; title for Plot\n",
    "    diagram: \n",
    "        string: name of the diagram\n",
    "    \n",
    "    Returns\n",
    "    -------\n",
    "    Vizualisationplot Distribution\n",
    "    '''\n",
    "    plt.hist(df.apply(lambda text: len(text.split())))\n",
    "    plt.xlabel('number of token')\n",
    "    plt.ylabel('frequency')\n",
    "    plt.title(title)\n",
    "    plt.savefig(path_plot + diagram + '.png')\n",
    "    plt.show()\n",
    "    \n",
    "    avg = round(df.apply(lambda text: len(text.split())).mean())\n",
    "    maxi = max(list(df.apply(lambda text: len(text.split()))))\n",
    "    mini = min(list(df.apply(lambda text: len(text.split()))))\n",
    "    \n",
    "    print(f'The texts have a mean length of {avg} tokens.')\n",
    "    print(f'The longest text has {maxi} tokens, the shortest has {mini} tokens.')"
   ]
  },
  {
   "cell_type": "code",
   "execution_count": 6,
   "metadata": {
    "id": "h14lgykwFJTL"
   },
   "outputs": [],
   "source": [
    "def find_duplicates(df, column):\n",
    "    '''\n",
    "    Find duplicates and drop by 100% match\n",
    "    \n",
    "    Parameters\n",
    "    ----------\n",
    "    df; name of the DataFrame\n",
    "    column; to column to be examined \n",
    "    \n",
    "    Returns\n",
    "    -------\n",
    "    series; to check whether duplicates present\n",
    "        df; clean df only duplicates\n",
    "    '''\n",
    "    duplicat = list(df[column].duplicated())\n",
    "    print (set(duplicat))\n",
    "    \n",
    "    count_dups = df.pivot_table(index=['raw'], aggfunc='size')\n",
    "    nb = len(df[column])-len(count_dups)\n",
    "    print(f'The column has {nb} duplicates.')\n",
    "\n",
    "def clean_duplicates(df):\n",
    "    '''remove duplicates'''\n",
    "    df = df.drop_duplicates(inplace=True)\n",
    "    return df"
   ]
  },
  {
   "cell_type": "code",
   "execution_count": 7,
   "metadata": {
    "id": "TKZvaZG3Z0L-"
   },
   "outputs": [],
   "source": [
    "def corpus_func(df):\n",
    "    '''\n",
    "    create a textcorpus from pd.series, df['column']\n",
    "\n",
    "    Parameters\n",
    "    ----------\n",
    "    text, string\n",
    "\n",
    "    Returns\n",
    "    ------_\n",
    "    concatinated string with marker ##### as selector\n",
    "    '''\n",
    "    return \"######\".join(text for text in df)\n",
    "\n",
    "def split_corpus_func(corpus):\n",
    "    '''\n",
    "    create a column from text corpus with marker '#####'\n",
    "    as selector\n",
    "\n",
    "    Parameters\n",
    "    ----------\n",
    "    text, string\n",
    "\n",
    "    Returns\n",
    "    ------_\n",
    "    list of text \n",
    "    '''\n",
    "    list = lambda x: x.split('######')\n",
    "    return list\n",
    "\n",
    "def preprocess_dataframe(df):\n",
    "    '''\n",
    "    create new columns in the data frame\n",
    "    new_column: 'text' => cleaned stopwords (english)\n",
    "                'text_clean' => regex, lowercase\n",
    "                'text_lemma' => lemmetized\n",
    "    param: df\n",
    "    returns: df with new columns\n",
    "    '''\n",
    "\n",
    "    corpus = corpus_func(df['question'])\n",
    "    text_corpus = stopword_text(corpus)\n",
    "    df['text'] = split_corpus_func(corpus)\n",
    "    clean_corpus = clean_text(text_corpus)\n",
    "    df['text_clean'] = split_corpus_func(clean_corpus)\n",
    "    lemma = lem_text(clean_corpus)\n",
    "    df['text_lemma'] = split_corpus_func(clean_corpus)\n",
    "    return df\n"
   ]
  },
  {
   "cell_type": "code",
   "execution_count": 8,
   "metadata": {
    "id": "yVDfZ_9lZ0L-"
   },
   "outputs": [],
   "source": [
    "#import utils.text_manipulation\n",
    "\n",
    "def clean_text(text):\n",
    "    \"\"\"\n",
    "    Regex cleaning of the text. Filters everything except alphanumerical and '.\n",
    "    Return is turned into lower case\n",
    "\n",
    "    Parameters\n",
    "    ----------\n",
    "    text : string\n",
    "        text to be cleaned\n",
    "\n",
    "    Returns\n",
    "    -------\n",
    "    string\n",
    "        lower case regex cleaned text\n",
    "\n",
    "    \"\"\"\n",
    "    text = text.replace(\"´\", \"'\")\n",
    "    \n",
    "    text = text.replace(\"'s\", \" \")\n",
    "\n",
    "    digi_punct = \"[^a-zA-Z.1234567890#' ]\"\n",
    "    text = re.sub(digi_punct, \" \", text)\n",
    "    text = \" \".join(text.split())\n",
    "    text = text.lower()\n",
    "    return text\n",
    "\n",
    "\n",
    "\n",
    "def stopword_text(text):\n",
    "    \"\"\"\n",
    "    Remove all words in the text that are in the stopword list\n",
    "     \n",
    "    Parameters\n",
    "    ----------\n",
    "    text : string\n",
    "    \n",
    "    Returns\n",
    "    -------\n",
    "    string\n",
    "        text only stopwords\n",
    "     \n",
    "    \"\"\"\n",
    "\n",
    "    return \" \".join([word for word in text.split() if word not in my_stopwords])\n",
    "\n",
    "\n",
    "\n",
    "def lem_text(text):\n",
    "    \"\"\"\n",
    "    Group the different inflected forms of a word so they can be analysed as \n",
    "    a single item\n",
    "     \n",
    "    Parameters\n",
    "    ----------\n",
    "    text : string\n",
    "    \n",
    "    Returns\n",
    "    -------\n",
    "    string\n",
    "        text with lemmas\n",
    "    \"\"\"\n",
    "\n",
    "    lem_sentence = text.split()\n",
    "    for i, word in enumerate(text.split()):\n",
    "        for pos in \"n\", \"v\", \"a\", \"r\":\n",
    "            lem = lemmatizer.lemmatize(word, pos=pos)\n",
    "            if lem != word:\n",
    "                lem_sentence[i] = lem\n",
    "                break\n",
    "            else:\n",
    "                lem_sentence[i] = word\n",
    "    return \" \".join(lem_sentence)\n"
   ]
  },
  {
   "cell_type": "markdown",
   "metadata": {
    "id": "SVvBvJQJBnVS"
   },
   "source": [
    "# Load data"
   ]
  },
  {
   "cell_type": "code",
   "execution_count": 9,
   "metadata": {
    "colab": {
     "base_uri": "https://localhost:8080/",
     "height": 406
    },
    "id": "vtANgZNdV37o",
    "outputId": "ae6ed2a8-871a-4ae5-ebb2-52eb5b653f22"
   },
   "outputs": [
    {
     "data": {
      "text/html": [
       "<div>\n",
       "<style scoped>\n",
       "    .dataframe tbody tr th:only-of-type {\n",
       "        vertical-align: middle;\n",
       "    }\n",
       "\n",
       "    .dataframe tbody tr th {\n",
       "        vertical-align: top;\n",
       "    }\n",
       "\n",
       "    .dataframe thead th {\n",
       "        text-align: right;\n",
       "    }\n",
       "</style>\n",
       "<table border=\"1\" class=\"dataframe\">\n",
       "  <thead>\n",
       "    <tr style=\"text-align: right;\">\n",
       "      <th></th>\n",
       "      <th>raw</th>\n",
       "      <th>category</th>\n",
       "      <th>subcategory</th>\n",
       "      <th>question</th>\n",
       "    </tr>\n",
       "  </thead>\n",
       "  <tbody>\n",
       "    <tr>\n",
       "      <th>0</th>\n",
       "      <td>DESC:manner How did serfdom develop in and the...</td>\n",
       "      <td>DESC</td>\n",
       "      <td>manner</td>\n",
       "      <td>How did serfdom develop in and then leave Russ...</td>\n",
       "    </tr>\n",
       "    <tr>\n",
       "      <th>1</th>\n",
       "      <td>ENTY:cremat What films featured the character ...</td>\n",
       "      <td>ENTY</td>\n",
       "      <td>cremat</td>\n",
       "      <td>What films featured the character Popeye Doyle ?</td>\n",
       "    </tr>\n",
       "    <tr>\n",
       "      <th>2</th>\n",
       "      <td>DESC:manner How can I find a list of celebriti...</td>\n",
       "      <td>DESC</td>\n",
       "      <td>manner</td>\n",
       "      <td>How can I find a list of celebrities ' real na...</td>\n",
       "    </tr>\n",
       "    <tr>\n",
       "      <th>3</th>\n",
       "      <td>ENTY:animal What fowl grabs the spotlight afte...</td>\n",
       "      <td>ENTY</td>\n",
       "      <td>animal</td>\n",
       "      <td>What fowl grabs the spotlight after the Chines...</td>\n",
       "    </tr>\n",
       "    <tr>\n",
       "      <th>4</th>\n",
       "      <td>ABBR:exp What is the full form of .com ?</td>\n",
       "      <td>ABBR</td>\n",
       "      <td>exp</td>\n",
       "      <td>What is the full form of .com ?</td>\n",
       "    </tr>\n",
       "    <tr>\n",
       "      <th>...</th>\n",
       "      <td>...</td>\n",
       "      <td>...</td>\n",
       "      <td>...</td>\n",
       "      <td>...</td>\n",
       "    </tr>\n",
       "    <tr>\n",
       "      <th>5447</th>\n",
       "      <td>ENTY:other What 's the shape of a camel 's spi...</td>\n",
       "      <td>ENTY</td>\n",
       "      <td>other</td>\n",
       "      <td>What 's the shape of a camel 's spine ?</td>\n",
       "    </tr>\n",
       "    <tr>\n",
       "      <th>5448</th>\n",
       "      <td>ENTY:currency What type of currency is used in...</td>\n",
       "      <td>ENTY</td>\n",
       "      <td>currency</td>\n",
       "      <td>What type of currency is used in China ?</td>\n",
       "    </tr>\n",
       "    <tr>\n",
       "      <th>5449</th>\n",
       "      <td>NUM:temp What is the temperature today ?</td>\n",
       "      <td>NUM</td>\n",
       "      <td>temp</td>\n",
       "      <td>What is the temperature today ?</td>\n",
       "    </tr>\n",
       "    <tr>\n",
       "      <th>5450</th>\n",
       "      <td>NUM:temp What is the temperature for cooking ?</td>\n",
       "      <td>NUM</td>\n",
       "      <td>temp</td>\n",
       "      <td>What is the temperature for cooking ?</td>\n",
       "    </tr>\n",
       "    <tr>\n",
       "      <th>5451</th>\n",
       "      <td>ENTY:currency What currency is used in Austral...</td>\n",
       "      <td>ENTY</td>\n",
       "      <td>currency</td>\n",
       "      <td>What currency is used in Australia ?</td>\n",
       "    </tr>\n",
       "  </tbody>\n",
       "</table>\n",
       "<p>5452 rows × 4 columns</p>\n",
       "</div>"
      ],
      "text/plain": [
       "                                                    raw category subcategory  \\\n",
       "0     DESC:manner How did serfdom develop in and the...     DESC      manner   \n",
       "1     ENTY:cremat What films featured the character ...     ENTY      cremat   \n",
       "2     DESC:manner How can I find a list of celebriti...     DESC      manner   \n",
       "3     ENTY:animal What fowl grabs the spotlight afte...     ENTY      animal   \n",
       "4              ABBR:exp What is the full form of .com ?     ABBR         exp   \n",
       "...                                                 ...      ...         ...   \n",
       "5447  ENTY:other What 's the shape of a camel 's spi...     ENTY       other   \n",
       "5448  ENTY:currency What type of currency is used in...     ENTY    currency   \n",
       "5449           NUM:temp What is the temperature today ?      NUM        temp   \n",
       "5450     NUM:temp What is the temperature for cooking ?      NUM        temp   \n",
       "5451  ENTY:currency What currency is used in Austral...     ENTY    currency   \n",
       "\n",
       "                                               question  \n",
       "0     How did serfdom develop in and then leave Russ...  \n",
       "1      What films featured the character Popeye Doyle ?  \n",
       "2     How can I find a list of celebrities ' real na...  \n",
       "3     What fowl grabs the spotlight after the Chines...  \n",
       "4                       What is the full form of .com ?  \n",
       "...                                                 ...  \n",
       "5447            What 's the shape of a camel 's spine ?  \n",
       "5448           What type of currency is used in China ?  \n",
       "5449                    What is the temperature today ?  \n",
       "5450              What is the temperature for cooking ?  \n",
       "5451               What currency is used in Australia ?  \n",
       "\n",
       "[5452 rows x 4 columns]"
      ]
     },
     "execution_count": 9,
     "metadata": {},
     "output_type": "execute_result"
    }
   ],
   "source": [
    "#load\n",
    "train_df = pd.read_table(path_train_data, encoding = \"ISO-8859-1\", header=None)\n",
    "train_df.columns = [\"raw\"]\n",
    "train_df['category'] = train_df.apply (lambda row: row[\"raw\"].split(\":\")[0], axis=1)\n",
    "train_df['subcategory'] = train_df.apply (lambda row: row[\"raw\"].split(\" \")[0].split(\":\")[1], axis=1)\n",
    "train_df['question'] = train_df.apply (lambda row: process_question(row[\"raw\"]), axis=1)\n",
    "\n",
    "train_df"
   ]
  },
  {
   "cell_type": "code",
   "execution_count": 10,
   "metadata": {
    "colab": {
     "base_uri": "https://localhost:8080/",
     "height": 406
    },
    "id": "fwT9pkAZZ5-7",
    "outputId": "dafc71fc-ea55-4ab9-cfd4-dfdc19f2162a",
    "scrolled": true
   },
   "outputs": [
    {
     "data": {
      "text/html": [
       "<div>\n",
       "<style scoped>\n",
       "    .dataframe tbody tr th:only-of-type {\n",
       "        vertical-align: middle;\n",
       "    }\n",
       "\n",
       "    .dataframe tbody tr th {\n",
       "        vertical-align: top;\n",
       "    }\n",
       "\n",
       "    .dataframe thead th {\n",
       "        text-align: right;\n",
       "    }\n",
       "</style>\n",
       "<table border=\"1\" class=\"dataframe\">\n",
       "  <thead>\n",
       "    <tr style=\"text-align: right;\">\n",
       "      <th></th>\n",
       "      <th>raw</th>\n",
       "      <th>category</th>\n",
       "      <th>subcategory</th>\n",
       "      <th>question</th>\n",
       "    </tr>\n",
       "  </thead>\n",
       "  <tbody>\n",
       "    <tr>\n",
       "      <th>0</th>\n",
       "      <td>NUM:dist How far is it from Denver to Aspen ?</td>\n",
       "      <td>DESC</td>\n",
       "      <td>manner</td>\n",
       "      <td>How did serfdom develop in and then leave Russ...</td>\n",
       "    </tr>\n",
       "    <tr>\n",
       "      <th>1</th>\n",
       "      <td>LOC:city What county is Modesto , California in ?</td>\n",
       "      <td>ENTY</td>\n",
       "      <td>cremat</td>\n",
       "      <td>What films featured the character Popeye Doyle ?</td>\n",
       "    </tr>\n",
       "    <tr>\n",
       "      <th>2</th>\n",
       "      <td>HUM:desc Who was Galileo ?</td>\n",
       "      <td>DESC</td>\n",
       "      <td>manner</td>\n",
       "      <td>How can I find a list of celebrities ' real na...</td>\n",
       "    </tr>\n",
       "    <tr>\n",
       "      <th>3</th>\n",
       "      <td>DESC:def What is an atom ?</td>\n",
       "      <td>ENTY</td>\n",
       "      <td>animal</td>\n",
       "      <td>What fowl grabs the spotlight after the Chines...</td>\n",
       "    </tr>\n",
       "    <tr>\n",
       "      <th>4</th>\n",
       "      <td>NUM:date When did Hawaii become a state ?</td>\n",
       "      <td>ABBR</td>\n",
       "      <td>exp</td>\n",
       "      <td>What is the full form of .com ?</td>\n",
       "    </tr>\n",
       "    <tr>\n",
       "      <th>...</th>\n",
       "      <td>...</td>\n",
       "      <td>...</td>\n",
       "      <td>...</td>\n",
       "      <td>...</td>\n",
       "    </tr>\n",
       "    <tr>\n",
       "      <th>495</th>\n",
       "      <td>HUM:ind Who was the 22nd President of the US ?</td>\n",
       "      <td>ENTY</td>\n",
       "      <td>cremat</td>\n",
       "      <td>What is the Jewish bible called ?</td>\n",
       "    </tr>\n",
       "    <tr>\n",
       "      <th>496</th>\n",
       "      <td>ENTY:currency What is the money they use in Za...</td>\n",
       "      <td>DESC</td>\n",
       "      <td>reason</td>\n",
       "      <td>Why is the grass green ?</td>\n",
       "    </tr>\n",
       "    <tr>\n",
       "      <th>497</th>\n",
       "      <td>NUM:count How many feet in a mile ?</td>\n",
       "      <td>DESC</td>\n",
       "      <td>def</td>\n",
       "      <td>What is a firewall ?</td>\n",
       "    </tr>\n",
       "    <tr>\n",
       "      <th>498</th>\n",
       "      <td>ENTY:substance What is the birthstone of Octob...</td>\n",
       "      <td>HUM</td>\n",
       "      <td>ind</td>\n",
       "      <td>What spy novelist served as Moscow corresponde...</td>\n",
       "    </tr>\n",
       "    <tr>\n",
       "      <th>499</th>\n",
       "      <td>DESC:def What is e-coli ?</td>\n",
       "      <td>HUM</td>\n",
       "      <td>gr</td>\n",
       "      <td>Which oil company almost picked a word that me...</td>\n",
       "    </tr>\n",
       "  </tbody>\n",
       "</table>\n",
       "<p>500 rows × 4 columns</p>\n",
       "</div>"
      ],
      "text/plain": [
       "                                                   raw category subcategory  \\\n",
       "0        NUM:dist How far is it from Denver to Aspen ?     DESC      manner   \n",
       "1    LOC:city What county is Modesto , California in ?     ENTY      cremat   \n",
       "2                           HUM:desc Who was Galileo ?     DESC      manner   \n",
       "3                           DESC:def What is an atom ?     ENTY      animal   \n",
       "4            NUM:date When did Hawaii become a state ?     ABBR         exp   \n",
       "..                                                 ...      ...         ...   \n",
       "495     HUM:ind Who was the 22nd President of the US ?     ENTY      cremat   \n",
       "496  ENTY:currency What is the money they use in Za...     DESC      reason   \n",
       "497                NUM:count How many feet in a mile ?     DESC         def   \n",
       "498  ENTY:substance What is the birthstone of Octob...      HUM         ind   \n",
       "499                          DESC:def What is e-coli ?      HUM          gr   \n",
       "\n",
       "                                              question  \n",
       "0    How did serfdom develop in and then leave Russ...  \n",
       "1     What films featured the character Popeye Doyle ?  \n",
       "2    How can I find a list of celebrities ' real na...  \n",
       "3    What fowl grabs the spotlight after the Chines...  \n",
       "4                      What is the full form of .com ?  \n",
       "..                                                 ...  \n",
       "495                  What is the Jewish bible called ?  \n",
       "496                           Why is the grass green ?  \n",
       "497                               What is a firewall ?  \n",
       "498  What spy novelist served as Moscow corresponde...  \n",
       "499  Which oil company almost picked a word that me...  \n",
       "\n",
       "[500 rows x 4 columns]"
      ]
     },
     "execution_count": 10,
     "metadata": {},
     "output_type": "execute_result"
    }
   ],
   "source": [
    "test_df = pd.read_table(path_test_data, encoding = \"ISO-8859-1\", header=None)\n",
    "test_df.columns = [\"raw\"]\n",
    "test_df['category'] = train_df.apply (lambda row: row[\"raw\"].split(\":\")[0], axis=1)\n",
    "test_df['subcategory'] = train_df.apply (lambda row: row[\"raw\"].split(\" \")[0].split(\":\")[1], axis=1)\n",
    "test_df['question'] = train_df.apply (lambda row: process_question(row[\"raw\"]), axis=1)\n",
    "\n",
    "test_df"
   ]
  },
  {
   "cell_type": "code",
   "execution_count": 11,
   "metadata": {
    "colab": {
     "base_uri": "https://localhost:8080/",
     "height": 167
    },
    "id": "8q3Wk4OhZ0L9",
    "outputId": "56c3e8cc-2a45-45db-b891-f6f73217a8a8"
   },
   "outputs": [
    {
     "data": {
      "text/html": [
       "<div>\n",
       "<style scoped>\n",
       "    .dataframe tbody tr th:only-of-type {\n",
       "        vertical-align: middle;\n",
       "    }\n",
       "\n",
       "    .dataframe tbody tr th {\n",
       "        vertical-align: top;\n",
       "    }\n",
       "\n",
       "    .dataframe thead th {\n",
       "        text-align: right;\n",
       "    }\n",
       "</style>\n",
       "<table border=\"1\" class=\"dataframe\">\n",
       "  <thead>\n",
       "    <tr style=\"text-align: right;\">\n",
       "      <th></th>\n",
       "      <th>raw</th>\n",
       "      <th>category</th>\n",
       "      <th>subcategory</th>\n",
       "      <th>question</th>\n",
       "    </tr>\n",
       "  </thead>\n",
       "  <tbody>\n",
       "    <tr>\n",
       "      <th>count</th>\n",
       "      <td>500</td>\n",
       "      <td>500</td>\n",
       "      <td>500</td>\n",
       "      <td>500</td>\n",
       "    </tr>\n",
       "    <tr>\n",
       "      <th>unique</th>\n",
       "      <td>500</td>\n",
       "      <td>6</td>\n",
       "      <td>38</td>\n",
       "      <td>498</td>\n",
       "    </tr>\n",
       "    <tr>\n",
       "      <th>top</th>\n",
       "      <td>DESC:def What are coral reefs ?</td>\n",
       "      <td>DESC</td>\n",
       "      <td>ind</td>\n",
       "      <td>What is the speed of the Mississippi River ?</td>\n",
       "    </tr>\n",
       "    <tr>\n",
       "      <th>freq</th>\n",
       "      <td>1</td>\n",
       "      <td>113</td>\n",
       "      <td>84</td>\n",
       "      <td>3</td>\n",
       "    </tr>\n",
       "  </tbody>\n",
       "</table>\n",
       "</div>"
      ],
      "text/plain": [
       "                                    raw category subcategory  \\\n",
       "count                               500      500         500   \n",
       "unique                              500        6          38   \n",
       "top     DESC:def What are coral reefs ?     DESC         ind   \n",
       "freq                                  1      113          84   \n",
       "\n",
       "                                            question  \n",
       "count                                            500  \n",
       "unique                                           498  \n",
       "top     What is the speed of the Mississippi River ?  \n",
       "freq                                               3  "
      ]
     },
     "execution_count": 11,
     "metadata": {},
     "output_type": "execute_result"
    }
   ],
   "source": [
    "train_df.head(5)\n",
    "\n",
    "#describe\n",
    "train_df.describe()\n",
    "test_df.describe()"
   ]
  },
  {
   "cell_type": "markdown",
   "metadata": {
    "id": "E83DrFnjw9Y3"
   },
   "source": [
    "#Explore\n",
    "### question:\n",
    "    - shape, - size\n",
    "    - info: \n",
    "        count: row, unique categories, subcategories\n",
    "    - witch catagories, subcategories, same in both dataframes\n",
    "    - distribution\n",
    "    - duplicates\n",
    "    - len questions (count token)\n",
    "    \n",
    "\n",
    " "
   ]
  },
  {
   "cell_type": "code",
   "execution_count": 12,
   "metadata": {
    "colab": {
     "base_uri": "https://localhost:8080/"
    },
    "id": "mH-DGaQqZ0L9",
    "outputId": "b5f8bcb3-7774-4667-d8f6-fa0fd61b825d"
   },
   "outputs": [
    {
     "name": "stdout",
     "output_type": "stream",
     "text": [
      "---shapes---\n",
      "train:\t(5452, 4)\n",
      "test:\t(500, 4)\n"
     ]
    }
   ],
   "source": [
    "# print test, train shape\n",
    "print(f'---shapes---\\ntrain:\\t{train_df.shape}\\ntest:\\t{test_df.shape}')"
   ]
  },
  {
   "cell_type": "code",
   "execution_count": 13,
   "metadata": {
    "colab": {
     "base_uri": "https://localhost:8080/"
    },
    "id": "Pbd8hRzYZ0L9",
    "outputId": "3864b729-984e-44a6-aec0-b91b0223118a"
   },
   "outputs": [
    {
     "name": "stdout",
     "output_type": "stream",
     "text": [
      "train_size:\t21808\n",
      "test_size:\t2000\n"
     ]
    }
   ],
   "source": [
    "# number of row of columns\n",
    "print(f'train_size:\\t{train_df.size}\\ntest_size:\\t{test_df.size}') "
   ]
  },
  {
   "cell_type": "code",
   "execution_count": 14,
   "metadata": {
    "colab": {
     "base_uri": "https://localhost:8080/"
    },
    "id": "nwAHWpgkZ0L9",
    "outputId": "a0a9fdfb-c329-4d65-d194-849b67696aaf"
   },
   "outputs": [
    {
     "name": "stdout",
     "output_type": "stream",
     "text": [
      "---train---:\n",
      " raw            5382\n",
      "category          6\n",
      "subcategory      47\n",
      "question       5381\n",
      "dtype: int64\n",
      "\n",
      "---test---:\n",
      " raw            500\n",
      "category         6\n",
      "subcategory     38\n",
      "question       498\n",
      "dtype: int64\n"
     ]
    }
   ],
   "source": [
    "# line occupancy    \n",
    "print(f'---train---:\\n {train_df.nunique()}\\n')\n",
    "print(f'---test---:\\n {test_df.nunique()}')"
   ]
  },
  {
   "cell_type": "code",
   "execution_count": 15,
   "metadata": {
    "colab": {
     "base_uri": "https://localhost:8080/"
    },
    "id": "b7roCso3Z0L9",
    "outputId": "774e3f20-7f93-4153-c208-7ea1b1a6323d"
   },
   "outputs": [
    {
     "name": "stdout",
     "output_type": "stream",
     "text": [
      "unique categories: ['DESC' 'ENTY' 'ABBR' 'HUM' 'NUM' 'LOC']\n"
     ]
    },
    {
     "data": {
      "text/plain": [
       "array([ True,  True,  True,  True,  True,  True])"
      ]
     },
     "execution_count": 15,
     "metadata": {},
     "output_type": "execute_result"
    }
   ],
   "source": [
    "#which categories?\n",
    "print(f\"unique categories: {train_df['category'].unique()}\")\n",
    "#same categories in train and test?\n",
    "train_df['category'].unique() == test_df['category'].unique()\n"
   ]
  },
  {
   "cell_type": "code",
   "execution_count": 16,
   "metadata": {
    "colab": {
     "base_uri": "https://localhost:8080/"
    },
    "id": "qgZ2cX89Z0L9",
    "outputId": "25187939-c99b-413c-8ebf-39ed253b8a1f"
   },
   "outputs": [
    {
     "name": "stdout",
     "output_type": "stream",
     "text": [
      "unique subcategories: ['manner' 'cremat' 'animal' 'exp' 'ind' 'gr' 'title' 'def' 'date' 'reason'\n",
      " 'event' 'state' 'desc' 'count' 'other' 'letter' 'religion' 'food'\n",
      " 'country' 'color' 'termeq' 'city' 'body' 'dismed' 'mount' 'money'\n",
      " 'product' 'period' 'substance' 'sport' 'plant' 'techmeth' 'volsize'\n",
      " 'instru' 'abb' 'speed' 'word' 'lang' 'perc' 'code' 'dist' 'temp' 'symbol'\n",
      " 'ord' 'veh' 'weight' 'currency']\n"
     ]
    }
   ],
   "source": [
    "# load dictionary as dict\n",
    "#which categories are not used?.\n",
    "#which categories are used in train and test?\n",
    "\n",
    "print(f\"unique subcategories: {train_df['subcategory'].unique()}\")\n",
    "\n",
    "\n",
    "\n"
   ]
  },
  {
   "cell_type": "code",
   "execution_count": 17,
   "metadata": {
    "colab": {
     "base_uri": "https://localhost:8080/",
     "height": 758
    },
    "id": "rzCKGoOZZ0L9",
    "outputId": "fdf1ac2d-12df-45df-dbbb-2db22be760cf"
   },
   "outputs": [
    {
     "name": "stdout",
     "output_type": "stream",
     "text": [
      "category\n",
      "ABBR      86\n",
      "DESC    1162\n",
      "ENTY    1250\n",
      "HUM     1223\n",
      "LOC      835\n",
      "NUM      896\n",
      "Name: subcategory, dtype: int64\n"
     ]
    },
    {
     "data": {
      "image/png": "[encoded data removed]",
      "text/plain": [
       "<Figure size 432x288 with 1 Axes>"
      ]
     },
     "metadata": {},
     "output_type": "display_data"
    }
   ],
   "source": [
    "# distribution categories (train)\n",
    "dist_train_cat = train_df.groupby('category')['subcategory'].count()\n",
    "print(dist_train_cat)\n",
    "dist_train_cat.sort_values(ascending=False)\n",
    "\n",
    "#visualisation \n",
    "dist_train_cat.plot.pie()\n",
    "plt.title('Distribution categories (train)')\n",
    "plt.savefig(path_plot + 'Distribution_categories_train.png')\n",
    "plt.show()"
   ]
  },
  {
   "cell_type": "code",
   "execution_count": 18,
   "metadata": {
    "id": "4OgKNIQxZ0L9"
   },
   "outputs": [
    {
     "data": {
      "text/plain": [
       "array([  86, 1162, 1250, 1223,  835,  896])"
      ]
     },
     "execution_count": 18,
     "metadata": {},
     "output_type": "execute_result"
    }
   ],
   "source": [
    "type(dist_train_cat)\n",
    "dist_train_cat.values"
   ]
  },
  {
   "cell_type": "code",
   "execution_count": 19,
   "metadata": {
    "id": "iBv14pTjZ0L9"
   },
   "outputs": [
    {
     "data": {
      "image/png": "[encoded data removed]",
      "text/plain": [
       "<Figure size 432x288 with 1 Axes>"
      ]
     },
     "metadata": {},
     "output_type": "display_data"
    }
   ],
   "source": [
    "plt.pie(dist_train_cat,labels=dist_train_cat.index, autopct='%1.0f%%', pctdistance=1.15, labeldistance=1.3) \n",
    "plt.title('Distribution categories (train)')\n",
    "#plt.savefig(path_plot + 'Distribution_categories_train%.png')\n",
    "plt.show()"
   ]
  },
  {
   "cell_type": "code",
   "execution_count": 20,
   "metadata": {
    "id": "AlxDy1zlZ0L9"
   },
   "outputs": [
    {
     "data": {
      "image/png": "[encoded data removed]",
      "text/plain": [
       "<Figure size 432x288 with 1 Axes>"
      ]
     },
     "metadata": {},
     "output_type": "display_data"
    }
   ],
   "source": [
    "# Pie chart, where the slices will show the max_category:\n",
    "labels=dist_train_cat.index\n",
    "sizes = dist_train_cat\n",
    "explode = (0, 0, 0.1, 0, 0, 0)  # only \"explode\" the 3nd slice (max_category)\n",
    "\n",
    "fig1, ax1 = plt.subplots()\n",
    "ax1.pie(dist_train_cat, explode=explode, labels=labels, autopct='%1.1f%%',\n",
    "        shadow=True, startangle=90)\n",
    "ax1.axis('equal')  # Equal aspect ratio ensures that pie is drawn as a circle.\n",
    "plt.title('Distribution categories (train)')\n",
    "plt.savefig(path_plot + 'Distribution_categories_train_slice.png')\n",
    "plt.show()"
   ]
  },
  {
   "cell_type": "code",
   "execution_count": 21,
   "metadata": {
    "id": "coZ73g8eZ0L9"
   },
   "outputs": [
    {
     "name": "stdout",
     "output_type": "stream",
     "text": [
      "category\n",
      "ABBR     11\n",
      "DESC    113\n",
      "ENTY    113\n",
      "HUM     110\n",
      "LOC      78\n",
      "NUM      75\n",
      "Name: subcategory, dtype: int64\n"
     ]
    },
    {
     "data": {
      "image/png": "[encoded data removed]",
      "text/plain": [
       "<Figure size 432x288 with 1 Axes>"
      ]
     },
     "metadata": {},
     "output_type": "display_data"
    }
   ],
   "source": [
    "# distribution categories (test)\n",
    "dist_test_cat = test_df.groupby('category')['subcategory'].count()\n",
    "dist_test_cat.sort_values(ascending=False)\n",
    "print(dist_test_cat)\n",
    "\n",
    "plt.pie(dist_test_cat,labels=dist_test_cat.index, autopct='%1.0f%%', pctdistance=1.15, labeldistance=1.3) \n",
    "plt.title('Distribution categories (test)')\n",
    "plt.savefig(path_plot + 'Distribution_categories_test%.png')\n",
    "plt.show()"
   ]
  },
  {
   "cell_type": "code",
   "execution_count": 22,
   "metadata": {
    "id": "RuGnsAqEZ0L9"
   },
   "outputs": [
    {
     "data": {
      "image/png": "[encoded data removed]",
      "text/plain": [
       "<Figure size 432x288 with 1 Axes>"
      ]
     },
     "metadata": {},
     "output_type": "display_data"
    }
   ],
   "source": [
    "# Pie chart, where the slices will show the max_categories:\n",
    "labels=dist_test_cat.index\n",
    "explode = (0, 0.1, 0.1, 0, 0, 0)  # only \"explode\" the slice (max_categories)\n",
    "\n",
    "fig1, ax1 = plt.subplots()\n",
    "ax1.pie(dist_test_cat, explode=explode, labels=labels, autopct='%1.1f%%',\n",
    "        shadow=True, startangle=90)\n",
    "ax1.axis('equal')  # Equal aspect ratio ensures that pie is drawn as a circle.\n",
    "plt.title('Distribution categories (test)')\n",
    "plt.savefig(path_plot + 'Distribution_categories_test_slice.png')\n",
    "plt.show()"
   ]
  },
  {
   "cell_type": "code",
   "execution_count": 23,
   "metadata": {
    "id": "r4USvwZ0Z0L9"
   },
   "outputs": [
    {
     "name": "stdout",
     "output_type": "stream",
     "text": [
      "category  subcategory\n",
      "ABBR      exp             70\n",
      "          abb             16\n",
      "DESC      def            421\n",
      "          manner         276\n",
      "          desc           274\n",
      "          reason         191\n",
      "ENTY      other          217\n",
      "          cremat         207\n",
      "          animal         112\n",
      "          dismed         103\n",
      "          food           103\n",
      "          termeq          93\n",
      "          sport           62\n",
      "          event           56\n",
      "          product         42\n",
      "          substance       41\n",
      "          color           40\n",
      "          techmeth        38\n",
      "          veh             27\n",
      "          word            26\n",
      "          body            16\n",
      "          lang            16\n",
      "          plant           13\n",
      "          symbol          11\n",
      "          instru          10\n",
      "          letter           9\n",
      "          currency         4\n",
      "          religion         4\n",
      "HUM       ind            962\n",
      "          gr             189\n",
      "          desc            47\n",
      "          title           25\n",
      "LOC       other          464\n",
      "          country        155\n",
      "          city           129\n",
      "          state           66\n",
      "          mount           21\n",
      "NUM       count          363\n",
      "          date           218\n",
      "          period          75\n",
      "          money           71\n",
      "          other           52\n",
      "          dist            34\n",
      "          perc            27\n",
      "          volsize         13\n",
      "          weight          11\n",
      "          code             9\n",
      "          speed            9\n",
      "          temp             8\n",
      "          ord              6\n",
      "Name: subcategory, dtype: int64\n"
     ]
    }
   ],
   "source": [
    "# distribution subcategories (train)\n",
    "dist_train_sub = train_df.subcategory.groupby(train_df['category']).value_counts()\n",
    "print(dist_train_sub)"
   ]
  },
  {
   "cell_type": "code",
   "execution_count": 24,
   "metadata": {
    "id": "ULnxtjQlZ0L9"
   },
   "outputs": [
    {
     "name": "stdout",
     "output_type": "stream",
     "text": [
      "first 20: category  subcategory\n",
      "HUM       ind            962\n",
      "LOC       other          464\n",
      "DESC      def            421\n",
      "NUM       count          363\n",
      "DESC      manner         276\n",
      "          desc           274\n",
      "NUM       date           218\n",
      "ENTY      other          217\n",
      "          cremat         207\n",
      "DESC      reason         191\n",
      "HUM       gr             189\n",
      "LOC       country        155\n",
      "          city           129\n",
      "ENTY      animal         112\n",
      "          dismed         103\n",
      "          food           103\n",
      "          termeq          93\n",
      "NUM       period          75\n",
      "          money           71\n",
      "ABBR      exp             70\n",
      "Name: subcategory, dtype: int64\n"
     ]
    }
   ],
   "source": [
    "#first 20 subcategories\n",
    "print(f'first 20: {dist_train_sub.sort_values(ascending=False)[:20]}')"
   ]
  },
  {
   "cell_type": "code",
   "execution_count": 25,
   "metadata": {
    "id": "3eGX-t4toQvK"
   },
   "outputs": [
    {
     "data": {
      "image/png": "[encoded data removed]",
      "text/plain": [
       "<Figure size 864x432 with 1 Axes>"
      ]
     },
     "metadata": {
      "needs_background": "light"
     },
     "output_type": "display_data"
    }
   ],
   "source": [
    "fig= plt.figure(figsize=(12,6))\n",
    "dist_train_sub.sort_values(ascending=False).plot.bar(label='train')\n",
    "plt.xlabel('subcategories')\n",
    "plt.ylabel('frequency')\n",
    "plt.title('Distribution subcategories (train)')\n",
    "plt.savefig(path_plot + 'Distribution_subcategories_train.png')\n",
    "plt.show()"
   ]
  },
  {
   "cell_type": "code",
   "execution_count": 26,
   "metadata": {
    "id": "peTqIjxGpkIW"
   },
   "outputs": [
    {
     "name": "stdout",
     "output_type": "stream",
     "text": [
      "category  subcategory\n",
      "ABBR      exp             9\n",
      "          abb             2\n",
      "DESC      def            40\n",
      "          manner         29\n",
      "          desc           23\n",
      "          reason         21\n",
      "ENTY      other          22\n",
      "          cremat         21\n",
      "          animal         16\n",
      "          food            7\n",
      "          termeq          7\n",
      "          dismed          6\n",
      "          techmeth        6\n",
      "          body            5\n",
      "          event           5\n",
      "          color           3\n",
      "          product         3\n",
      "          sport           3\n",
      "          instru          2\n",
      "          substance       2\n",
      "          lang            1\n",
      "          letter          1\n",
      "          plant           1\n",
      "          religion        1\n",
      "          word            1\n",
      "HUM       ind            84\n",
      "          gr             21\n",
      "          desc            3\n",
      "          title           2\n",
      "LOC       other          41\n",
      "          city           12\n",
      "          country        12\n",
      "          state           8\n",
      "          mount           5\n",
      "NUM       count          31\n",
      "          date           29\n",
      "          other           5\n",
      "          money           4\n",
      "          speed           3\n",
      "          volsize         2\n",
      "          period          1\n",
      "Name: subcategory, dtype: int64\n"
     ]
    }
   ],
   "source": [
    "# distribution subcategories (test)\n",
    "dist_test_sub = test_df.subcategory.groupby(test_df['category']).value_counts()\n",
    "print(dist_test_sub)\n"
   ]
  },
  {
   "cell_type": "code",
   "execution_count": 27,
   "metadata": {
    "id": "AzblExVaohF7"
   },
   "outputs": [
    {
     "name": "stdout",
     "output_type": "stream",
     "text": [
      "first 20: category  subcategory\n",
      "HUM       ind            962\n",
      "LOC       other          464\n",
      "DESC      def            421\n",
      "NUM       count          363\n",
      "DESC      manner         276\n",
      "          desc           274\n",
      "NUM       date           218\n",
      "ENTY      other          217\n",
      "          cremat         207\n",
      "DESC      reason         191\n",
      "HUM       gr             189\n",
      "LOC       country        155\n",
      "          city           129\n",
      "ENTY      animal         112\n",
      "          dismed         103\n",
      "          food           103\n",
      "          termeq          93\n",
      "NUM       period          75\n",
      "          money           71\n",
      "ABBR      exp             70\n",
      "Name: subcategory, dtype: int64\n"
     ]
    }
   ],
   "source": [
    "print(f'first 20: {dist_train_sub.sort_values(ascending=False)[:20]}')"
   ]
  },
  {
   "cell_type": "code",
   "execution_count": 28,
   "metadata": {
    "id": "eKNnqt2LCeRh"
   },
   "outputs": [
    {
     "data": {
      "image/png": "[encoded data removed]",
      "text/plain": [
       "<Figure size 864x432 with 1 Axes>"
      ]
     },
     "metadata": {
      "needs_background": "light"
     },
     "output_type": "display_data"
    }
   ],
   "source": [
    "plt.figure(figsize=(12,6))\n",
    "dist_test_sub.sort_values(ascending=False).plot.bar(label='test')\n",
    "plt.xlabel('subcategories')\n",
    "plt.ylabel('frequency')\n",
    "plt.title('Distribution subcategories (test)')\n",
    "plt.savefig(path_plot + 'Distribution_subcategories_test.png')\n",
    "plt.show()"
   ]
  },
  {
   "cell_type": "code",
   "execution_count": 29,
   "metadata": {
    "id": "aPwtZ9-lszTb"
   },
   "outputs": [],
   "source": [
    "#plt.gca().set_xticklabels(xtickvals[::6], rotation=90, fontdict={'horizontalalignment': 'center', 'verticalalignment': 'center_baseline'})"
   ]
  },
  {
   "cell_type": "code",
   "execution_count": 30,
   "metadata": {
    "id": "RPsfzSrdtUu3"
   },
   "outputs": [
    {
     "name": "stdout",
     "output_type": "stream",
     "text": [
      "The 14 largest subcategories account for a proportion of 0.8033749082905356\n"
     ]
    }
   ],
   "source": [
    "#test_df with only 38 subcategories compared to 47 in train_df\n",
    "n = 14   #input for nlargest\n",
    "train_df.subcategory.value_counts().nlargest(n).sum()\n",
    "\n",
    "p = (train_df.subcategory.value_counts().nlargest(n).sum())/len(train_df)\n",
    "print(f'The {n} largest subcategories account for a proportion of {p}')"
   ]
  },
  {
   "cell_type": "code",
   "execution_count": 31,
   "metadata": {
    "id": "Vts8uXHDDQg7"
   },
   "outputs": [
    {
     "name": "stdout",
     "output_type": "stream",
     "text": [
      "The 14 largest subcategories have 4380 questions.\n"
     ]
    }
   ],
   "source": [
    "train_df.subcategory.value_counts().nlargest(n)\n",
    "\n",
    "top_subcategories = list((train_df.subcategory.value_counts().nlargest(n)).index)\n",
    "top_subcategories\n",
    "\n",
    "train_df_top = train_df.loc[train_df['subcategory'].isin(top_subcategories)]\n",
    "print(f'The {n} largest subcategories have {len(train_df_top)} questions.')"
   ]
  },
  {
   "cell_type": "code",
   "execution_count": 32,
   "metadata": {
    "id": "r8CPOMSQuqTT"
   },
   "outputs": [
    {
     "data": {
      "text/plain": [
       "ind          84\n",
       "other        68\n",
       "def          40\n",
       "count        31\n",
       "manner       29\n",
       "date         29\n",
       "desc         26\n",
       "cremat       21\n",
       "reason       21\n",
       "gr           21\n",
       "animal       16\n",
       "country      12\n",
       "city         12\n",
       "exp           9\n",
       "state         8\n",
       "termeq        7\n",
       "food          7\n",
       "dismed        6\n",
       "techmeth      6\n",
       "body          5\n",
       "event         5\n",
       "mount         5\n",
       "money         4\n",
       "color         3\n",
       "speed         3\n",
       "product       3\n",
       "sport         3\n",
       "title         2\n",
       "instru        2\n",
       "volsize       2\n",
       "abb           2\n",
       "substance     2\n",
       "letter        1\n",
       "religion      1\n",
       "plant         1\n",
       "period        1\n",
       "lang          1\n",
       "word          1\n",
       "Name: subcategory, dtype: int64"
      ]
     },
     "execution_count": 32,
     "metadata": {},
     "output_type": "execute_result"
    }
   ],
   "source": [
    "train_df_top.sample(10)\n",
    "train_df_top.subcategory.groupby(train_df['category']).value_counts()\n",
    "\n",
    "#More than 80% of the data can be assigned to only 14 out of 47 subcategories in train_df\n",
    "\n",
    "test_df.subcategory.value_counts().nlargest(39)"
   ]
  },
  {
   "cell_type": "code",
   "execution_count": 33,
   "metadata": {
    "id": "juppjz_uZ0L9"
   },
   "outputs": [
    {
     "data": {
      "image/png": "[encoded data removed]",
      "text/plain": [
       "<Figure size 432x288 with 1 Axes>"
      ]
     },
     "metadata": {
      "needs_background": "light"
     },
     "output_type": "display_data"
    },
    {
     "name": "stdout",
     "output_type": "stream",
     "text": [
      "The texts have a mean length of 10 tokens.\n",
      "The longest text has 37 tokens, the shortest has 3 tokens.\n"
     ]
    }
   ],
   "source": [
    "# distribution of length of questions, train data\n",
    "df = train_df['question']\n",
    "title = 'Distribution of length of questions (train)'\n",
    "diagram ='length_questions_train'\n",
    "\n",
    "get_plot_length_text(df, title, diagram)"
   ]
  },
  {
   "cell_type": "code",
   "execution_count": 34,
   "metadata": {
    "id": "PnwPERL9Z0L9"
   },
   "outputs": [
    {
     "data": {
      "image/png": "[encoded data removed]",
      "text/plain": [
       "<Figure size 432x288 with 1 Axes>"
      ]
     },
     "metadata": {
      "needs_background": "light"
     },
     "output_type": "display_data"
    },
    {
     "name": "stdout",
     "output_type": "stream",
     "text": [
      "The texts have a mean length of 10 tokens.\n",
      "The longest text has 28 tokens, the shortest has 4 tokens.\n"
     ]
    }
   ],
   "source": [
    "# distribution of length of questions, test data\n",
    "df = test_df['question']\n",
    "title = 'Distribution of length of questions (test)'\n",
    "diagram ='length_questions_test'\n",
    "\n",
    "get_plot_length_text(df, title, diagram)"
   ]
  },
  {
   "cell_type": "code",
   "execution_count": 35,
   "metadata": {
    "id": "jGyrJMoCZ0L9"
   },
   "outputs": [
    {
     "data": {
      "image/png": "[encoded data removed]",
      "text/plain": [
       "<Figure size 432x288 with 1 Axes>"
      ]
     },
     "metadata": {
      "needs_background": "light"
     },
     "output_type": "display_data"
    }
   ],
   "source": [
    "# distribution of length of questions, train and test data\n",
    "ax1 = plt.hist(train_df['question'].apply(lambda text: len(text.split())),label='train')\n",
    "ax2 = plt.hist(test_df['question'].apply(lambda text: len(text.split())), label='test')\n",
    "plt.legend()\n",
    "plt.xlabel('number of token')\n",
    "plt.ylabel('frequencies per data set')\n",
    "plt.title('Distributions of length of questions')\n",
    "plt.savefig(path_plot + 'length_questions.png')\n",
    "plt.show()"
   ]
  },
  {
   "cell_type": "code",
   "execution_count": 36,
   "metadata": {
    "id": "KNCPZFJpZ0L9"
   },
   "outputs": [
    {
     "name": "stdout",
     "output_type": "stream",
     "text": [
      "The questions in the train data set have an average of 10 tokens, and 10 tokens in the test data set.\n"
     ]
    }
   ],
   "source": [
    "#average length of question\n",
    "al_train = round(train_df['question'].apply(lambda text: len(text.split())).mean())\n",
    "al_test = round(test_df['question'].apply(lambda text: len(text.split())).mean())\n",
    "print(f'The questions in the train data set have an average of {al_train} tokens,\\\n",
    " and {al_test} tokens in the test data set.')"
   ]
  },
  {
   "cell_type": "code",
   "execution_count": 37,
   "metadata": {
    "id": "_HI5fv2tZ0L9"
   },
   "outputs": [
    {
     "name": "stdout",
     "output_type": "stream",
     "text": [
      "---shapes---\n",
      "train_df:\t(5452, 4)\n",
      "train_question:\t(5452, 37)\n",
      "test_question:\t(500, 28)\n"
     ]
    },
    {
     "data": {
      "text/html": [
       "<div>\n",
       "<style scoped>\n",
       "    .dataframe tbody tr th:only-of-type {\n",
       "        vertical-align: middle;\n",
       "    }\n",
       "\n",
       "    .dataframe tbody tr th {\n",
       "        vertical-align: top;\n",
       "    }\n",
       "\n",
       "    .dataframe thead th {\n",
       "        text-align: right;\n",
       "    }\n",
       "</style>\n",
       "<table border=\"1\" class=\"dataframe\">\n",
       "  <thead>\n",
       "    <tr style=\"text-align: right;\">\n",
       "      <th></th>\n",
       "      <th>0</th>\n",
       "      <th>1</th>\n",
       "      <th>2</th>\n",
       "      <th>3</th>\n",
       "      <th>4</th>\n",
       "      <th>5</th>\n",
       "      <th>6</th>\n",
       "      <th>7</th>\n",
       "      <th>8</th>\n",
       "      <th>9</th>\n",
       "      <th>...</th>\n",
       "      <th>27</th>\n",
       "      <th>28</th>\n",
       "      <th>29</th>\n",
       "      <th>30</th>\n",
       "      <th>31</th>\n",
       "      <th>32</th>\n",
       "      <th>33</th>\n",
       "      <th>34</th>\n",
       "      <th>35</th>\n",
       "      <th>36</th>\n",
       "    </tr>\n",
       "  </thead>\n",
       "  <tbody>\n",
       "    <tr>\n",
       "      <th>0</th>\n",
       "      <td>How</td>\n",
       "      <td>did</td>\n",
       "      <td>serfdom</td>\n",
       "      <td>develop</td>\n",
       "      <td>in</td>\n",
       "      <td>and</td>\n",
       "      <td>then</td>\n",
       "      <td>leave</td>\n",
       "      <td>Russia</td>\n",
       "      <td>?</td>\n",
       "      <td>...</td>\n",
       "      <td>None</td>\n",
       "      <td>None</td>\n",
       "      <td>None</td>\n",
       "      <td>None</td>\n",
       "      <td>None</td>\n",
       "      <td>None</td>\n",
       "      <td>None</td>\n",
       "      <td>None</td>\n",
       "      <td>None</td>\n",
       "      <td>None</td>\n",
       "    </tr>\n",
       "    <tr>\n",
       "      <th>1</th>\n",
       "      <td>What</td>\n",
       "      <td>films</td>\n",
       "      <td>featured</td>\n",
       "      <td>the</td>\n",
       "      <td>character</td>\n",
       "      <td>Popeye</td>\n",
       "      <td>Doyle</td>\n",
       "      <td>?</td>\n",
       "      <td>None</td>\n",
       "      <td>None</td>\n",
       "      <td>...</td>\n",
       "      <td>None</td>\n",
       "      <td>None</td>\n",
       "      <td>None</td>\n",
       "      <td>None</td>\n",
       "      <td>None</td>\n",
       "      <td>None</td>\n",
       "      <td>None</td>\n",
       "      <td>None</td>\n",
       "      <td>None</td>\n",
       "      <td>None</td>\n",
       "    </tr>\n",
       "    <tr>\n",
       "      <th>2</th>\n",
       "      <td>How</td>\n",
       "      <td>can</td>\n",
       "      <td>I</td>\n",
       "      <td>find</td>\n",
       "      <td>a</td>\n",
       "      <td>list</td>\n",
       "      <td>of</td>\n",
       "      <td>celebrities</td>\n",
       "      <td>'</td>\n",
       "      <td>real</td>\n",
       "      <td>...</td>\n",
       "      <td>None</td>\n",
       "      <td>None</td>\n",
       "      <td>None</td>\n",
       "      <td>None</td>\n",
       "      <td>None</td>\n",
       "      <td>None</td>\n",
       "      <td>None</td>\n",
       "      <td>None</td>\n",
       "      <td>None</td>\n",
       "      <td>None</td>\n",
       "    </tr>\n",
       "    <tr>\n",
       "      <th>3</th>\n",
       "      <td>What</td>\n",
       "      <td>fowl</td>\n",
       "      <td>grabs</td>\n",
       "      <td>the</td>\n",
       "      <td>spotlight</td>\n",
       "      <td>after</td>\n",
       "      <td>the</td>\n",
       "      <td>Chinese</td>\n",
       "      <td>Year</td>\n",
       "      <td>of</td>\n",
       "      <td>...</td>\n",
       "      <td>None</td>\n",
       "      <td>None</td>\n",
       "      <td>None</td>\n",
       "      <td>None</td>\n",
       "      <td>None</td>\n",
       "      <td>None</td>\n",
       "      <td>None</td>\n",
       "      <td>None</td>\n",
       "      <td>None</td>\n",
       "      <td>None</td>\n",
       "    </tr>\n",
       "    <tr>\n",
       "      <th>4</th>\n",
       "      <td>What</td>\n",
       "      <td>is</td>\n",
       "      <td>the</td>\n",
       "      <td>full</td>\n",
       "      <td>form</td>\n",
       "      <td>of</td>\n",
       "      <td>.com</td>\n",
       "      <td>?</td>\n",
       "      <td>None</td>\n",
       "      <td>None</td>\n",
       "      <td>...</td>\n",
       "      <td>None</td>\n",
       "      <td>None</td>\n",
       "      <td>None</td>\n",
       "      <td>None</td>\n",
       "      <td>None</td>\n",
       "      <td>None</td>\n",
       "      <td>None</td>\n",
       "      <td>None</td>\n",
       "      <td>None</td>\n",
       "      <td>None</td>\n",
       "    </tr>\n",
       "    <tr>\n",
       "      <th>...</th>\n",
       "      <td>...</td>\n",
       "      <td>...</td>\n",
       "      <td>...</td>\n",
       "      <td>...</td>\n",
       "      <td>...</td>\n",
       "      <td>...</td>\n",
       "      <td>...</td>\n",
       "      <td>...</td>\n",
       "      <td>...</td>\n",
       "      <td>...</td>\n",
       "      <td>...</td>\n",
       "      <td>...</td>\n",
       "      <td>...</td>\n",
       "      <td>...</td>\n",
       "      <td>...</td>\n",
       "      <td>...</td>\n",
       "      <td>...</td>\n",
       "      <td>...</td>\n",
       "      <td>...</td>\n",
       "      <td>...</td>\n",
       "      <td>...</td>\n",
       "    </tr>\n",
       "    <tr>\n",
       "      <th>5447</th>\n",
       "      <td>What</td>\n",
       "      <td>'s</td>\n",
       "      <td>the</td>\n",
       "      <td>shape</td>\n",
       "      <td>of</td>\n",
       "      <td>a</td>\n",
       "      <td>camel</td>\n",
       "      <td>'s</td>\n",
       "      <td>spine</td>\n",
       "      <td>?</td>\n",
       "      <td>...</td>\n",
       "      <td>None</td>\n",
       "      <td>None</td>\n",
       "      <td>None</td>\n",
       "      <td>None</td>\n",
       "      <td>None</td>\n",
       "      <td>None</td>\n",
       "      <td>None</td>\n",
       "      <td>None</td>\n",
       "      <td>None</td>\n",
       "      <td>None</td>\n",
       "    </tr>\n",
       "    <tr>\n",
       "      <th>5448</th>\n",
       "      <td>What</td>\n",
       "      <td>type</td>\n",
       "      <td>of</td>\n",
       "      <td>currency</td>\n",
       "      <td>is</td>\n",
       "      <td>used</td>\n",
       "      <td>in</td>\n",
       "      <td>China</td>\n",
       "      <td>?</td>\n",
       "      <td>None</td>\n",
       "      <td>...</td>\n",
       "      <td>None</td>\n",
       "      <td>None</td>\n",
       "      <td>None</td>\n",
       "      <td>None</td>\n",
       "      <td>None</td>\n",
       "      <td>None</td>\n",
       "      <td>None</td>\n",
       "      <td>None</td>\n",
       "      <td>None</td>\n",
       "      <td>None</td>\n",
       "    </tr>\n",
       "    <tr>\n",
       "      <th>5449</th>\n",
       "      <td>What</td>\n",
       "      <td>is</td>\n",
       "      <td>the</td>\n",
       "      <td>temperature</td>\n",
       "      <td>today</td>\n",
       "      <td>?</td>\n",
       "      <td>None</td>\n",
       "      <td>None</td>\n",
       "      <td>None</td>\n",
       "      <td>None</td>\n",
       "      <td>...</td>\n",
       "      <td>None</td>\n",
       "      <td>None</td>\n",
       "      <td>None</td>\n",
       "      <td>None</td>\n",
       "      <td>None</td>\n",
       "      <td>None</td>\n",
       "      <td>None</td>\n",
       "      <td>None</td>\n",
       "      <td>None</td>\n",
       "      <td>None</td>\n",
       "    </tr>\n",
       "    <tr>\n",
       "      <th>5450</th>\n",
       "      <td>What</td>\n",
       "      <td>is</td>\n",
       "      <td>the</td>\n",
       "      <td>temperature</td>\n",
       "      <td>for</td>\n",
       "      <td>cooking</td>\n",
       "      <td>?</td>\n",
       "      <td>None</td>\n",
       "      <td>None</td>\n",
       "      <td>None</td>\n",
       "      <td>...</td>\n",
       "      <td>None</td>\n",
       "      <td>None</td>\n",
       "      <td>None</td>\n",
       "      <td>None</td>\n",
       "      <td>None</td>\n",
       "      <td>None</td>\n",
       "      <td>None</td>\n",
       "      <td>None</td>\n",
       "      <td>None</td>\n",
       "      <td>None</td>\n",
       "    </tr>\n",
       "    <tr>\n",
       "      <th>5451</th>\n",
       "      <td>What</td>\n",
       "      <td>currency</td>\n",
       "      <td>is</td>\n",
       "      <td>used</td>\n",
       "      <td>in</td>\n",
       "      <td>Australia</td>\n",
       "      <td>?</td>\n",
       "      <td>None</td>\n",
       "      <td>None</td>\n",
       "      <td>None</td>\n",
       "      <td>...</td>\n",
       "      <td>None</td>\n",
       "      <td>None</td>\n",
       "      <td>None</td>\n",
       "      <td>None</td>\n",
       "      <td>None</td>\n",
       "      <td>None</td>\n",
       "      <td>None</td>\n",
       "      <td>None</td>\n",
       "      <td>None</td>\n",
       "      <td>None</td>\n",
       "    </tr>\n",
       "  </tbody>\n",
       "</table>\n",
       "<p>5452 rows × 37 columns</p>\n",
       "</div>"
      ],
      "text/plain": [
       "        0         1         2            3          4          5      6   \\\n",
       "0      How       did   serfdom      develop         in        and   then   \n",
       "1     What     films  featured          the  character     Popeye  Doyle   \n",
       "2      How       can         I         find          a       list     of   \n",
       "3     What      fowl     grabs          the  spotlight      after    the   \n",
       "4     What        is       the         full       form         of   .com   \n",
       "...    ...       ...       ...          ...        ...        ...    ...   \n",
       "5447  What        's       the        shape         of          a  camel   \n",
       "5448  What      type        of     currency         is       used     in   \n",
       "5449  What        is       the  temperature      today          ?   None   \n",
       "5450  What        is       the  temperature        for    cooking      ?   \n",
       "5451  What  currency        is         used         in  Australia      ?   \n",
       "\n",
       "               7       8     9   ...    27    28    29    30    31    32  \\\n",
       "0           leave  Russia     ?  ...  None  None  None  None  None  None   \n",
       "1               ?    None  None  ...  None  None  None  None  None  None   \n",
       "2     celebrities       '  real  ...  None  None  None  None  None  None   \n",
       "3         Chinese    Year    of  ...  None  None  None  None  None  None   \n",
       "4               ?    None  None  ...  None  None  None  None  None  None   \n",
       "...           ...     ...   ...  ...   ...   ...   ...   ...   ...   ...   \n",
       "5447           's   spine     ?  ...  None  None  None  None  None  None   \n",
       "5448        China       ?  None  ...  None  None  None  None  None  None   \n",
       "5449         None    None  None  ...  None  None  None  None  None  None   \n",
       "5450         None    None  None  ...  None  None  None  None  None  None   \n",
       "5451         None    None  None  ...  None  None  None  None  None  None   \n",
       "\n",
       "        33    34    35    36  \n",
       "0     None  None  None  None  \n",
       "1     None  None  None  None  \n",
       "2     None  None  None  None  \n",
       "3     None  None  None  None  \n",
       "4     None  None  None  None  \n",
       "...    ...   ...   ...   ...  \n",
       "5447  None  None  None  None  \n",
       "5448  None  None  None  None  \n",
       "5449  None  None  None  None  \n",
       "5450  None  None  None  None  \n",
       "5451  None  None  None  None  \n",
       "\n",
       "[5452 rows x 37 columns]"
      ]
     },
     "execution_count": 37,
     "metadata": {},
     "output_type": "execute_result"
    }
   ],
   "source": [
    "#one token per cell --- from question\n",
    "train_question_df = train_df['question'].str.split(\" \", expand=True)\n",
    "test_question_df = test_df['question'].str.split(\" \", expand=True)\n",
    "\n",
    "# print test, train shape\n",
    "print(f'---shapes---\\ntrain_df:\\t{train_df.shape}\\\n",
    "\\ntrain_question:\\t{train_question_df.shape}\\n\\\n",
    "test_question:\\t{test_question_df.shape}')\n",
    "\n",
    "train_question_df "
   ]
  },
  {
   "cell_type": "code",
   "execution_count": 38,
   "metadata": {
    "id": "TMfe0QmAZ0L9",
    "scrolled": true
   },
   "outputs": [
    {
     "name": "stdout",
     "output_type": "stream",
     "text": [
      "0 :  100.0\n",
      "1 :  100.0\n",
      "2 :  100.0\n",
      "3 :  99.93\n",
      "4 :  97.45\n",
      "5 :  92.53\n",
      "6 :  85.29\n",
      "7 :  74.91\n",
      "8 :  63.35\n",
      "9 :  50.99\n",
      "10 :  40.24\n",
      "11 :  30.5\n",
      "12 :  21.88\n",
      "13 :  16.45\n",
      "14 :  12.84\n",
      "15 :  9.3\n",
      "16 :  6.68\n",
      "17 :  4.99\n",
      "18 :  3.52\n",
      "19 :  2.46\n",
      "20 :  1.89\n",
      "21 :  1.32\n",
      "22 :  0.97\n",
      "23 :  0.77\n",
      "24 :  0.53\n",
      "25 :  0.39\n",
      "26 :  0.29\n",
      "27 :  0.28\n",
      "28 :  0.22\n",
      "29 :  0.15\n",
      "30 :  0.13\n",
      "31 :  0.07\n",
      "32 :  0.04\n",
      "33 :  0.04\n",
      "34 :  0.02\n",
      "35 :  0.02\n",
      "36 :  0.02\n"
     ]
    }
   ],
   "source": [
    "#percentage distribution of tokens (train)\n",
    "for column in train_question_df.columns:\n",
    "    nan_sum = train_question_df[column].isnull().sum()\n",
    "    print(column,': ',round(100.00-(nan_sum*100/len(train_question_df)),2))"
   ]
  },
  {
   "cell_type": "code",
   "execution_count": 39,
   "metadata": {
    "id": "SAS6dMVlZ0L9"
   },
   "outputs": [
    {
     "name": "stdout",
     "output_type": "stream",
     "text": [
      "0 :  100.0\n",
      "1 :  100.0\n",
      "2 :  100.0\n",
      "3 :  100.0\n",
      "4 :  97.2\n",
      "5 :  92.2\n",
      "6 :  84.0\n",
      "7 :  73.4\n",
      "8 :  61.2\n",
      "9 :  48.0\n",
      "10 :  36.6\n",
      "11 :  26.2\n",
      "12 :  18.6\n",
      "13 :  12.2\n",
      "14 :  9.0\n",
      "15 :  6.0\n",
      "16 :  4.6\n",
      "17 :  3.2\n",
      "18 :  1.6\n",
      "19 :  1.2\n",
      "20 :  1.0\n",
      "21 :  0.8\n",
      "22 :  0.6\n",
      "23 :  0.4\n",
      "24 :  0.4\n",
      "25 :  0.4\n",
      "26 :  0.2\n",
      "27 :  0.2\n"
     ]
    }
   ],
   "source": [
    "#percentage distribution of tokens (test)\n",
    "for column in test_question_df.columns:\n",
    "    nan_sum = test_question_df[column].isnull().sum()\n",
    "    print(column,': ',round(100.00-(nan_sum*100/len(test_question_df)),2))"
   ]
  },
  {
   "cell_type": "code",
   "execution_count": 40,
   "metadata": {
    "id": "0EZ3aOEnZ0L9"
   },
   "outputs": [
    {
     "data": {
      "text/plain": [
       "What      3242\n",
       "How        764\n",
       "Who        559\n",
       "Where      273\n",
       "When       131\n",
       "Which      105\n",
       "Why        103\n",
       "Name        90\n",
       "In          66\n",
       "The         18\n",
       "Whose       14\n",
       "On          13\n",
       "CNN          5\n",
       "Define       4\n",
       "Whom         4\n",
       "Name: 0, dtype: int64"
      ]
     },
     "execution_count": 40,
     "metadata": {},
     "output_type": "execute_result"
    }
   ],
   "source": [
    "#distribution of most frequent first words in questions - top 15\n",
    "question_top_words = train_question_df[0].value_counts().nlargest(15)\n",
    "question_top_words"
   ]
  },
  {
   "cell_type": "code",
   "execution_count": 41,
   "metadata": {
    "id": "AdyDCJNfZ0L9"
   },
   "outputs": [
    {
     "data": {
      "text/plain": [
       "['What', 'How', 'Who', 'Where', 'When', 'Which']"
      ]
     },
     "execution_count": 41,
     "metadata": {},
     "output_type": "execute_result"
    }
   ],
   "source": [
    "question_words = list(train_question_df[0].value_counts().nlargest(15).index[0:6])\n",
    "question_words  #top 7 from above"
   ]
  },
  {
   "cell_type": "code",
   "execution_count": 42,
   "metadata": {
    "id": "k2cQHY0YZ0L9"
   },
   "outputs": [],
   "source": [
    "#combination of words table with (sub)categories"
   ]
  },
  {
   "cell_type": "code",
   "execution_count": 43,
   "metadata": {
    "id": "JlM75PjSZ0L9"
   },
   "outputs": [],
   "source": [
    "train_df_words = train_df.join(train_question_df)"
   ]
  },
  {
   "cell_type": "code",
   "execution_count": 44,
   "metadata": {
    "id": "cfZ4fcAtHEro"
   },
   "outputs": [],
   "source": [
    "train_df_words_top = train_df_words.loc[train_df_words[0].isin(question_words)]"
   ]
  },
  {
   "cell_type": "code",
   "execution_count": 45,
   "metadata": {
    "id": "mmiJwZg8Z0L9"
   },
   "outputs": [
    {
     "data": {
      "text/plain": [
       "(5074, 41)"
      ]
     },
     "execution_count": 45,
     "metadata": {},
     "output_type": "execute_result"
    }
   ],
   "source": [
    "#More than 90% of the question texts start with one of 7 (top) question words\n",
    "train_df_words_top.shape"
   ]
  },
  {
   "cell_type": "code",
   "execution_count": 46,
   "metadata": {
    "id": "5bpxGrZCZ0L9"
   },
   "outputs": [
    {
     "data": {
      "text/plain": [
       "category  0    \n",
       "ABBR      What       81\n",
       "          When        1\n",
       "DESC      What      749\n",
       "          How       278\n",
       "          Where      14\n",
       "ENTY      What     1112\n",
       "          Which      43\n",
       "          How         7\n",
       "          Where       2\n",
       "          Who         2\n",
       "          When        1\n",
       "HUM       Who       557\n",
       "          What      533\n",
       "          Which      46\n",
       "          When        4\n",
       "LOC       What      523\n",
       "          Where     255\n",
       "          Which      16\n",
       "          When        1\n",
       "NUM       How       479\n",
       "          What      244\n",
       "          When      124\n",
       "          Where       2\n",
       "Name: 0, dtype: int64"
      ]
     },
     "execution_count": 46,
     "metadata": {},
     "output_type": "execute_result"
    }
   ],
   "source": [
    "#question words give indications for category\n",
    "train_df_words_top[0].groupby(train_df_words_top['category']).value_counts()"
   ]
  },
  {
   "cell_type": "code",
   "execution_count": 47,
   "metadata": {
    "id": "XWyKVYiVGh4l"
   },
   "outputs": [
    {
     "data": {
      "text/plain": [
       "What      3242\n",
       "How        764\n",
       "Who        559\n",
       "Where      273\n",
       "When       131\n",
       "Which      105\n",
       "Why        103\n",
       "Name        90\n",
       "In          66\n",
       "The         18\n",
       "Whose       14\n",
       "On          13\n",
       "CNN          5\n",
       "Define       4\n",
       "Whom         4\n",
       "Name: 0, dtype: int64"
      ]
     },
     "execution_count": 47,
     "metadata": {},
     "output_type": "execute_result"
    }
   ],
   "source": [
    "#distribution of most frequent first words in questions - top 15\n",
    "question_top_words = train_question_df[0].value_counts().nlargest(15)\n",
    "question_top_words"
   ]
  },
  {
   "cell_type": "code",
   "execution_count": 48,
   "metadata": {
    "id": "sLCxvXAJGmAv"
   },
   "outputs": [
    {
     "data": {
      "text/plain": [
       "['What', 'How', 'Who', 'Where', 'When', 'Which']"
      ]
     },
     "execution_count": 48,
     "metadata": {},
     "output_type": "execute_result"
    }
   ],
   "source": [
    "question_words = list(train_question_df[0].value_counts().nlargest(15).index[0:6])\n",
    "question_words  #top 7 from above"
   ]
  },
  {
   "cell_type": "markdown",
   "metadata": {
    "id": "QsIwcycXGqdn"
   },
   "source": [
    "combination of words table with (sub)categories"
   ]
  },
  {
   "cell_type": "code",
   "execution_count": 49,
   "metadata": {
    "id": "OIzGoqkXGyj9"
   },
   "outputs": [],
   "source": [
    "train_df_words = train_df.join(train_question_df)"
   ]
  },
  {
   "cell_type": "code",
   "execution_count": 50,
   "metadata": {
    "id": "mX6P6TzuG3DU"
   },
   "outputs": [],
   "source": [
    "train_df_words_top = train_df_words.loc[train_df_words[0].isin(question_words)]"
   ]
  },
  {
   "cell_type": "code",
   "execution_count": 51,
   "metadata": {
    "id": "-t-pkyQ2G4oK"
   },
   "outputs": [
    {
     "data": {
      "text/plain": [
       "(5074, 41)"
      ]
     },
     "execution_count": 51,
     "metadata": {},
     "output_type": "execute_result"
    }
   ],
   "source": [
    "#More than 90% of the question texts start with one of 7 (top) question words\n",
    "train_df_words_top.shape"
   ]
  },
  {
   "cell_type": "code",
   "execution_count": 52,
   "metadata": {
    "id": "knduuxSlG_Ah"
   },
   "outputs": [
    {
     "data": {
      "text/plain": [
       "category  0    \n",
       "ABBR      What       81\n",
       "          When        1\n",
       "DESC      What      749\n",
       "          How       278\n",
       "          Where      14\n",
       "ENTY      What     1112\n",
       "          Which      43\n",
       "          How         7\n",
       "          Where       2\n",
       "          Who         2\n",
       "          When        1\n",
       "HUM       Who       557\n",
       "          What      533\n",
       "          Which      46\n",
       "          When        4\n",
       "LOC       What      523\n",
       "          Where     255\n",
       "          Which      16\n",
       "          When        1\n",
       "NUM       How       479\n",
       "          What      244\n",
       "          When      124\n",
       "          Where       2\n",
       "Name: 0, dtype: int64"
      ]
     },
     "execution_count": 52,
     "metadata": {},
     "output_type": "execute_result"
    }
   ],
   "source": [
    "#question words give indications for category\n",
    "train_df_words_top[0].groupby(train_df_words_top['category']).value_counts()"
   ]
  },
  {
   "cell_type": "markdown",
   "metadata": {
    "id": "G_83hhJYFBWi"
   },
   "source": [
    "train_df_words_top   only used for eda"
   ]
  },
  {
   "cell_type": "code",
   "execution_count": 53,
   "metadata": {
    "id": "51cEKgFqZ0L9"
   },
   "outputs": [
    {
     "data": {
      "text/html": [
       "<div>\n",
       "<style scoped>\n",
       "    .dataframe tbody tr th:only-of-type {\n",
       "        vertical-align: middle;\n",
       "    }\n",
       "\n",
       "    .dataframe tbody tr th {\n",
       "        vertical-align: top;\n",
       "    }\n",
       "\n",
       "    .dataframe thead th {\n",
       "        text-align: right;\n",
       "    }\n",
       "</style>\n",
       "<table border=\"1\" class=\"dataframe\">\n",
       "  <thead>\n",
       "    <tr style=\"text-align: right;\">\n",
       "      <th></th>\n",
       "      <th></th>\n",
       "      <th>0</th>\n",
       "    </tr>\n",
       "    <tr>\n",
       "      <th>category</th>\n",
       "      <th>0</th>\n",
       "      <th></th>\n",
       "    </tr>\n",
       "  </thead>\n",
       "  <tbody>\n",
       "    <tr>\n",
       "      <th rowspan=\"2\" valign=\"top\">ABBR</th>\n",
       "      <th>What</th>\n",
       "      <td>81</td>\n",
       "    </tr>\n",
       "    <tr>\n",
       "      <th>When</th>\n",
       "      <td>1</td>\n",
       "    </tr>\n",
       "    <tr>\n",
       "      <th rowspan=\"3\" valign=\"top\">DESC</th>\n",
       "      <th>What</th>\n",
       "      <td>749</td>\n",
       "    </tr>\n",
       "    <tr>\n",
       "      <th>How</th>\n",
       "      <td>278</td>\n",
       "    </tr>\n",
       "    <tr>\n",
       "      <th>Where</th>\n",
       "      <td>14</td>\n",
       "    </tr>\n",
       "    <tr>\n",
       "      <th rowspan=\"6\" valign=\"top\">ENTY</th>\n",
       "      <th>What</th>\n",
       "      <td>1112</td>\n",
       "    </tr>\n",
       "    <tr>\n",
       "      <th>Which</th>\n",
       "      <td>43</td>\n",
       "    </tr>\n",
       "    <tr>\n",
       "      <th>How</th>\n",
       "      <td>7</td>\n",
       "    </tr>\n",
       "    <tr>\n",
       "      <th>Where</th>\n",
       "      <td>2</td>\n",
       "    </tr>\n",
       "    <tr>\n",
       "      <th>Who</th>\n",
       "      <td>2</td>\n",
       "    </tr>\n",
       "    <tr>\n",
       "      <th>When</th>\n",
       "      <td>1</td>\n",
       "    </tr>\n",
       "    <tr>\n",
       "      <th rowspan=\"4\" valign=\"top\">HUM</th>\n",
       "      <th>Who</th>\n",
       "      <td>557</td>\n",
       "    </tr>\n",
       "    <tr>\n",
       "      <th>What</th>\n",
       "      <td>533</td>\n",
       "    </tr>\n",
       "    <tr>\n",
       "      <th>Which</th>\n",
       "      <td>46</td>\n",
       "    </tr>\n",
       "    <tr>\n",
       "      <th>When</th>\n",
       "      <td>4</td>\n",
       "    </tr>\n",
       "    <tr>\n",
       "      <th rowspan=\"4\" valign=\"top\">LOC</th>\n",
       "      <th>What</th>\n",
       "      <td>523</td>\n",
       "    </tr>\n",
       "    <tr>\n",
       "      <th>Where</th>\n",
       "      <td>255</td>\n",
       "    </tr>\n",
       "    <tr>\n",
       "      <th>Which</th>\n",
       "      <td>16</td>\n",
       "    </tr>\n",
       "    <tr>\n",
       "      <th>When</th>\n",
       "      <td>1</td>\n",
       "    </tr>\n",
       "    <tr>\n",
       "      <th rowspan=\"4\" valign=\"top\">NUM</th>\n",
       "      <th>How</th>\n",
       "      <td>479</td>\n",
       "    </tr>\n",
       "    <tr>\n",
       "      <th>What</th>\n",
       "      <td>244</td>\n",
       "    </tr>\n",
       "    <tr>\n",
       "      <th>When</th>\n",
       "      <td>124</td>\n",
       "    </tr>\n",
       "    <tr>\n",
       "      <th>Where</th>\n",
       "      <td>2</td>\n",
       "    </tr>\n",
       "  </tbody>\n",
       "</table>\n",
       "</div>"
      ],
      "text/plain": [
       "                   0\n",
       "category 0          \n",
       "ABBR     What     81\n",
       "         When      1\n",
       "DESC     What    749\n",
       "         How     278\n",
       "         Where    14\n",
       "ENTY     What   1112\n",
       "         Which    43\n",
       "         How       7\n",
       "         Where     2\n",
       "         Who       2\n",
       "         When      1\n",
       "HUM      Who     557\n",
       "         What    533\n",
       "         Which    46\n",
       "         When      4\n",
       "LOC      What    523\n",
       "         Where   255\n",
       "         Which    16\n",
       "         When      1\n",
       "NUM      How     479\n",
       "         What    244\n",
       "         When    124\n",
       "         Where     2"
      ]
     },
     "execution_count": 53,
     "metadata": {},
     "output_type": "execute_result"
    }
   ],
   "source": [
    "pd.DataFrame(train_df_words_top[0].groupby(train_df_words_top['category']).value_counts())"
   ]
  },
  {
   "cell_type": "markdown",
   "metadata": {
    "id": "jKyKZN2HZ0L9"
   },
   "source": [
    "## Duplicates "
   ]
  },
  {
   "cell_type": "code",
   "execution_count": 54,
   "metadata": {
    "id": "hv2Chs50IV7x",
    "scrolled": true
   },
   "outputs": [
    {
     "name": "stdout",
     "output_type": "stream",
     "text": [
      "{False, True}\n",
      "The column has 70 duplicates.\n"
     ]
    }
   ],
   "source": [
    "#find duplicates in the raw text (category, subcategory and question)  ==> 100%match\n",
    "    \n",
    "find_duplicates(train_df, 'raw')  \n"
   ]
  },
  {
   "cell_type": "code",
   "execution_count": 55,
   "metadata": {
    "id": "zbWBG7wFAcc6"
   },
   "outputs": [
    {
     "name": "stdout",
     "output_type": "stream",
     "text": [
      "{False}\n",
      "The column has 0 duplicates.\n"
     ]
    }
   ],
   "source": [
    "#check test_df\n",
    "find_duplicates(test_df, 'raw')  "
   ]
  },
  {
   "cell_type": "code",
   "execution_count": 56,
   "metadata": {
    "id": "9tzNmE69ItJ7",
    "scrolled": false
   },
   "outputs": [
    {
     "name": "stdout",
     "output_type": "stream",
     "text": [
      "[369, 464, 727, 741, 1075, 1361, 1390, 1535, 1596, 1726, 1803, 1886, 1989, 2003, 2490, 2576, 2642, 2851, 2884, 2907, 2971, 2990, 2994, 3258, 3432, 3442, 3448, 3506, 3669, 3724, 3814, 3853, 3860, 3920, 4084, 4152, 4177, 4217, 4266, 4270, 4311, 4326, 4332, 4399, 4411, 4488, 4493, 4524, 4542, 4579, 4622, 4661, 4726, 4734, 4848, 4850, 4883, 4954, 4987, 5057, 5183, 5197, 5207, 5219, 5235, 5271, 5276, 5335, 5358, 5378] \n",
      "\n",
      "\n",
      "[121, 123, 244, 313, 325, 347, 351, 369, 457, 474, 493, 504, 511, 546, 587, 608, 659, 665, 713, 732, 834, 886, 894, 976, 979, 1009, 1075, 1087, 1131, 1198, 1230, 1378, 1389, 1497, 1535, 1571, 1658, 1722, 1728, 1792, 1835, 1837, 1923, 1960, 1996, 2003, 2059, 2134, 2380, 2451, 2897, 2913, 2931, 3053, 3333, 3417, 3428, 3432, 3625, 3766, 3981, 4073, 4252, 4311, 4326, 4431, 5075, 5187, 5209, 5235]\n"
     ]
    }
   ],
   "source": [
    "#first value=> false, secound values =>true\n",
    "dupl_first = list(train_df['raw'].duplicated())\n",
    "print(list([index for index, value in enumerate(list(dupl_first)) if value == True]),'\\n\\n')\n",
    "\n",
    "#first value=> true, secound values =>false\n",
    "dupl_last = list(train_df['raw'].duplicated(keep='last'))\n",
    "print(list([index for index, value in enumerate(list(dupl_last)) if value == True]))"
   ]
  },
  {
   "cell_type": "code",
   "execution_count": 57,
   "metadata": {
    "id": "4wIP4ttMIvF0",
    "scrolled": false
   },
   "outputs": [
    {
     "data": {
      "text/html": [
       "<div>\n",
       "<style scoped>\n",
       "    .dataframe tbody tr th:only-of-type {\n",
       "        vertical-align: middle;\n",
       "    }\n",
       "\n",
       "    .dataframe tbody tr th {\n",
       "        vertical-align: top;\n",
       "    }\n",
       "\n",
       "    .dataframe thead th {\n",
       "        text-align: right;\n",
       "    }\n",
       "</style>\n",
       "<table border=\"1\" class=\"dataframe\">\n",
       "  <thead>\n",
       "    <tr style=\"text-align: right;\">\n",
       "      <th></th>\n",
       "      <th>raw</th>\n",
       "      <th>category</th>\n",
       "      <th>subcategory</th>\n",
       "      <th>question</th>\n",
       "    </tr>\n",
       "  </thead>\n",
       "  <tbody>\n",
       "    <tr>\n",
       "      <th>351</th>\n",
       "      <td>NUM:speed What is the speed of the Mississippi...</td>\n",
       "      <td>NUM</td>\n",
       "      <td>speed</td>\n",
       "      <td>What is the speed of the Mississippi River ?</td>\n",
       "    </tr>\n",
       "    <tr>\n",
       "      <th>369</th>\n",
       "      <td>NUM:speed What is the speed of the Mississippi...</td>\n",
       "      <td>NUM</td>\n",
       "      <td>speed</td>\n",
       "      <td>What is the speed of the Mississippi River ?</td>\n",
       "    </tr>\n",
       "    <tr>\n",
       "      <th>464</th>\n",
       "      <td>NUM:speed What is the speed of the Mississippi...</td>\n",
       "      <td>NUM</td>\n",
       "      <td>speed</td>\n",
       "      <td>What is the speed of the Mississippi River ?</td>\n",
       "    </tr>\n",
       "  </tbody>\n",
       "</table>\n",
       "</div>"
      ],
      "text/plain": [
       "                                                   raw category subcategory  \\\n",
       "351  NUM:speed What is the speed of the Mississippi...      NUM       speed   \n",
       "369  NUM:speed What is the speed of the Mississippi...      NUM       speed   \n",
       "464  NUM:speed What is the speed of the Mississippi...      NUM       speed   \n",
       "\n",
       "                                         question  \n",
       "351  What is the speed of the Mississippi River ?  \n",
       "369  What is the speed of the Mississippi River ?  \n",
       "464  What is the speed of the Mississippi River ?  "
      ]
     },
     "execution_count": 57,
     "metadata": {},
     "output_type": "execute_result"
    }
   ],
   "source": [
    "#sample (manueal) duplicates\n",
    "train_df['raw'].loc[369]\n",
    "train_df.loc[train_df['raw']=='NUM:speed What is the speed of the Mississippi River ?']"
   ]
  },
  {
   "cell_type": "code",
   "execution_count": 58,
   "metadata": {
    "id": "lrb0r6idZ0L-",
    "scrolled": true
   },
   "outputs": [
    {
     "data": {
      "text/html": [
       "<div>\n",
       "<style scoped>\n",
       "    .dataframe tbody tr th:only-of-type {\n",
       "        vertical-align: middle;\n",
       "    }\n",
       "\n",
       "    .dataframe tbody tr th {\n",
       "        vertical-align: top;\n",
       "    }\n",
       "\n",
       "    .dataframe thead th {\n",
       "        text-align: right;\n",
       "    }\n",
       "</style>\n",
       "<table border=\"1\" class=\"dataframe\">\n",
       "  <thead>\n",
       "    <tr style=\"text-align: right;\">\n",
       "      <th></th>\n",
       "      <th>raw</th>\n",
       "      <th>category</th>\n",
       "      <th>subcategory</th>\n",
       "      <th>question</th>\n",
       "    </tr>\n",
       "  </thead>\n",
       "  <tbody>\n",
       "    <tr>\n",
       "      <th>5209</th>\n",
       "      <td>HUM:ind What Pope inaugurated Vatican Internat...</td>\n",
       "      <td>HUM</td>\n",
       "      <td>ind</td>\n",
       "      <td>What Pope inaugurated Vatican International Ra...</td>\n",
       "    </tr>\n",
       "    <tr>\n",
       "      <th>5219</th>\n",
       "      <td>HUM:ind What Pope inaugurated Vatican Internat...</td>\n",
       "      <td>HUM</td>\n",
       "      <td>ind</td>\n",
       "      <td>What Pope inaugurated Vatican International Ra...</td>\n",
       "    </tr>\n",
       "  </tbody>\n",
       "</table>\n",
       "</div>"
      ],
      "text/plain": [
       "                                                    raw category subcategory  \\\n",
       "5209  HUM:ind What Pope inaugurated Vatican Internat...      HUM         ind   \n",
       "5219  HUM:ind What Pope inaugurated Vatican Internat...      HUM         ind   \n",
       "\n",
       "                                               question  \n",
       "5209  What Pope inaugurated Vatican International Ra...  \n",
       "5219  What Pope inaugurated Vatican International Ra...  "
      ]
     },
     "execution_count": 58,
     "metadata": {},
     "output_type": "execute_result"
    }
   ],
   "source": [
    "train_df['raw'].loc[5219]\n",
    "train_df.loc[train_df['raw']=='HUM:ind What Pope inaugurated Vatican International Radio ?']"
   ]
  },
  {
   "cell_type": "code",
   "execution_count": 59,
   "metadata": {
    "id": "c0nXGjDfZ0L-"
   },
   "outputs": [
    {
     "name": "stdout",
     "output_type": "stream",
     "text": [
      "shape:\n",
      "train_df:\t\t(5382, 4)\n",
      "train_df_droped:\t(5382, 4)\n"
     ]
    }
   ],
   "source": [
    "#remove duplicates\n",
    "clean_duplicates(train_df)\n",
    "\n",
    "train_df_dropdup = train_df.drop_duplicates()\n",
    "print(f'shape:\\ntrain_df:\\t\\t{train_df.shape}\\ntrain_df_droped:\\t{train_df_dropdup.shape}')"
   ]
  },
  {
   "cell_type": "markdown",
   "metadata": {
    "id": "5OIshjpYZ0L-"
   },
   "source": [
    "# Shrinkage of questions to shorter text\n"
   ]
  },
  {
   "cell_type": "markdown",
   "metadata": {
    "id": "FYgizyuSZ0L-"
   },
   "source": [
    "## nltk"
   ]
  },
  {
   "cell_type": "code",
   "execution_count": 60,
   "metadata": {
    "id": "lOCKlFJBjnKR"
   },
   "outputs": [
    {
     "name": "stderr",
     "output_type": "stream",
     "text": [
      "[nltk_data] Downloading package wordnet to /home/an/nltk_data...\n",
      "[nltk_data]   Package wordnet is already up-to-date!\n",
      "[nltk_data] Downloading package stopwords to /home/an/nltk_data...\n",
      "[nltk_data]   Package stopwords is already up-to-date!\n"
     ]
    }
   ],
   "source": [
    "import re\n",
    "import nltk\n",
    "from nltk.corpus import stopwords\n",
    "from nltk.stem import WordNetLemmatizer\n",
    "\n",
    "# default setting for lemmatizer and stopwords\n",
    "nltk.download('wordnet')\n",
    "lemmatizer = WordNetLemmatizer()\n",
    "\n",
    "# remove stop words\n",
    "nltk.download('stopwords')\n",
    "my_stopwords = set(stopwords.words('english'))"
   ]
  },
  {
   "cell_type": "code",
   "execution_count": 61,
   "metadata": {
    "id": "5_TdmaSgZ0L-"
   },
   "outputs": [
    {
     "data": {
      "text/html": [
       "<div>\n",
       "<style scoped>\n",
       "    .dataframe tbody tr th:only-of-type {\n",
       "        vertical-align: middle;\n",
       "    }\n",
       "\n",
       "    .dataframe tbody tr th {\n",
       "        vertical-align: top;\n",
       "    }\n",
       "\n",
       "    .dataframe thead th {\n",
       "        text-align: right;\n",
       "    }\n",
       "</style>\n",
       "<table border=\"1\" class=\"dataframe\">\n",
       "  <thead>\n",
       "    <tr style=\"text-align: right;\">\n",
       "      <th></th>\n",
       "      <th>raw</th>\n",
       "      <th>category</th>\n",
       "      <th>subcategory</th>\n",
       "      <th>question</th>\n",
       "    </tr>\n",
       "  </thead>\n",
       "  <tbody>\n",
       "    <tr>\n",
       "      <th>0</th>\n",
       "      <td>DESC:manner How did serfdom develop in and the...</td>\n",
       "      <td>DESC</td>\n",
       "      <td>manner</td>\n",
       "      <td>How did serfdom develop in and then leave Russ...</td>\n",
       "    </tr>\n",
       "    <tr>\n",
       "      <th>1</th>\n",
       "      <td>ENTY:cremat What films featured the character ...</td>\n",
       "      <td>ENTY</td>\n",
       "      <td>cremat</td>\n",
       "      <td>What films featured the character Popeye Doyle ?</td>\n",
       "    </tr>\n",
       "  </tbody>\n",
       "</table>\n",
       "</div>"
      ],
      "text/plain": [
       "                                                 raw category subcategory  \\\n",
       "0  DESC:manner How did serfdom develop in and the...     DESC      manner   \n",
       "1  ENTY:cremat What films featured the character ...     ENTY      cremat   \n",
       "\n",
       "                                            question  \n",
       "0  How did serfdom develop in and then leave Russ...  \n",
       "1   What films featured the character Popeye Doyle ?  "
      ]
     },
     "execution_count": 61,
     "metadata": {},
     "output_type": "execute_result"
    }
   ],
   "source": [
    "train_df.head(2)"
   ]
  },
  {
   "cell_type": "code",
   "execution_count": 62,
   "metadata": {
    "id": "40rPGKLZgi2R"
   },
   "outputs": [
    {
     "name": "stderr",
     "output_type": "stream",
     "text": [
      "[nltk_data] Downloading package wordnet to /home/an/nltk_data...\n",
      "[nltk_data]   Package wordnet is already up-to-date!\n",
      "[nltk_data] Downloading package stopwords to /home/an/nltk_data...\n",
      "[nltk_data]   Package stopwords is already up-to-date!\n"
     ]
    }
   ],
   "source": [
    "# default setting for lemmatizer and stopwords\n",
    "nltk.download('wordnet')\n",
    "lemmatizer = WordNetLemmatizer()\n",
    "\n",
    "# remove stop words\n",
    "nltk.download('stopwords')\n",
    "my_stopwords = set(stopwords.words('english'))"
   ]
  },
  {
   "cell_type": "code",
   "execution_count": 63,
   "metadata": {
    "id": "skySeANkZ0L-"
   },
   "outputs": [
    {
     "name": "stdout",
     "output_type": "stream",
     "text": [
      "How did serfdom develop in and then leave Russia ?######What films featured the character Popeye Doyle ?######How can I find a list of celebrities ' real names ?######What fowl grabs the spotlight after the Chinese Year of the Monkey ?######What is the full form of .com ?######What contemptible scoundrel stole the cork from my lunch ?######What team did baseball 's St. Louis Browns become ?######What is the oldest profession ?######What are liver enzymes ?######Name the scar-faced bounty hunter \n"
     ]
    }
   ],
   "source": [
    "# corpus from df_train['question'] \n",
    "corpus = corpus_func(train_df['question'])\n",
    "print(corpus[:500])"
   ]
  },
  {
   "cell_type": "code",
   "execution_count": 64,
   "metadata": {
    "id": "Qqay-x5MZ0L-"
   },
   "outputs": [
    {
     "name": "stdout",
     "output_type": "stream",
     "text": [
      "How did serfdom develop in and then leave Russia ?######What films featured the character Popeye Doyle ?######How can I find a list of celebrities ' real names ?######What fowl grabs the spotlight after the Chinese Year of the Monkey ?######What is the full form of .com ?######What contemptible scoundrel stole the cork from my lunch ?######What team did baseball 's St. Louis Browns become ?######What is the oldest profession ?######What are liver enzymes ?######Name the scar-faced bounty hunter \n"
     ]
    }
   ],
   "source": [
    "#corpus from df_test['question']\n",
    "corpus_test = corpus_func(test_df['question'])\n",
    "print(corpus_test[:500])"
   ]
  },
  {
   "cell_type": "markdown",
   "metadata": {
    "id": "8ApKoMwZZ0L-"
   },
   "source": [
    "## stopwords, clean_text (regex, lowercase)"
   ]
  },
  {
   "cell_type": "code",
   "execution_count": 65,
   "metadata": {
    "id": "XsdHsQBFZ0L-"
   },
   "outputs": [
    {
     "data": {
      "text/plain": [
       "\"'s Peter's I How Why go 's school\""
      ]
     },
     "execution_count": 65,
     "metadata": {},
     "output_type": "execute_result"
    }
   ],
   "source": [
    "#check stopwords\n",
    "stopword_text(\"why 's Peter's i I you what How Why go 's me how to school\")  \n",
    "#Attention: question words in LOWER case are in stopwords, in UPPER case not !!!"
   ]
  },
  {
   "cell_type": "code",
   "execution_count": 66,
   "metadata": {
    "id": "niAjPtLAZ0L-"
   },
   "outputs": [
    {
     "name": "stdout",
     "output_type": "stream",
     "text": [
      "How serfdom develop leave Russia ?######What films featured character Popeye Doyle ?######How I find list celebrities ' real names ?######What fowl grabs spotlight Chinese Year Monkey ?######What full form .com ?######What contemptible scoundrel stole cork lunch ?######What team baseball 's St. Louis Browns become ?######What oldest profession ?######What liver enzymes ?######Name scar-faced bounty hunter The Old West .######When Ozzy Osbourne born ?######Why heavier objects travel downhill fast\n"
     ]
    }
   ],
   "source": [
    "# corpus df_train['text'] --> function stopwords\n",
    "text_corpus = stopword_text(corpus) \n",
    "print(text_corpus[:500])\n"
   ]
  },
  {
   "cell_type": "code",
   "execution_count": 67,
   "metadata": {
    "id": "XBxA6v7IZ0L-"
   },
   "outputs": [
    {
     "data": {
      "text/plain": [
       "'How serfdom develop leave Russia ?######What films featured character Popeye Doyle ?######How I find'"
      ]
     },
     "execution_count": 67,
     "metadata": {},
     "output_type": "execute_result"
    }
   ],
   "source": [
    "#df_test['text']\n",
    "text_corpus_test = stopword_text(corpus_test)\n",
    "text_corpus_test[:100]"
   ]
  },
  {
   "cell_type": "code",
   "execution_count": 68,
   "metadata": {
    "id": "W3RaoX36Z0L-"
   },
   "outputs": [
    {
     "data": {
      "text/html": [
       "<div>\n",
       "<style scoped>\n",
       "    .dataframe tbody tr th:only-of-type {\n",
       "        vertical-align: middle;\n",
       "    }\n",
       "\n",
       "    .dataframe tbody tr th {\n",
       "        vertical-align: top;\n",
       "    }\n",
       "\n",
       "    .dataframe thead th {\n",
       "        text-align: right;\n",
       "    }\n",
       "</style>\n",
       "<table border=\"1\" class=\"dataframe\">\n",
       "  <thead>\n",
       "    <tr style=\"text-align: right;\">\n",
       "      <th></th>\n",
       "      <th>raw</th>\n",
       "      <th>category</th>\n",
       "      <th>subcategory</th>\n",
       "      <th>question</th>\n",
       "      <th>text</th>\n",
       "    </tr>\n",
       "  </thead>\n",
       "  <tbody>\n",
       "    <tr>\n",
       "      <th>0</th>\n",
       "      <td>DESC:manner How did serfdom develop in and the...</td>\n",
       "      <td>DESC</td>\n",
       "      <td>manner</td>\n",
       "      <td>How did serfdom develop in and then leave Russ...</td>\n",
       "      <td>How serfdom develop leave Russia ?</td>\n",
       "    </tr>\n",
       "    <tr>\n",
       "      <th>1</th>\n",
       "      <td>ENTY:cremat What films featured the character ...</td>\n",
       "      <td>ENTY</td>\n",
       "      <td>cremat</td>\n",
       "      <td>What films featured the character Popeye Doyle ?</td>\n",
       "      <td>What films featured character Popeye Doyle ?</td>\n",
       "    </tr>\n",
       "  </tbody>\n",
       "</table>\n",
       "</div>"
      ],
      "text/plain": [
       "                                                 raw category subcategory  \\\n",
       "0  DESC:manner How did serfdom develop in and the...     DESC      manner   \n",
       "1  ENTY:cremat What films featured the character ...     ENTY      cremat   \n",
       "\n",
       "                                            question  \\\n",
       "0  How did serfdom develop in and then leave Russ...   \n",
       "1   What films featured the character Popeye Doyle ?   \n",
       "\n",
       "                                           text  \n",
       "0            How serfdom develop leave Russia ?  \n",
       "1  What films featured character Popeye Doyle ?  "
      ]
     },
     "execution_count": 68,
     "metadata": {},
     "output_type": "execute_result"
    }
   ],
   "source": [
    "#text column generated from question deleting stopwords\n",
    "train_df['text'] = text_corpus.split('######')      \n",
    "train_df.head(2)\n"
   ]
  },
  {
   "cell_type": "code",
   "execution_count": 69,
   "metadata": {
    "id": "VaADP7rPZ0L-"
   },
   "outputs": [
    {
     "name": "stdout",
     "output_type": "stream",
     "text": [
      "(500, 4)\n"
     ]
    },
    {
     "data": {
      "text/html": [
       "<div>\n",
       "<style scoped>\n",
       "    .dataframe tbody tr th:only-of-type {\n",
       "        vertical-align: middle;\n",
       "    }\n",
       "\n",
       "    .dataframe tbody tr th {\n",
       "        vertical-align: top;\n",
       "    }\n",
       "\n",
       "    .dataframe thead th {\n",
       "        text-align: right;\n",
       "    }\n",
       "</style>\n",
       "<table border=\"1\" class=\"dataframe\">\n",
       "  <thead>\n",
       "    <tr style=\"text-align: right;\">\n",
       "      <th></th>\n",
       "      <th>raw</th>\n",
       "      <th>category</th>\n",
       "      <th>subcategory</th>\n",
       "      <th>question</th>\n",
       "    </tr>\n",
       "  </thead>\n",
       "  <tbody>\n",
       "    <tr>\n",
       "      <th>0</th>\n",
       "      <td>NUM:dist How far is it from Denver to Aspen ?</td>\n",
       "      <td>DESC</td>\n",
       "      <td>manner</td>\n",
       "      <td>How did serfdom develop in and then leave Russ...</td>\n",
       "    </tr>\n",
       "    <tr>\n",
       "      <th>1</th>\n",
       "      <td>LOC:city What county is Modesto , California in ?</td>\n",
       "      <td>ENTY</td>\n",
       "      <td>cremat</td>\n",
       "      <td>What films featured the character Popeye Doyle ?</td>\n",
       "    </tr>\n",
       "  </tbody>\n",
       "</table>\n",
       "</div>"
      ],
      "text/plain": [
       "                                                 raw category subcategory  \\\n",
       "0      NUM:dist How far is it from Denver to Aspen ?     DESC      manner   \n",
       "1  LOC:city What county is Modesto , California in ?     ENTY      cremat   \n",
       "\n",
       "                                            question  \n",
       "0  How did serfdom develop in and then leave Russ...  \n",
       "1   What films featured the character Popeye Doyle ?  "
      ]
     },
     "execution_count": 69,
     "metadata": {},
     "output_type": "execute_result"
    }
   ],
   "source": [
    "print(test_df.shape)\n",
    "test_df.head(2)"
   ]
  },
  {
   "cell_type": "code",
   "execution_count": 70,
   "metadata": {
    "id": "hbFXLUU-Z0L-"
   },
   "outputs": [],
   "source": [
    "test_df['text'] = text_corpus_test.split('######') "
   ]
  },
  {
   "cell_type": "code",
   "execution_count": 71,
   "metadata": {
    "id": "_1Q6D3WmZ0L-"
   },
   "outputs": [
    {
     "data": {
      "image/png": "[encoded data removed]",
      "text/plain": [
       "<Figure size 432x288 with 1 Axes>"
      ]
     },
     "metadata": {
      "needs_background": "light"
     },
     "output_type": "display_data"
    },
    {
     "name": "stdout",
     "output_type": "stream",
     "text": [
      "The texts have a mean length of 7 tokens.\n",
      "The longest text has 24 tokens, the shortest has 2 tokens.\n"
     ]
    }
   ],
   "source": [
    "# distribution of length of questions, after stopword-function\n",
    "df = train_df['text']\n",
    "title = 'Distribution of shortened text (train)'\n",
    "diagram ='length_stop_train'\n",
    "\n",
    "get_plot_length_text(df, title, diagram)"
   ]
  },
  {
   "cell_type": "code",
   "execution_count": 72,
   "metadata": {
    "id": "1cw4UQU3Z0L-",
    "scrolled": true
   },
   "outputs": [],
   "source": [
    "train_text_df = train_df['text'].str.split(\" \", expand=True)\n",
    "train_text_df\n",
    "\n",
    "test_text_df = test_df['text'].str.split(\" \", expand=True)"
   ]
  },
  {
   "cell_type": "code",
   "execution_count": 73,
   "metadata": {
    "id": "_94WQYedZ0L-"
   },
   "outputs": [
    {
     "name": "stdout",
     "output_type": "stream",
     "text": [
      "0 :  100.0\n",
      "1 :  100.0\n",
      "2 :  99.96\n",
      "3 :  96.79\n",
      "4 :  85.73\n",
      "5 :  70.51\n",
      "6 :  54.14\n",
      "7 :  37.01\n",
      "8 :  24.73\n",
      "9 :  16.15\n",
      "10 :  10.48\n",
      "11 :  6.95\n",
      "12 :  4.09\n",
      "13 :  2.81\n",
      "14 :  1.78\n",
      "15 :  1.13\n",
      "16 :  0.67\n",
      "17 :  0.54\n",
      "18 :  0.39\n",
      "19 :  0.26\n",
      "20 :  0.19\n",
      "21 :  0.09\n",
      "22 :  0.09\n",
      "23 :  0.02\n"
     ]
    }
   ],
   "source": [
    "#percentage distribution of tokens (train)\n",
    "for column in train_text_df.columns:\n",
    "    nan_sum = train_text_df[column].isnull().sum()\n",
    "    print(column,': ',round(100.00-(nan_sum*100/len(train_text_df)),2))"
   ]
  },
  {
   "cell_type": "code",
   "execution_count": 74,
   "metadata": {
    "id": "o5hePfBLZ0L-",
    "scrolled": true
   },
   "outputs": [
    {
     "data": {
      "text/plain": [
       "{\"''\",\n",
       " ',',\n",
       " '.',\n",
       " '111',\n",
       " '158',\n",
       " '1989',\n",
       " '?',\n",
       " 'American',\n",
       " 'Computer',\n",
       " 'DT',\n",
       " 'Diego',\n",
       " 'Night',\n",
       " None,\n",
       " 'Sidney',\n",
       " 'Strikes',\n",
       " 'The',\n",
       " 'You',\n",
       " 'beautiful',\n",
       " 'body',\n",
       " 'bugs',\n",
       " 'forerunner',\n",
       " 'god-sullen',\n",
       " 'named',\n",
       " 'race',\n",
       " 'sauce',\n",
       " 'telegraph',\n",
       " 'voyage'}"
      ]
     },
     "execution_count": 74,
     "metadata": {},
     "output_type": "execute_result"
    }
   ],
   "source": [
    "set(train_text_df[16])"
   ]
  },
  {
   "cell_type": "markdown",
   "metadata": {
    "id": "pxi0QfKNZ0L-"
   },
   "source": [
    "## clean_function"
   ]
  },
  {
   "cell_type": "code",
   "execution_count": 75,
   "metadata": {
    "id": "xipnFhv6Z0L-"
   },
   "outputs": [
    {
     "name": "stdout",
     "output_type": "stream",
     "text": [
      "how serfdom develop leave russia ######what films featured character popeye doyle ######how i find list celebrities ' real names ######what fowl grabs spotlight chinese year monkey ######what full form .com ######what contemptible scoundrel stole cork lunch ######what team baseball st. louis browns become ######what oldest profession ######what liver enzymes ######name scar faced bounty hunter the old west .######when ozzy osbourne born ######why heavier objects travel downhill faster ######who \n"
     ]
    }
   ],
   "source": [
    "# corpus df_train['text'] --> function clean_text\n",
    "clean_corpus = clean_text(text_corpus)\n",
    "print(clean_corpus[:500])\n",
    "\n",
    "clean_corpus_test = clean_text(text_corpus_test)"
   ]
  },
  {
   "cell_type": "code",
   "execution_count": 76,
   "metadata": {
    "id": "Ny2IQazVZ0L-"
   },
   "outputs": [],
   "source": [
    "#text column generated from question deleting stopwords\n",
    "train_df['text_clean'] = clean_corpus.split('######')      \n",
    "train_df.head(2)\n",
    "\n",
    "test_df['text_clean'] = clean_corpus_test.split('######') "
   ]
  },
  {
   "cell_type": "code",
   "execution_count": 77,
   "metadata": {
    "id": "0lM527CbZ0L-"
   },
   "outputs": [
    {
     "data": {
      "image/png": "[encoded data removed]",
      "text/plain": [
       "<Figure size 432x288 with 1 Axes>"
      ]
     },
     "metadata": {
      "needs_background": "light"
     },
     "output_type": "display_data"
    },
    {
     "name": "stdout",
     "output_type": "stream",
     "text": [
      "The texts have a mean length of 6 tokens.\n",
      "The longest text has 19 tokens, the shortest has 1 tokens.\n"
     ]
    }
   ],
   "source": [
    "# distribution of length of questions, after clean_function\n",
    "df = train_df['text_clean']\n",
    "title = 'Distribution of cleaned,shortened text (train)'\n",
    "diagram ='length_clean_train'\n",
    "\n",
    "get_plot_length_text(df, title, diagram)"
   ]
  },
  {
   "cell_type": "code",
   "execution_count": 78,
   "metadata": {
    "id": "b9cnNcMJZ0L-"
   },
   "outputs": [
    {
     "name": "stdout",
     "output_type": "stream",
     "text": [
      "---shapes---\n",
      "train_df:\t\t(5382, 6)\n",
      "train_text_clean:\t(5382, 20)\n"
     ]
    },
    {
     "data": {
      "text/html": [
       "<div>\n",
       "<style scoped>\n",
       "    .dataframe tbody tr th:only-of-type {\n",
       "        vertical-align: middle;\n",
       "    }\n",
       "\n",
       "    .dataframe tbody tr th {\n",
       "        vertical-align: top;\n",
       "    }\n",
       "\n",
       "    .dataframe thead th {\n",
       "        text-align: right;\n",
       "    }\n",
       "</style>\n",
       "<table border=\"1\" class=\"dataframe\">\n",
       "  <thead>\n",
       "    <tr style=\"text-align: right;\">\n",
       "      <th></th>\n",
       "      <th>0</th>\n",
       "      <th>1</th>\n",
       "      <th>2</th>\n",
       "      <th>3</th>\n",
       "      <th>4</th>\n",
       "      <th>5</th>\n",
       "      <th>6</th>\n",
       "      <th>7</th>\n",
       "      <th>8</th>\n",
       "      <th>9</th>\n",
       "      <th>10</th>\n",
       "      <th>11</th>\n",
       "      <th>12</th>\n",
       "      <th>13</th>\n",
       "      <th>14</th>\n",
       "      <th>15</th>\n",
       "      <th>16</th>\n",
       "      <th>17</th>\n",
       "      <th>18</th>\n",
       "      <th>19</th>\n",
       "    </tr>\n",
       "  </thead>\n",
       "  <tbody>\n",
       "    <tr>\n",
       "      <th>0</th>\n",
       "      <td>how</td>\n",
       "      <td>serfdom</td>\n",
       "      <td>develop</td>\n",
       "      <td>leave</td>\n",
       "      <td>russia</td>\n",
       "      <td></td>\n",
       "      <td>None</td>\n",
       "      <td>None</td>\n",
       "      <td>None</td>\n",
       "      <td>None</td>\n",
       "      <td>None</td>\n",
       "      <td>None</td>\n",
       "      <td>None</td>\n",
       "      <td>None</td>\n",
       "      <td>None</td>\n",
       "      <td>None</td>\n",
       "      <td>None</td>\n",
       "      <td>None</td>\n",
       "      <td>None</td>\n",
       "      <td>None</td>\n",
       "    </tr>\n",
       "    <tr>\n",
       "      <th>1</th>\n",
       "      <td>what</td>\n",
       "      <td>films</td>\n",
       "      <td>featured</td>\n",
       "      <td>character</td>\n",
       "      <td>popeye</td>\n",
       "      <td>doyle</td>\n",
       "      <td></td>\n",
       "      <td>None</td>\n",
       "      <td>None</td>\n",
       "      <td>None</td>\n",
       "      <td>None</td>\n",
       "      <td>None</td>\n",
       "      <td>None</td>\n",
       "      <td>None</td>\n",
       "      <td>None</td>\n",
       "      <td>None</td>\n",
       "      <td>None</td>\n",
       "      <td>None</td>\n",
       "      <td>None</td>\n",
       "      <td>None</td>\n",
       "    </tr>\n",
       "    <tr>\n",
       "      <th>2</th>\n",
       "      <td>how</td>\n",
       "      <td>i</td>\n",
       "      <td>find</td>\n",
       "      <td>list</td>\n",
       "      <td>celebrities</td>\n",
       "      <td>'</td>\n",
       "      <td>real</td>\n",
       "      <td>names</td>\n",
       "      <td></td>\n",
       "      <td>None</td>\n",
       "      <td>None</td>\n",
       "      <td>None</td>\n",
       "      <td>None</td>\n",
       "      <td>None</td>\n",
       "      <td>None</td>\n",
       "      <td>None</td>\n",
       "      <td>None</td>\n",
       "      <td>None</td>\n",
       "      <td>None</td>\n",
       "      <td>None</td>\n",
       "    </tr>\n",
       "    <tr>\n",
       "      <th>3</th>\n",
       "      <td>what</td>\n",
       "      <td>fowl</td>\n",
       "      <td>grabs</td>\n",
       "      <td>spotlight</td>\n",
       "      <td>chinese</td>\n",
       "      <td>year</td>\n",
       "      <td>monkey</td>\n",
       "      <td></td>\n",
       "      <td>None</td>\n",
       "      <td>None</td>\n",
       "      <td>None</td>\n",
       "      <td>None</td>\n",
       "      <td>None</td>\n",
       "      <td>None</td>\n",
       "      <td>None</td>\n",
       "      <td>None</td>\n",
       "      <td>None</td>\n",
       "      <td>None</td>\n",
       "      <td>None</td>\n",
       "      <td>None</td>\n",
       "    </tr>\n",
       "    <tr>\n",
       "      <th>4</th>\n",
       "      <td>what</td>\n",
       "      <td>full</td>\n",
       "      <td>form</td>\n",
       "      <td>.com</td>\n",
       "      <td></td>\n",
       "      <td>None</td>\n",
       "      <td>None</td>\n",
       "      <td>None</td>\n",
       "      <td>None</td>\n",
       "      <td>None</td>\n",
       "      <td>None</td>\n",
       "      <td>None</td>\n",
       "      <td>None</td>\n",
       "      <td>None</td>\n",
       "      <td>None</td>\n",
       "      <td>None</td>\n",
       "      <td>None</td>\n",
       "      <td>None</td>\n",
       "      <td>None</td>\n",
       "      <td>None</td>\n",
       "    </tr>\n",
       "    <tr>\n",
       "      <th>...</th>\n",
       "      <td>...</td>\n",
       "      <td>...</td>\n",
       "      <td>...</td>\n",
       "      <td>...</td>\n",
       "      <td>...</td>\n",
       "      <td>...</td>\n",
       "      <td>...</td>\n",
       "      <td>...</td>\n",
       "      <td>...</td>\n",
       "      <td>...</td>\n",
       "      <td>...</td>\n",
       "      <td>...</td>\n",
       "      <td>...</td>\n",
       "      <td>...</td>\n",
       "      <td>...</td>\n",
       "      <td>...</td>\n",
       "      <td>...</td>\n",
       "      <td>...</td>\n",
       "      <td>...</td>\n",
       "      <td>...</td>\n",
       "    </tr>\n",
       "    <tr>\n",
       "      <th>5447</th>\n",
       "      <td>what</td>\n",
       "      <td>shape</td>\n",
       "      <td>camel</td>\n",
       "      <td>spine</td>\n",
       "      <td></td>\n",
       "      <td>None</td>\n",
       "      <td>None</td>\n",
       "      <td>None</td>\n",
       "      <td>None</td>\n",
       "      <td>None</td>\n",
       "      <td>None</td>\n",
       "      <td>None</td>\n",
       "      <td>None</td>\n",
       "      <td>None</td>\n",
       "      <td>None</td>\n",
       "      <td>None</td>\n",
       "      <td>None</td>\n",
       "      <td>None</td>\n",
       "      <td>None</td>\n",
       "      <td>None</td>\n",
       "    </tr>\n",
       "    <tr>\n",
       "      <th>5448</th>\n",
       "      <td>what</td>\n",
       "      <td>type</td>\n",
       "      <td>currency</td>\n",
       "      <td>used</td>\n",
       "      <td>china</td>\n",
       "      <td></td>\n",
       "      <td>None</td>\n",
       "      <td>None</td>\n",
       "      <td>None</td>\n",
       "      <td>None</td>\n",
       "      <td>None</td>\n",
       "      <td>None</td>\n",
       "      <td>None</td>\n",
       "      <td>None</td>\n",
       "      <td>None</td>\n",
       "      <td>None</td>\n",
       "      <td>None</td>\n",
       "      <td>None</td>\n",
       "      <td>None</td>\n",
       "      <td>None</td>\n",
       "    </tr>\n",
       "    <tr>\n",
       "      <th>5449</th>\n",
       "      <td>what</td>\n",
       "      <td>temperature</td>\n",
       "      <td>today</td>\n",
       "      <td></td>\n",
       "      <td>None</td>\n",
       "      <td>None</td>\n",
       "      <td>None</td>\n",
       "      <td>None</td>\n",
       "      <td>None</td>\n",
       "      <td>None</td>\n",
       "      <td>None</td>\n",
       "      <td>None</td>\n",
       "      <td>None</td>\n",
       "      <td>None</td>\n",
       "      <td>None</td>\n",
       "      <td>None</td>\n",
       "      <td>None</td>\n",
       "      <td>None</td>\n",
       "      <td>None</td>\n",
       "      <td>None</td>\n",
       "    </tr>\n",
       "    <tr>\n",
       "      <th>5450</th>\n",
       "      <td>what</td>\n",
       "      <td>temperature</td>\n",
       "      <td>cooking</td>\n",
       "      <td></td>\n",
       "      <td>None</td>\n",
       "      <td>None</td>\n",
       "      <td>None</td>\n",
       "      <td>None</td>\n",
       "      <td>None</td>\n",
       "      <td>None</td>\n",
       "      <td>None</td>\n",
       "      <td>None</td>\n",
       "      <td>None</td>\n",
       "      <td>None</td>\n",
       "      <td>None</td>\n",
       "      <td>None</td>\n",
       "      <td>None</td>\n",
       "      <td>None</td>\n",
       "      <td>None</td>\n",
       "      <td>None</td>\n",
       "    </tr>\n",
       "    <tr>\n",
       "      <th>5451</th>\n",
       "      <td>what</td>\n",
       "      <td>currency</td>\n",
       "      <td>used</td>\n",
       "      <td>australia</td>\n",
       "      <td>None</td>\n",
       "      <td>None</td>\n",
       "      <td>None</td>\n",
       "      <td>None</td>\n",
       "      <td>None</td>\n",
       "      <td>None</td>\n",
       "      <td>None</td>\n",
       "      <td>None</td>\n",
       "      <td>None</td>\n",
       "      <td>None</td>\n",
       "      <td>None</td>\n",
       "      <td>None</td>\n",
       "      <td>None</td>\n",
       "      <td>None</td>\n",
       "      <td>None</td>\n",
       "      <td>None</td>\n",
       "    </tr>\n",
       "  </tbody>\n",
       "</table>\n",
       "<p>5382 rows × 20 columns</p>\n",
       "</div>"
      ],
      "text/plain": [
       "        0            1         2          3            4      5       6   \\\n",
       "0      how      serfdom   develop      leave       russia           None   \n",
       "1     what        films  featured  character       popeye  doyle           \n",
       "2      how            i      find       list  celebrities      '    real   \n",
       "3     what         fowl     grabs  spotlight      chinese   year  monkey   \n",
       "4     what         full      form       .com                None    None   \n",
       "...    ...          ...       ...        ...          ...    ...     ...   \n",
       "5447  what        shape     camel      spine                None    None   \n",
       "5448  what         type  currency       used        china           None   \n",
       "5449  what  temperature     today                    None   None    None   \n",
       "5450  what  temperature   cooking                    None   None    None   \n",
       "5451  what     currency      used  australia         None   None    None   \n",
       "\n",
       "         7     8     9     10    11    12    13    14    15    16    17    18  \\\n",
       "0      None  None  None  None  None  None  None  None  None  None  None  None   \n",
       "1      None  None  None  None  None  None  None  None  None  None  None  None   \n",
       "2     names        None  None  None  None  None  None  None  None  None  None   \n",
       "3            None  None  None  None  None  None  None  None  None  None  None   \n",
       "4      None  None  None  None  None  None  None  None  None  None  None  None   \n",
       "...     ...   ...   ...   ...   ...   ...   ...   ...   ...   ...   ...   ...   \n",
       "5447   None  None  None  None  None  None  None  None  None  None  None  None   \n",
       "5448   None  None  None  None  None  None  None  None  None  None  None  None   \n",
       "5449   None  None  None  None  None  None  None  None  None  None  None  None   \n",
       "5450   None  None  None  None  None  None  None  None  None  None  None  None   \n",
       "5451   None  None  None  None  None  None  None  None  None  None  None  None   \n",
       "\n",
       "        19  \n",
       "0     None  \n",
       "1     None  \n",
       "2     None  \n",
       "3     None  \n",
       "4     None  \n",
       "...    ...  \n",
       "5447  None  \n",
       "5448  None  \n",
       "5449  None  \n",
       "5450  None  \n",
       "5451  None  \n",
       "\n",
       "[5382 rows x 20 columns]"
      ]
     },
     "execution_count": 78,
     "metadata": {},
     "output_type": "execute_result"
    }
   ],
   "source": [
    "#train data\n",
    "#one token per cell --- from text_clean\n",
    "train_text_clean_df = train_df['text_clean'].str.split(\" \", expand=True)\n",
    "#test_text_clean_df = test_df['question'].str.split(\" \", expand=True)\n",
    "\n",
    "# print test, train shape\n",
    "print(f'---shapes---\\ntrain_df:\\t\\t{train_df.shape}\\\n",
    "\\ntrain_text_clean:\\t{train_text_clean_df.shape}')\n",
    "\n",
    "train_text_clean_df "
   ]
  },
  {
   "cell_type": "code",
   "execution_count": 79,
   "metadata": {
    "id": "kIZFoSuyZ0L-"
   },
   "outputs": [
    {
     "data": {
      "text/plain": [
       "(5382, 26)"
      ]
     },
     "execution_count": 79,
     "metadata": {},
     "output_type": "execute_result"
    }
   ],
   "source": [
    "train_final_df = train_df.join(train_text_clean_df)\n",
    "train_final_df.shape"
   ]
  },
  {
   "cell_type": "code",
   "execution_count": 80,
   "metadata": {
    "id": "dewJH4GBZ0L-"
   },
   "outputs": [
    {
     "data": {
      "text/html": [
       "<div>\n",
       "<style scoped>\n",
       "    .dataframe tbody tr th:only-of-type {\n",
       "        vertical-align: middle;\n",
       "    }\n",
       "\n",
       "    .dataframe tbody tr th {\n",
       "        vertical-align: top;\n",
       "    }\n",
       "\n",
       "    .dataframe thead th {\n",
       "        text-align: right;\n",
       "    }\n",
       "</style>\n",
       "<table border=\"1\" class=\"dataframe\">\n",
       "  <thead>\n",
       "    <tr style=\"text-align: right;\">\n",
       "      <th></th>\n",
       "      <th>raw</th>\n",
       "      <th>category</th>\n",
       "      <th>subcategory</th>\n",
       "      <th>question</th>\n",
       "      <th>text</th>\n",
       "      <th>text_clean</th>\n",
       "      <th>0</th>\n",
       "      <th>1</th>\n",
       "      <th>2</th>\n",
       "      <th>3</th>\n",
       "      <th>...</th>\n",
       "      <th>10</th>\n",
       "      <th>11</th>\n",
       "      <th>12</th>\n",
       "      <th>13</th>\n",
       "      <th>14</th>\n",
       "      <th>15</th>\n",
       "      <th>16</th>\n",
       "      <th>17</th>\n",
       "      <th>18</th>\n",
       "      <th>19</th>\n",
       "    </tr>\n",
       "  </thead>\n",
       "  <tbody>\n",
       "    <tr>\n",
       "      <th>0</th>\n",
       "      <td>DESC:manner How did serfdom develop in and the...</td>\n",
       "      <td>DESC</td>\n",
       "      <td>manner</td>\n",
       "      <td>How did serfdom develop in and then leave Russ...</td>\n",
       "      <td>How serfdom develop leave Russia ?</td>\n",
       "      <td>how serfdom develop leave russia</td>\n",
       "      <td>how</td>\n",
       "      <td>serfdom</td>\n",
       "      <td>develop</td>\n",
       "      <td>leave</td>\n",
       "      <td>...</td>\n",
       "      <td>None</td>\n",
       "      <td>None</td>\n",
       "      <td>None</td>\n",
       "      <td>None</td>\n",
       "      <td>None</td>\n",
       "      <td>None</td>\n",
       "      <td>None</td>\n",
       "      <td>None</td>\n",
       "      <td>None</td>\n",
       "      <td>None</td>\n",
       "    </tr>\n",
       "    <tr>\n",
       "      <th>1</th>\n",
       "      <td>ENTY:cremat What films featured the character ...</td>\n",
       "      <td>ENTY</td>\n",
       "      <td>cremat</td>\n",
       "      <td>What films featured the character Popeye Doyle ?</td>\n",
       "      <td>What films featured character Popeye Doyle ?</td>\n",
       "      <td>what films featured character popeye doyle</td>\n",
       "      <td>what</td>\n",
       "      <td>films</td>\n",
       "      <td>featured</td>\n",
       "      <td>character</td>\n",
       "      <td>...</td>\n",
       "      <td>None</td>\n",
       "      <td>None</td>\n",
       "      <td>None</td>\n",
       "      <td>None</td>\n",
       "      <td>None</td>\n",
       "      <td>None</td>\n",
       "      <td>None</td>\n",
       "      <td>None</td>\n",
       "      <td>None</td>\n",
       "      <td>None</td>\n",
       "    </tr>\n",
       "    <tr>\n",
       "      <th>2</th>\n",
       "      <td>DESC:manner How can I find a list of celebriti...</td>\n",
       "      <td>DESC</td>\n",
       "      <td>manner</td>\n",
       "      <td>How can I find a list of celebrities ' real na...</td>\n",
       "      <td>How I find list celebrities ' real names ?</td>\n",
       "      <td>how i find list celebrities ' real names</td>\n",
       "      <td>how</td>\n",
       "      <td>i</td>\n",
       "      <td>find</td>\n",
       "      <td>list</td>\n",
       "      <td>...</td>\n",
       "      <td>None</td>\n",
       "      <td>None</td>\n",
       "      <td>None</td>\n",
       "      <td>None</td>\n",
       "      <td>None</td>\n",
       "      <td>None</td>\n",
       "      <td>None</td>\n",
       "      <td>None</td>\n",
       "      <td>None</td>\n",
       "      <td>None</td>\n",
       "    </tr>\n",
       "    <tr>\n",
       "      <th>3</th>\n",
       "      <td>ENTY:animal What fowl grabs the spotlight afte...</td>\n",
       "      <td>ENTY</td>\n",
       "      <td>animal</td>\n",
       "      <td>What fowl grabs the spotlight after the Chines...</td>\n",
       "      <td>What fowl grabs spotlight Chinese Year Monkey ?</td>\n",
       "      <td>what fowl grabs spotlight chinese year monkey</td>\n",
       "      <td>what</td>\n",
       "      <td>fowl</td>\n",
       "      <td>grabs</td>\n",
       "      <td>spotlight</td>\n",
       "      <td>...</td>\n",
       "      <td>None</td>\n",
       "      <td>None</td>\n",
       "      <td>None</td>\n",
       "      <td>None</td>\n",
       "      <td>None</td>\n",
       "      <td>None</td>\n",
       "      <td>None</td>\n",
       "      <td>None</td>\n",
       "      <td>None</td>\n",
       "      <td>None</td>\n",
       "    </tr>\n",
       "    <tr>\n",
       "      <th>4</th>\n",
       "      <td>ABBR:exp What is the full form of .com ?</td>\n",
       "      <td>ABBR</td>\n",
       "      <td>exp</td>\n",
       "      <td>What is the full form of .com ?</td>\n",
       "      <td>What full form .com ?</td>\n",
       "      <td>what full form .com</td>\n",
       "      <td>what</td>\n",
       "      <td>full</td>\n",
       "      <td>form</td>\n",
       "      <td>.com</td>\n",
       "      <td>...</td>\n",
       "      <td>None</td>\n",
       "      <td>None</td>\n",
       "      <td>None</td>\n",
       "      <td>None</td>\n",
       "      <td>None</td>\n",
       "      <td>None</td>\n",
       "      <td>None</td>\n",
       "      <td>None</td>\n",
       "      <td>None</td>\n",
       "      <td>None</td>\n",
       "    </tr>\n",
       "  </tbody>\n",
       "</table>\n",
       "<p>5 rows × 26 columns</p>\n",
       "</div>"
      ],
      "text/plain": [
       "                                                 raw category subcategory  \\\n",
       "0  DESC:manner How did serfdom develop in and the...     DESC      manner   \n",
       "1  ENTY:cremat What films featured the character ...     ENTY      cremat   \n",
       "2  DESC:manner How can I find a list of celebriti...     DESC      manner   \n",
       "3  ENTY:animal What fowl grabs the spotlight afte...     ENTY      animal   \n",
       "4           ABBR:exp What is the full form of .com ?     ABBR         exp   \n",
       "\n",
       "                                            question  \\\n",
       "0  How did serfdom develop in and then leave Russ...   \n",
       "1   What films featured the character Popeye Doyle ?   \n",
       "2  How can I find a list of celebrities ' real na...   \n",
       "3  What fowl grabs the spotlight after the Chines...   \n",
       "4                    What is the full form of .com ?   \n",
       "\n",
       "                                              text  \\\n",
       "0               How serfdom develop leave Russia ?   \n",
       "1     What films featured character Popeye Doyle ?   \n",
       "2       How I find list celebrities ' real names ?   \n",
       "3  What fowl grabs spotlight Chinese Year Monkey ?   \n",
       "4                            What full form .com ?   \n",
       "\n",
       "                                       text_clean     0        1         2  \\\n",
       "0               how serfdom develop leave russia    how  serfdom   develop   \n",
       "1     what films featured character popeye doyle   what    films  featured   \n",
       "2       how i find list celebrities ' real names    how        i      find   \n",
       "3  what fowl grabs spotlight chinese year monkey   what     fowl     grabs   \n",
       "4                            what full form .com   what     full      form   \n",
       "\n",
       "           3  ...    10    11    12    13    14    15    16    17    18    19  \n",
       "0      leave  ...  None  None  None  None  None  None  None  None  None  None  \n",
       "1  character  ...  None  None  None  None  None  None  None  None  None  None  \n",
       "2       list  ...  None  None  None  None  None  None  None  None  None  None  \n",
       "3  spotlight  ...  None  None  None  None  None  None  None  None  None  None  \n",
       "4       .com  ...  None  None  None  None  None  None  None  None  None  None  \n",
       "\n",
       "[5 rows x 26 columns]"
      ]
     },
     "execution_count": 80,
     "metadata": {},
     "output_type": "execute_result"
    }
   ],
   "source": [
    "train_final_df.drop_duplicates(inplace=True)\n",
    "train_final_df.head()"
   ]
  },
  {
   "cell_type": "code",
   "execution_count": 81,
   "metadata": {
    "id": "tgJ3yU4IZ0L-"
   },
   "outputs": [
    {
     "data": {
      "text/plain": [
       "(5382, 26)"
      ]
     },
     "execution_count": 81,
     "metadata": {},
     "output_type": "execute_result"
    }
   ],
   "source": [
    "train_final_df.shape"
   ]
  },
  {
   "cell_type": "code",
   "execution_count": 82,
   "metadata": {
    "id": "ytRaCvIOZ0L-"
   },
   "outputs": [
    {
     "name": "stdout",
     "output_type": "stream",
     "text": [
      "---shapes---\n",
      "test_df:\t\t(500, 6)\n",
      "test_text_clean:\t(500, 17)\n"
     ]
    },
    {
     "data": {
      "text/html": [
       "<div>\n",
       "<style scoped>\n",
       "    .dataframe tbody tr th:only-of-type {\n",
       "        vertical-align: middle;\n",
       "    }\n",
       "\n",
       "    .dataframe tbody tr th {\n",
       "        vertical-align: top;\n",
       "    }\n",
       "\n",
       "    .dataframe thead th {\n",
       "        text-align: right;\n",
       "    }\n",
       "</style>\n",
       "<table border=\"1\" class=\"dataframe\">\n",
       "  <thead>\n",
       "    <tr style=\"text-align: right;\">\n",
       "      <th></th>\n",
       "      <th>0</th>\n",
       "      <th>1</th>\n",
       "      <th>2</th>\n",
       "      <th>3</th>\n",
       "      <th>4</th>\n",
       "      <th>5</th>\n",
       "      <th>6</th>\n",
       "      <th>7</th>\n",
       "      <th>8</th>\n",
       "      <th>9</th>\n",
       "      <th>10</th>\n",
       "      <th>11</th>\n",
       "      <th>12</th>\n",
       "      <th>13</th>\n",
       "      <th>14</th>\n",
       "      <th>15</th>\n",
       "      <th>16</th>\n",
       "    </tr>\n",
       "  </thead>\n",
       "  <tbody>\n",
       "    <tr>\n",
       "      <th>0</th>\n",
       "      <td>how</td>\n",
       "      <td>serfdom</td>\n",
       "      <td>develop</td>\n",
       "      <td>leave</td>\n",
       "      <td>russia</td>\n",
       "      <td></td>\n",
       "      <td>None</td>\n",
       "      <td>None</td>\n",
       "      <td>None</td>\n",
       "      <td>None</td>\n",
       "      <td>None</td>\n",
       "      <td>None</td>\n",
       "      <td>None</td>\n",
       "      <td>None</td>\n",
       "      <td>None</td>\n",
       "      <td>None</td>\n",
       "      <td>None</td>\n",
       "    </tr>\n",
       "    <tr>\n",
       "      <th>1</th>\n",
       "      <td>what</td>\n",
       "      <td>films</td>\n",
       "      <td>featured</td>\n",
       "      <td>character</td>\n",
       "      <td>popeye</td>\n",
       "      <td>doyle</td>\n",
       "      <td></td>\n",
       "      <td>None</td>\n",
       "      <td>None</td>\n",
       "      <td>None</td>\n",
       "      <td>None</td>\n",
       "      <td>None</td>\n",
       "      <td>None</td>\n",
       "      <td>None</td>\n",
       "      <td>None</td>\n",
       "      <td>None</td>\n",
       "      <td>None</td>\n",
       "    </tr>\n",
       "    <tr>\n",
       "      <th>2</th>\n",
       "      <td>how</td>\n",
       "      <td>i</td>\n",
       "      <td>find</td>\n",
       "      <td>list</td>\n",
       "      <td>celebrities</td>\n",
       "      <td>'</td>\n",
       "      <td>real</td>\n",
       "      <td>names</td>\n",
       "      <td></td>\n",
       "      <td>None</td>\n",
       "      <td>None</td>\n",
       "      <td>None</td>\n",
       "      <td>None</td>\n",
       "      <td>None</td>\n",
       "      <td>None</td>\n",
       "      <td>None</td>\n",
       "      <td>None</td>\n",
       "    </tr>\n",
       "    <tr>\n",
       "      <th>3</th>\n",
       "      <td>what</td>\n",
       "      <td>fowl</td>\n",
       "      <td>grabs</td>\n",
       "      <td>spotlight</td>\n",
       "      <td>chinese</td>\n",
       "      <td>year</td>\n",
       "      <td>monkey</td>\n",
       "      <td></td>\n",
       "      <td>None</td>\n",
       "      <td>None</td>\n",
       "      <td>None</td>\n",
       "      <td>None</td>\n",
       "      <td>None</td>\n",
       "      <td>None</td>\n",
       "      <td>None</td>\n",
       "      <td>None</td>\n",
       "      <td>None</td>\n",
       "    </tr>\n",
       "    <tr>\n",
       "      <th>4</th>\n",
       "      <td>what</td>\n",
       "      <td>full</td>\n",
       "      <td>form</td>\n",
       "      <td>.com</td>\n",
       "      <td></td>\n",
       "      <td>None</td>\n",
       "      <td>None</td>\n",
       "      <td>None</td>\n",
       "      <td>None</td>\n",
       "      <td>None</td>\n",
       "      <td>None</td>\n",
       "      <td>None</td>\n",
       "      <td>None</td>\n",
       "      <td>None</td>\n",
       "      <td>None</td>\n",
       "      <td>None</td>\n",
       "      <td>None</td>\n",
       "    </tr>\n",
       "    <tr>\n",
       "      <th>...</th>\n",
       "      <td>...</td>\n",
       "      <td>...</td>\n",
       "      <td>...</td>\n",
       "      <td>...</td>\n",
       "      <td>...</td>\n",
       "      <td>...</td>\n",
       "      <td>...</td>\n",
       "      <td>...</td>\n",
       "      <td>...</td>\n",
       "      <td>...</td>\n",
       "      <td>...</td>\n",
       "      <td>...</td>\n",
       "      <td>...</td>\n",
       "      <td>...</td>\n",
       "      <td>...</td>\n",
       "      <td>...</td>\n",
       "      <td>...</td>\n",
       "    </tr>\n",
       "    <tr>\n",
       "      <th>495</th>\n",
       "      <td>what</td>\n",
       "      <td>jewish</td>\n",
       "      <td>bible</td>\n",
       "      <td>called</td>\n",
       "      <td></td>\n",
       "      <td>None</td>\n",
       "      <td>None</td>\n",
       "      <td>None</td>\n",
       "      <td>None</td>\n",
       "      <td>None</td>\n",
       "      <td>None</td>\n",
       "      <td>None</td>\n",
       "      <td>None</td>\n",
       "      <td>None</td>\n",
       "      <td>None</td>\n",
       "      <td>None</td>\n",
       "      <td>None</td>\n",
       "    </tr>\n",
       "    <tr>\n",
       "      <th>496</th>\n",
       "      <td>why</td>\n",
       "      <td>grass</td>\n",
       "      <td>green</td>\n",
       "      <td></td>\n",
       "      <td>None</td>\n",
       "      <td>None</td>\n",
       "      <td>None</td>\n",
       "      <td>None</td>\n",
       "      <td>None</td>\n",
       "      <td>None</td>\n",
       "      <td>None</td>\n",
       "      <td>None</td>\n",
       "      <td>None</td>\n",
       "      <td>None</td>\n",
       "      <td>None</td>\n",
       "      <td>None</td>\n",
       "      <td>None</td>\n",
       "    </tr>\n",
       "    <tr>\n",
       "      <th>497</th>\n",
       "      <td>what</td>\n",
       "      <td>firewall</td>\n",
       "      <td></td>\n",
       "      <td>None</td>\n",
       "      <td>None</td>\n",
       "      <td>None</td>\n",
       "      <td>None</td>\n",
       "      <td>None</td>\n",
       "      <td>None</td>\n",
       "      <td>None</td>\n",
       "      <td>None</td>\n",
       "      <td>None</td>\n",
       "      <td>None</td>\n",
       "      <td>None</td>\n",
       "      <td>None</td>\n",
       "      <td>None</td>\n",
       "      <td>None</td>\n",
       "    </tr>\n",
       "    <tr>\n",
       "      <th>498</th>\n",
       "      <td>what</td>\n",
       "      <td>spy</td>\n",
       "      <td>novelist</td>\n",
       "      <td>served</td>\n",
       "      <td>moscow</td>\n",
       "      <td>correspondent</td>\n",
       "      <td>reuter</td>\n",
       "      <td>the</td>\n",
       "      <td>times</td>\n",
       "      <td>london</td>\n",
       "      <td></td>\n",
       "      <td>None</td>\n",
       "      <td>None</td>\n",
       "      <td>None</td>\n",
       "      <td>None</td>\n",
       "      <td>None</td>\n",
       "      <td>None</td>\n",
       "    </tr>\n",
       "    <tr>\n",
       "      <th>499</th>\n",
       "      <td>which</td>\n",
       "      <td>oil</td>\n",
       "      <td>company</td>\n",
       "      <td>almost</td>\n",
       "      <td>picked</td>\n",
       "      <td>word</td>\n",
       "      <td>meant</td>\n",
       "      <td>stalled</td>\n",
       "      <td>car</td>\n",
       "      <td>''</td>\n",
       "      <td>japanese</td>\n",
       "      <td>new</td>\n",
       "      <td>international</td>\n",
       "      <td>name</td>\n",
       "      <td>None</td>\n",
       "      <td>None</td>\n",
       "      <td>None</td>\n",
       "    </tr>\n",
       "  </tbody>\n",
       "</table>\n",
       "<p>500 rows × 17 columns</p>\n",
       "</div>"
      ],
      "text/plain": [
       "        0         1         2          3            4              5       6   \\\n",
       "0      how   serfdom   develop      leave       russia                   None   \n",
       "1     what     films  featured  character       popeye          doyle           \n",
       "2      how         i      find       list  celebrities              '    real   \n",
       "3     what      fowl     grabs  spotlight      chinese           year  monkey   \n",
       "4     what      full      form       .com                        None    None   \n",
       "..     ...       ...       ...        ...          ...            ...     ...   \n",
       "495   what    jewish     bible     called                        None    None   \n",
       "496    why     grass     green                    None           None    None   \n",
       "497   what  firewall                 None         None           None    None   \n",
       "498   what       spy  novelist     served       moscow  correspondent  reuter   \n",
       "499  which       oil   company     almost       picked           word   meant   \n",
       "\n",
       "          7      8       9         10    11             12    13    14    15  \\\n",
       "0       None   None    None      None  None           None  None  None  None   \n",
       "1       None   None    None      None  None           None  None  None  None   \n",
       "2      names           None      None  None           None  None  None  None   \n",
       "3              None    None      None  None           None  None  None  None   \n",
       "4       None   None    None      None  None           None  None  None  None   \n",
       "..       ...    ...     ...       ...   ...            ...   ...   ...   ...   \n",
       "495     None   None    None      None  None           None  None  None  None   \n",
       "496     None   None    None      None  None           None  None  None  None   \n",
       "497     None   None    None      None  None           None  None  None  None   \n",
       "498      the  times  london            None           None  None  None  None   \n",
       "499  stalled    car      ''  japanese   new  international  name  None  None   \n",
       "\n",
       "       16  \n",
       "0    None  \n",
       "1    None  \n",
       "2    None  \n",
       "3    None  \n",
       "4    None  \n",
       "..    ...  \n",
       "495  None  \n",
       "496  None  \n",
       "497  None  \n",
       "498  None  \n",
       "499  None  \n",
       "\n",
       "[500 rows x 17 columns]"
      ]
     },
     "execution_count": 82,
     "metadata": {},
     "output_type": "execute_result"
    }
   ],
   "source": [
    "#test data\n",
    "#one token per cell --- from text_clean\n",
    "test_text_clean_df = test_df['text_clean'].str.split(\" \", expand=True)\n",
    "\n",
    "# print test, train shape\n",
    "print(f'---shapes---\\ntest_df:\\t\\t{test_df.shape}\\\n",
    "\\ntest_text_clean:\\t{test_text_clean_df.shape}')\n",
    "\n",
    "test_text_clean_df "
   ]
  },
  {
   "cell_type": "code",
   "execution_count": 83,
   "metadata": {
    "id": "u18uweO8Z0L-"
   },
   "outputs": [
    {
     "data": {
      "text/plain": [
       "(500, 23)"
      ]
     },
     "execution_count": 83,
     "metadata": {},
     "output_type": "execute_result"
    }
   ],
   "source": [
    "test_final_df = test_df.join(test_text_clean_df)\n",
    "test_final_df.shape"
   ]
  },
  {
   "cell_type": "code",
   "execution_count": 84,
   "metadata": {
    "id": "ljrdg2I2Z0L-"
   },
   "outputs": [
    {
     "name": "stdout",
     "output_type": "stream",
     "text": [
      "(500, 23)\n"
     ]
    },
    {
     "data": {
      "text/html": [
       "<div>\n",
       "<style scoped>\n",
       "    .dataframe tbody tr th:only-of-type {\n",
       "        vertical-align: middle;\n",
       "    }\n",
       "\n",
       "    .dataframe tbody tr th {\n",
       "        vertical-align: top;\n",
       "    }\n",
       "\n",
       "    .dataframe thead th {\n",
       "        text-align: right;\n",
       "    }\n",
       "</style>\n",
       "<table border=\"1\" class=\"dataframe\">\n",
       "  <thead>\n",
       "    <tr style=\"text-align: right;\">\n",
       "      <th></th>\n",
       "      <th>raw</th>\n",
       "      <th>category</th>\n",
       "      <th>subcategory</th>\n",
       "      <th>question</th>\n",
       "      <th>text</th>\n",
       "      <th>text_clean</th>\n",
       "      <th>0</th>\n",
       "      <th>1</th>\n",
       "      <th>2</th>\n",
       "      <th>3</th>\n",
       "      <th>...</th>\n",
       "      <th>7</th>\n",
       "      <th>8</th>\n",
       "      <th>9</th>\n",
       "      <th>10</th>\n",
       "      <th>11</th>\n",
       "      <th>12</th>\n",
       "      <th>13</th>\n",
       "      <th>14</th>\n",
       "      <th>15</th>\n",
       "      <th>16</th>\n",
       "    </tr>\n",
       "  </thead>\n",
       "  <tbody>\n",
       "    <tr>\n",
       "      <th>0</th>\n",
       "      <td>NUM:dist How far is it from Denver to Aspen ?</td>\n",
       "      <td>DESC</td>\n",
       "      <td>manner</td>\n",
       "      <td>How did serfdom develop in and then leave Russ...</td>\n",
       "      <td>How serfdom develop leave Russia ?</td>\n",
       "      <td>how serfdom develop leave russia</td>\n",
       "      <td>how</td>\n",
       "      <td>serfdom</td>\n",
       "      <td>develop</td>\n",
       "      <td>leave</td>\n",
       "      <td>...</td>\n",
       "      <td>None</td>\n",
       "      <td>None</td>\n",
       "      <td>None</td>\n",
       "      <td>None</td>\n",
       "      <td>None</td>\n",
       "      <td>None</td>\n",
       "      <td>None</td>\n",
       "      <td>None</td>\n",
       "      <td>None</td>\n",
       "      <td>None</td>\n",
       "    </tr>\n",
       "    <tr>\n",
       "      <th>1</th>\n",
       "      <td>LOC:city What county is Modesto , California in ?</td>\n",
       "      <td>ENTY</td>\n",
       "      <td>cremat</td>\n",
       "      <td>What films featured the character Popeye Doyle ?</td>\n",
       "      <td>What films featured character Popeye Doyle ?</td>\n",
       "      <td>what films featured character popeye doyle</td>\n",
       "      <td>what</td>\n",
       "      <td>films</td>\n",
       "      <td>featured</td>\n",
       "      <td>character</td>\n",
       "      <td>...</td>\n",
       "      <td>None</td>\n",
       "      <td>None</td>\n",
       "      <td>None</td>\n",
       "      <td>None</td>\n",
       "      <td>None</td>\n",
       "      <td>None</td>\n",
       "      <td>None</td>\n",
       "      <td>None</td>\n",
       "      <td>None</td>\n",
       "      <td>None</td>\n",
       "    </tr>\n",
       "    <tr>\n",
       "      <th>2</th>\n",
       "      <td>HUM:desc Who was Galileo ?</td>\n",
       "      <td>DESC</td>\n",
       "      <td>manner</td>\n",
       "      <td>How can I find a list of celebrities ' real na...</td>\n",
       "      <td>How I find list celebrities ' real names ?</td>\n",
       "      <td>how i find list celebrities ' real names</td>\n",
       "      <td>how</td>\n",
       "      <td>i</td>\n",
       "      <td>find</td>\n",
       "      <td>list</td>\n",
       "      <td>...</td>\n",
       "      <td>names</td>\n",
       "      <td></td>\n",
       "      <td>None</td>\n",
       "      <td>None</td>\n",
       "      <td>None</td>\n",
       "      <td>None</td>\n",
       "      <td>None</td>\n",
       "      <td>None</td>\n",
       "      <td>None</td>\n",
       "      <td>None</td>\n",
       "    </tr>\n",
       "    <tr>\n",
       "      <th>3</th>\n",
       "      <td>DESC:def What is an atom ?</td>\n",
       "      <td>ENTY</td>\n",
       "      <td>animal</td>\n",
       "      <td>What fowl grabs the spotlight after the Chines...</td>\n",
       "      <td>What fowl grabs spotlight Chinese Year Monkey ?</td>\n",
       "      <td>what fowl grabs spotlight chinese year monkey</td>\n",
       "      <td>what</td>\n",
       "      <td>fowl</td>\n",
       "      <td>grabs</td>\n",
       "      <td>spotlight</td>\n",
       "      <td>...</td>\n",
       "      <td></td>\n",
       "      <td>None</td>\n",
       "      <td>None</td>\n",
       "      <td>None</td>\n",
       "      <td>None</td>\n",
       "      <td>None</td>\n",
       "      <td>None</td>\n",
       "      <td>None</td>\n",
       "      <td>None</td>\n",
       "      <td>None</td>\n",
       "    </tr>\n",
       "    <tr>\n",
       "      <th>4</th>\n",
       "      <td>NUM:date When did Hawaii become a state ?</td>\n",
       "      <td>ABBR</td>\n",
       "      <td>exp</td>\n",
       "      <td>What is the full form of .com ?</td>\n",
       "      <td>What full form .com ?</td>\n",
       "      <td>what full form .com</td>\n",
       "      <td>what</td>\n",
       "      <td>full</td>\n",
       "      <td>form</td>\n",
       "      <td>.com</td>\n",
       "      <td>...</td>\n",
       "      <td>None</td>\n",
       "      <td>None</td>\n",
       "      <td>None</td>\n",
       "      <td>None</td>\n",
       "      <td>None</td>\n",
       "      <td>None</td>\n",
       "      <td>None</td>\n",
       "      <td>None</td>\n",
       "      <td>None</td>\n",
       "      <td>None</td>\n",
       "    </tr>\n",
       "  </tbody>\n",
       "</table>\n",
       "<p>5 rows × 23 columns</p>\n",
       "</div>"
      ],
      "text/plain": [
       "                                                 raw category subcategory  \\\n",
       "0      NUM:dist How far is it from Denver to Aspen ?     DESC      manner   \n",
       "1  LOC:city What county is Modesto , California in ?     ENTY      cremat   \n",
       "2                         HUM:desc Who was Galileo ?     DESC      manner   \n",
       "3                         DESC:def What is an atom ?     ENTY      animal   \n",
       "4          NUM:date When did Hawaii become a state ?     ABBR         exp   \n",
       "\n",
       "                                            question  \\\n",
       "0  How did serfdom develop in and then leave Russ...   \n",
       "1   What films featured the character Popeye Doyle ?   \n",
       "2  How can I find a list of celebrities ' real na...   \n",
       "3  What fowl grabs the spotlight after the Chines...   \n",
       "4                    What is the full form of .com ?   \n",
       "\n",
       "                                              text  \\\n",
       "0               How serfdom develop leave Russia ?   \n",
       "1     What films featured character Popeye Doyle ?   \n",
       "2       How I find list celebrities ' real names ?   \n",
       "3  What fowl grabs spotlight Chinese Year Monkey ?   \n",
       "4                            What full form .com ?   \n",
       "\n",
       "                                       text_clean     0        1         2  \\\n",
       "0               how serfdom develop leave russia    how  serfdom   develop   \n",
       "1     what films featured character popeye doyle   what    films  featured   \n",
       "2       how i find list celebrities ' real names    how        i      find   \n",
       "3  what fowl grabs spotlight chinese year monkey   what     fowl     grabs   \n",
       "4                            what full form .com   what     full      form   \n",
       "\n",
       "           3  ...      7     8     9    10    11    12    13    14    15    16  \n",
       "0      leave  ...   None  None  None  None  None  None  None  None  None  None  \n",
       "1  character  ...   None  None  None  None  None  None  None  None  None  None  \n",
       "2       list  ...  names        None  None  None  None  None  None  None  None  \n",
       "3  spotlight  ...         None  None  None  None  None  None  None  None  None  \n",
       "4       .com  ...   None  None  None  None  None  None  None  None  None  None  \n",
       "\n",
       "[5 rows x 23 columns]"
      ]
     },
     "execution_count": 84,
     "metadata": {},
     "output_type": "execute_result"
    }
   ],
   "source": [
    "test_final_df = test_df.join(test_text_clean_df)\n",
    "print(test_final_df.shape)\n",
    "test_final_df.head()\n"
   ]
  },
  {
   "cell_type": "markdown",
   "metadata": {
    "id": "D_lER8k-Z0L-"
   },
   "source": [
    "again for test data"
   ]
  },
  {
   "cell_type": "code",
   "execution_count": 85,
   "metadata": {
    "id": "yDgeZ-9mZ0L-"
   },
   "outputs": [],
   "source": [
    "#test_question_df = test_df['question'].str.split(\" \", expand=True)   tbd. to be cleaned with stopwords\n",
    "#test_question_df"
   ]
  },
  {
   "cell_type": "code",
   "execution_count": 86,
   "metadata": {
    "id": "PrRdQ-ISZ0L-"
   },
   "outputs": [
    {
     "name": "stdout",
     "output_type": "stream",
     "text": [
      "How serfdom develop leave Russia ?######What films featured character Popeye Doyle ?######How I find list celebrities ' real names ?######What fowl grabs spotlight Chinese Year Monkey ?######What full form .com ?######What contemptible scoundrel stole cork lunch ?######What team baseball 's St. Louis Browns become ?######What oldest profession ?######What liver enzymes ?######Name scar-faced bounty hunter The Old West .######When Ozzy Osbourne born ?######Why heavier objects travel downhill fast\n"
     ]
    }
   ],
   "source": [
    "# corpus df_test['text'] --> function stopwords\n",
    "text_corpus_test = stopword_text(corpus_test) \n",
    "print(text_corpus_test[:500])"
   ]
  },
  {
   "cell_type": "code",
   "execution_count": 87,
   "metadata": {
    "id": "fpGfeO5KZ0L-"
   },
   "outputs": [
    {
     "name": "stdout",
     "output_type": "stream",
     "text": [
      "how serfdom develop leave russia ######what films featured character popeye doyle ######how i find list celebrities ' real names ######what fowl grabs spotlight chinese year monkey ######what full form .com ######what contemptible scoundrel stole cork lunch ######what team baseball st. louis browns become ######what oldest profession ######what liver enzymes ######name scar faced bounty hunter the old west .######when ozzy osbourne born ######why heavier objects travel downhill faster ######who \n"
     ]
    }
   ],
   "source": [
    "# corpus df_train['text'] --> function clean_text\n",
    "clean_corpus_test = clean_text(text_corpus_test)\n",
    "print(clean_corpus_test[:500])\n"
   ]
  },
  {
   "cell_type": "code",
   "execution_count": 88,
   "metadata": {
    "id": "Rru6oUumZ0L-"
   },
   "outputs": [
    {
     "data": {
      "text/html": [
       "<div>\n",
       "<style scoped>\n",
       "    .dataframe tbody tr th:only-of-type {\n",
       "        vertical-align: middle;\n",
       "    }\n",
       "\n",
       "    .dataframe tbody tr th {\n",
       "        vertical-align: top;\n",
       "    }\n",
       "\n",
       "    .dataframe thead th {\n",
       "        text-align: right;\n",
       "    }\n",
       "</style>\n",
       "<table border=\"1\" class=\"dataframe\">\n",
       "  <thead>\n",
       "    <tr style=\"text-align: right;\">\n",
       "      <th></th>\n",
       "      <th>raw</th>\n",
       "      <th>category</th>\n",
       "      <th>subcategory</th>\n",
       "      <th>question</th>\n",
       "      <th>text</th>\n",
       "      <th>text_clean</th>\n",
       "    </tr>\n",
       "  </thead>\n",
       "  <tbody>\n",
       "    <tr>\n",
       "      <th>0</th>\n",
       "      <td>NUM:dist How far is it from Denver to Aspen ?</td>\n",
       "      <td>DESC</td>\n",
       "      <td>manner</td>\n",
       "      <td>How did serfdom develop in and then leave Russ...</td>\n",
       "      <td>How serfdom develop leave Russia ?</td>\n",
       "      <td>how serfdom develop leave russia</td>\n",
       "    </tr>\n",
       "    <tr>\n",
       "      <th>1</th>\n",
       "      <td>LOC:city What county is Modesto , California in ?</td>\n",
       "      <td>ENTY</td>\n",
       "      <td>cremat</td>\n",
       "      <td>What films featured the character Popeye Doyle ?</td>\n",
       "      <td>What films featured character Popeye Doyle ?</td>\n",
       "      <td>what films featured character popeye doyle</td>\n",
       "    </tr>\n",
       "  </tbody>\n",
       "</table>\n",
       "</div>"
      ],
      "text/plain": [
       "                                                 raw category subcategory  \\\n",
       "0      NUM:dist How far is it from Denver to Aspen ?     DESC      manner   \n",
       "1  LOC:city What county is Modesto , California in ?     ENTY      cremat   \n",
       "\n",
       "                                            question  \\\n",
       "0  How did serfdom develop in and then leave Russ...   \n",
       "1   What films featured the character Popeye Doyle ?   \n",
       "\n",
       "                                           text  \\\n",
       "0            How serfdom develop leave Russia ?   \n",
       "1  What films featured character Popeye Doyle ?   \n",
       "\n",
       "                                    text_clean  \n",
       "0            how serfdom develop leave russia   \n",
       "1  what films featured character popeye doyle   "
      ]
     },
     "execution_count": 88,
     "metadata": {},
     "output_type": "execute_result"
    }
   ],
   "source": [
    "#text column generated from question deleting stopwords\n",
    "test_df['text'] = text_corpus_test.split('######')      \n",
    "test_df.head(2)"
   ]
  },
  {
   "cell_type": "code",
   "execution_count": 89,
   "metadata": {
    "id": "1WGNI1hNZ0L-"
   },
   "outputs": [
    {
     "data": {
      "image/png": "[encoded data removed]",
      "text/plain": [
       "<Figure size 432x288 with 1 Axes>"
      ]
     },
     "metadata": {
      "needs_background": "light"
     },
     "output_type": "display_data"
    },
    {
     "name": "stdout",
     "output_type": "stream",
     "text": [
      "The texts have a mean length of 7 tokens.\n",
      "The longest text has 20 tokens, the shortest has 3 tokens.\n"
     ]
    }
   ],
   "source": [
    "# distribution of length of questions, test_df['text']\n",
    "df = test_df['text']     # anzupassen\n",
    "title = 'Distribution of shortened text (test)'\n",
    "diagram ='length_short_test'\n",
    "\n",
    "get_plot_length_text(df, title, diagram)"
   ]
  },
  {
   "cell_type": "code",
   "execution_count": 90,
   "metadata": {
    "id": "iyfPbn2OZ0L-"
   },
   "outputs": [
    {
     "name": "stdout",
     "output_type": "stream",
     "text": [
      "0 :  100.0\n",
      "1 :  100.0\n",
      "2 :  100.0\n",
      "3 :  100.0\n",
      "4 :  97.2\n",
      "5 :  92.2\n",
      "6 :  84.0\n",
      "7 :  73.4\n",
      "8 :  61.2\n",
      "9 :  48.0\n",
      "10 :  36.6\n",
      "11 :  26.2\n",
      "12 :  18.6\n",
      "13 :  12.2\n",
      "14 :  9.0\n",
      "15 :  6.0\n",
      "16 :  4.6\n",
      "17 :  3.2\n",
      "18 :  1.6\n",
      "19 :  1.2\n",
      "20 :  1.0\n",
      "21 :  0.8\n",
      "22 :  0.6\n",
      "23 :  0.4\n",
      "24 :  0.4\n",
      "25 :  0.4\n",
      "26 :  0.2\n",
      "27 :  0.2\n"
     ]
    }
   ],
   "source": [
    "#percentage distribution of tokens (test)\n",
    "for column in test_question_df.columns:\n",
    "    nan_sum = test_question_df[column].isnull().sum()\n",
    "    print(column,': ',round(100.00-(nan_sum*100/len(test_question_df)),2))"
   ]
  },
  {
   "cell_type": "code",
   "execution_count": null,
   "metadata": {
    "id": "6wThApVLZ0L-"
   },
   "outputs": [],
   "source": []
  }
 ],
 "metadata": {
  "accelerator": "GPU",
  "colab": {
   "collapsed_sections": [],
   "name": "eda_1.ipynb",
   "provenance": [],
   "toc_visible": true
  },
  "kernelspec": {
   "display_name": "Python 3.6 (test)",
   "language": "python",
   "name": "test"
  },
  "language_info": {
   "codemirror_mode": {
    "name": "ipython",
    "version": 3
   },
   "file_extension": ".py",
   "mimetype": "text/x-python",
   "name": "python",
   "nbconvert_exporter": "python",
   "pygments_lexer": "ipython3",
   "version": "3.7.9"
  }
 },
 "nbformat": 4,
 "nbformat_minor": 1
}