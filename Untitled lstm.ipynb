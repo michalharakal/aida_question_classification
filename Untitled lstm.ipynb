{
 "cells": [
  {
   "cell_type": "code",
   "execution_count": 1,
   "metadata": {},
   "outputs": [],
   "source": [
    "import tensorflow as tf\n",
    "import tensorflow.keras\n",
    "from tensorflow.keras.preprocessing import sequence \n",
    "from tensorflow.keras.preprocessing.text import Tokenizer\n",
    "#preprocess.py written for keras"
   ]
  },
  {
   "cell_type": "code",
   "execution_count": 2,
   "metadata": {},
   "outputs": [
    {
     "name": "stderr",
     "output_type": "stream",
     "text": [
      "[nltk_data] Downloading package wordnet to /home/an/nltk_data...\n",
      "[nltk_data]   Package wordnet is already up-to-date!\n",
      "[nltk_data] Downloading package stopwords to /home/an/nltk_data...\n",
      "[nltk_data]   Package stopwords is already up-to-date!\n"
     ]
    },
    {
     "ename": "ModuleNotFoundError",
     "evalue": "No module named 'keras'",
     "output_type": "error",
     "traceback": [
      "\u001b[0;31m---------------------------------------------------------------------------\u001b[0m",
      "\u001b[0;31mModuleNotFoundError\u001b[0m                       Traceback (most recent call last)",
      "\u001b[0;32m<ipython-input-2-d3643f570d31>\u001b[0m in \u001b[0;36m<module>\u001b[0;34m\u001b[0m\n\u001b[1;32m      1\u001b[0m \u001b[0;32mimport\u001b[0m \u001b[0mdata\u001b[0m\u001b[0;34m.\u001b[0m\u001b[0mget_data\u001b[0m \u001b[0;32mas\u001b[0m \u001b[0mdata\u001b[0m\u001b[0;34m\u001b[0m\u001b[0;34m\u001b[0m\u001b[0m\n\u001b[0;32m----> 2\u001b[0;31m \u001b[0;32mimport\u001b[0m \u001b[0mdata\u001b[0m\u001b[0;34m.\u001b[0m\u001b[0mpreprocess\u001b[0m \u001b[0;32mas\u001b[0m \u001b[0mdp\u001b[0m\u001b[0;34m\u001b[0m\u001b[0;34m\u001b[0m\u001b[0m\n\u001b[0m\u001b[1;32m      3\u001b[0m \u001b[0;32mfrom\u001b[0m \u001b[0mmodels\u001b[0m\u001b[0;34m.\u001b[0m\u001b[0mlstm\u001b[0m \u001b[0;32mimport\u001b[0m \u001b[0mlstm_model\u001b[0m \u001b[0;32mas\u001b[0m \u001b[0mlstm_model\u001b[0m\u001b[0;34m\u001b[0m\u001b[0;34m\u001b[0m\u001b[0m\n\u001b[1;32m      4\u001b[0m \u001b[0;32mfrom\u001b[0m \u001b[0mmodels\u001b[0m\u001b[0;34m.\u001b[0m\u001b[0mlstm\u001b[0m \u001b[0;32mimport\u001b[0m \u001b[0mevaluate\u001b[0m \u001b[0;32mas\u001b[0m \u001b[0mlstm_evaluate\u001b[0m\u001b[0;34m\u001b[0m\u001b[0;34m\u001b[0m\u001b[0m\n\u001b[1;32m      5\u001b[0m \u001b[0;32mimport\u001b[0m \u001b[0mutils\u001b[0m\u001b[0;34m.\u001b[0m\u001b[0mtf_utils\u001b[0m \u001b[0;32mas\u001b[0m \u001b[0mtf_utils\u001b[0m\u001b[0;34m\u001b[0m\u001b[0;34m\u001b[0m\u001b[0m\n",
      "\u001b[0;32m~/aida_question_classification/data/preprocess.py\u001b[0m in \u001b[0;36m<module>\u001b[0;34m\u001b[0m\n\u001b[1;32m      4\u001b[0m \u001b[0;32mfrom\u001b[0m \u001b[0msklearn\u001b[0m\u001b[0;34m.\u001b[0m\u001b[0mfeature_extraction\u001b[0m\u001b[0;34m.\u001b[0m\u001b[0mtext\u001b[0m \u001b[0;32mimport\u001b[0m \u001b[0mCountVectorizer\u001b[0m\u001b[0;34m,\u001b[0m \u001b[0mTfidfVectorizer\u001b[0m\u001b[0;34m\u001b[0m\u001b[0;34m\u001b[0m\u001b[0m\n\u001b[1;32m      5\u001b[0m \u001b[0;32mimport\u001b[0m \u001b[0mpandas\u001b[0m \u001b[0;32mas\u001b[0m \u001b[0mpd\u001b[0m\u001b[0;34m\u001b[0m\u001b[0;34m\u001b[0m\u001b[0m\n\u001b[0;32m----> 6\u001b[0;31m \u001b[0;32mfrom\u001b[0m \u001b[0mkeras\u001b[0m\u001b[0;34m.\u001b[0m\u001b[0mpreprocessing\u001b[0m \u001b[0;32mimport\u001b[0m \u001b[0msequence\u001b[0m\u001b[0;34m\u001b[0m\u001b[0;34m\u001b[0m\u001b[0m\n\u001b[0m\u001b[1;32m      7\u001b[0m \u001b[0;34m\u001b[0m\u001b[0m\n\u001b[1;32m      8\u001b[0m \u001b[0;32mfrom\u001b[0m \u001b[0mkeras\u001b[0m\u001b[0;34m.\u001b[0m\u001b[0mpreprocessing\u001b[0m\u001b[0;34m.\u001b[0m\u001b[0mtext\u001b[0m \u001b[0;32mimport\u001b[0m \u001b[0mTokenizer\u001b[0m\u001b[0;34m\u001b[0m\u001b[0;34m\u001b[0m\u001b[0m\n",
      "\u001b[0;31mModuleNotFoundError\u001b[0m: No module named 'keras'"
     ]
    }
   ],
   "source": [
    "import data.get_data as data\n",
    "import data.preprocess as dp\n",
    "from models.lstm import lstm_model as lstm_model\n",
    "from models.lstm import evaluate as lstm_evaluate\n",
    "import utils.tf_utils as tf_utils\n",
    "import models.lstm.predict_lstm as lstm_predict\n",
    "\n",
    "\n",
    "def prepare_data(data_column=\"question\", classes_column=\"category\"):\n",
    "    # get data\n",
    "    test_df = data.get_test_data()\n",
    "    train_df = data.get_train_data()\n",
    "    # preprocess data\n",
    "    (X_train, y_train), (X_test, y_test), sequence_length, vocab_size, tokenizer = dp.preprocess_data(train_df, test_df,\n",
    "                                                                                           data_column, classes_column)\n",
    "    return (X_train, y_train), (X_test, y_test), sequence_length, vocab_size, tokenizer\n",
    "\n",
    "\n",
    "def lstm_dropout_model_unprocessed_data():\n",
    "    # get and preprocess data\n",
    "    (X_train, y_train), (X_test, y_test), sequence_length, vocab_size, tokenizer = prepare_data(data_column=\"text\")\n",
    "    # build and train model\n",
    "    model = lstm_model.build_classifier_lstm_dropout(vocab_size, sequence_length, y_train.shape[1])\n",
    "    history = lstm_model.train(model, X_train, y_train)\n",
    "    # evaluate\n",
    "    test_df = data.get_test_data()\n",
    "    lstm_evaluate.evaluate_lstm(model, X_test, y_test, test_df)\n",
    "    lstm_evaluate.render_plot(model.name, history)\n",
    "    test_df = data.get_test_data()\n",
    "    lstm_predict.print_predictions(model, tokenizer, X_test, test_df)\n",
    "\n",
    "\n",
    "def simple_model_simple_lemmas_data():\n",
    "    (X_train, y_train), (X_test, y_test), sequence_length, vocab_size, tokenizer = prepare_data(data_column=\"text\")\n",
    "    # build and train model\n",
    "    model = lstm_model.build_classifier_lstm_dropout(vocab_size, sequence_length, y_train.shape[1])\n",
    "    history = lstm_model.train(model, X_train, y_train)\n",
    "    # evaluate\n",
    "    test_df = data.get_test_data()\n",
    "    lstm_evaluate.evaluate_lstm(model, X_test, y_test, test_df)\n",
    "    lstm_evaluate.render_plot(model.name, history)\n",
    "\n",
    "\n",
    "def main():\n",
    "    (X_train, y_train), (X_test, y_test), sequence_length, vocab_size = prepare_data()\n",
    "    # build and train model\n",
    "    model = lstm_model.build_classifier_xx(vocab_size, sequence_length, y_train.shape[1])\n",
    "    history = lstm_model.train(model, X_train, y_train)\n",
    "    # evaluate\n",
    "    test_df = data.get_test_data()\n",
    "    lstm_evaluate.evaluate_lstm(model, X_test, y_test, test_df)\n",
    "    lstm_evaluate.render_plot(history)\n",
    "\n",
    "\n",
    "def export_plot_models():\n",
    "    # TODO delete\n",
    "    (X_train, y_train), (X_test, y_test), sequence_length, vocab_size = prepare_data()\n",
    "    model_dropout = lstm_model.build_classifier_lstm_dropout(vocab_size, sequence_length, y_train.shape[1])\n",
    "    lstm_model.plot_model_summary(model_dropout)\n",
    "    model_lstm2_dense2 = lstm_model.build_classifier_lstm2_dense2(vocab_size, sequence_length, y_train.shape[1])\n",
    "    lstm_model.plot_model_summary(model_lstm2_dense2)\n",
    "    model_lstm3 = lstm_model.build_classifier_lstm3(vocab_size, sequence_length, y_train.shape[1])\n",
    "    lstm_model.plot_model_summary(model_lstm3)\n",
    "\n",
    "\n",
    "if __name__ == '__main__':\n",
    "    tf_utils.activate_compatibility_allow_growth()\n",
    "    lstm_dropout_model_unprocessed_data()\n",
    "    # export_plot_models()\n"
   ]
  },
  {
   "cell_type": "code",
   "execution_count": null,
   "metadata": {},
   "outputs": [],
   "source": []
  }
 ],
 "metadata": {
  "kernelspec": {
   "display_name": "Python 3.6 (test)",
   "language": "python",
   "name": "test"
  },
  "language_info": {
   "codemirror_mode": {
    "name": "ipython",
    "version": 3
   },
   "file_extension": ".py",
   "mimetype": "text/x-python",
   "name": "python",
   "nbconvert_exporter": "python",
   "pygments_lexer": "ipython3",
   "version": "3.7.9"
  }
 },
 "nbformat": 4,
 "nbformat_minor": 4
}
